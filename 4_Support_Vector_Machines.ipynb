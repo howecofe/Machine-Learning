{
  "nbformat": 4,
  "nbformat_minor": 0,
  "metadata": {
    "colab": {
      "name": "Jiyun Lee - _5 서포트 벡터 머신(Support Vector Machines).ipynb",
      "provenance": [],
      "collapsed_sections": []
    },
    "kernelspec": {
      "name": "python3",
      "display_name": "Python 3"
    }
  },
  "cells": [
    {
      "cell_type": "markdown",
      "metadata": {
        "id": "g63soNOvFUSa"
      },
      "source": [
        "# 서포트 벡터 머신(Support Vector Machines)"
      ]
    },
    {
      "cell_type": "markdown",
      "metadata": {
        "id": "Rrbp02Mk5CDA"
      },
      "source": [
        "* 회귀, 분류, 이상치 탐지 등에 사용되는 지도학습 방법\n",
        "* 클래스 사이의 경계에 위치한 데이터 포인트를 서포트 벡터(support vector)라고 함\n",
        "* 각 지지 벡터가 클래스 사이의 결정 경계를 구분하는데 얼마나 중요한지를 학습\n",
        "* 각 지지 벡터 사이의 마진이 가장 큰 방향으로 학습\n",
        "* 지지 벡터 까지의 거리와 지지 벡터의 중요도를 기반으로 예측을 수행\n",
        "\n",
        "![support vector machine](https://upload.wikimedia.org/wikipedia/commons/thumb/2/20/Svm_separating_hyperplanes.png/220px-Svm_separating_hyperplanes.png)\n",
        "\n",
        "* H3은 두 클래스의 점들을 제대로 분류하고 있지 않음\n",
        "* H1과 H2는 두 클래스의 점들을 분류하는데, H2가 H1보다 더 큰 마진을 갖고 분류하는 것을 확인할 수 있음"
      ]
    },
    {
      "cell_type": "code",
      "metadata": {
        "id": "zBilnkAn4_U3"
      },
      "source": [
        "import multiprocessing\n",
        "import pandas as pd\n",
        "import numpy as np\n",
        "import matplotlib.pyplot as plt\n",
        "plt.style.use(['seaborn-whitegrid'])"
      ],
      "execution_count": null,
      "outputs": []
    },
    {
      "cell_type": "code",
      "metadata": {
        "id": "1YRJRPy6hTe0"
      },
      "source": [
        "from sklearn.svm import SVR, SVC\n",
        "from sklearn.datasets import load_boston, load_diabetes\n",
        "from sklearn.datasets import load_breast_cancer, load_iris, load_wine\n",
        "from sklearn.pipeline import make_pipeline, Pipeline\n",
        "from sklearn.model_selection import train_test_split, cross_validate, GridSearchCV\n",
        "from sklearn.preprocessing import StandardScaler, MinMaxScaler\n",
        "from sklearn.manifold import TSNE"
      ],
      "execution_count": null,
      "outputs": []
    },
    {
      "cell_type": "markdown",
      "metadata": {
        "id": "UxS0mPsCh4l0"
      },
      "source": [
        "## SVM을 이용한 회귀 모델과 분류 모델"
      ]
    },
    {
      "cell_type": "markdown",
      "metadata": {
        "id": "NTtcx3p8wtNX"
      },
      "source": [
        "### SVM을 사용한 회귀 모델 (SVR)"
      ]
    },
    {
      "cell_type": "code",
      "metadata": {
        "id": "sCrhSrMf5BqB",
        "colab": {
          "base_uri": "https://localhost:8080/",
          "height": 53
        },
        "outputId": "2440a413-b2f5-4c63-e156-44e44e41fafc"
      },
      "source": [
        "X, y = load_boston(return_X_y=True)\n",
        "X_train, X_test, y_train, y_test = train_test_split(X, y, random_state=123)\n",
        "\n",
        "model = SVR()\n",
        "model.fit(X_train, y_train)\n",
        "\n",
        "print(\"학습 데이터 점수: {}\".format(model.score(X_train, y_train)))\n",
        "print(\"평가 데이터 점수: {}\".format(model.score(X_test, y_test)))"
      ],
      "execution_count": null,
      "outputs": [
        {
          "output_type": "stream",
          "text": [
            "학습 데이터 점수: 0.2177283706374875\n",
            "평가 데이터 점수: 0.13544178468518187\n"
          ],
          "name": "stdout"
        }
      ]
    },
    {
      "cell_type": "markdown",
      "metadata": {
        "id": "CQraX6MzwvtE"
      },
      "source": [
        "### SVM을 사용한 분류 모델 (SVC)"
      ]
    },
    {
      "cell_type": "code",
      "metadata": {
        "id": "bnh5fS8gFbtK",
        "colab": {
          "base_uri": "https://localhost:8080/",
          "height": 53
        },
        "outputId": "42e14a10-7b99-43a1-f2fd-b9e1c95e2400"
      },
      "source": [
        "X, y = load_breast_cancer(return_X_y=True)\n",
        "X_train, X_test, y_train, y_test = train_test_split(X, y, random_state=123)\n",
        "\n",
        "model = SVC()\n",
        "model.fit(X_train, y_train)\n",
        "\n",
        "print(\"학습 데이터 점수: {}\".format(model.score(X_train, y_train)))\n",
        "print(\"평가 데이터 점수: {}\".format(model.score(X_test, y_test)))"
      ],
      "execution_count": null,
      "outputs": [
        {
          "output_type": "stream",
          "text": [
            "학습 데이터 점수: 0.9014084507042254\n",
            "평가 데이터 점수: 0.9230769230769231\n"
          ],
          "name": "stdout"
        }
      ]
    },
    {
      "cell_type": "markdown",
      "metadata": {
        "id": "zgd_dvKrGeFh"
      },
      "source": [
        "## 커널 기법\n",
        "\n",
        "* 입력 데이터를 고차원 공간에 사상해서 비선형 특징을 학습할 수 있도록 확장하는 방법\n",
        "* scikit-learn에서는 Linear, Polynomial, RBF(Radial Basis Function)등 다양한 커널 기법을 지원\n",
        "\n",
        "![kernel trick](https://scikit-learn.org/stable/_images/sphx_glr_plot_iris_svc_0011.png)"
      ]
    },
    {
      "cell_type": "code",
      "metadata": {
        "id": "Azq1UJtZF8sU",
        "colab": {
          "base_uri": "https://localhost:8080/",
          "height": 126
        },
        "outputId": "9f644042-0f08-4b45-9769-c254b2d3027c"
      },
      "source": [
        "X, y = load_boston(return_X_y=True)\n",
        "X_train, X_test, y_train, y_test = train_test_split(X, y, random_state=123)\n",
        "\n",
        "linear_svr = SVR(kernel='linear')\n",
        "linear_svr.fit(X_train, y_train)\n",
        "\n",
        "print(\"Linear SVR 학습 데이터 점수: {}\".format(linear_svr.score(X_train, y_train)))\n",
        "print(\"Linear SVR 평가 데이터 점수: {}\".format(linear_svr.score(X_test, y_test)))\n",
        "\n",
        "polynomial_svr = SVR(kernel='poly')\n",
        "polynomial_svr.fit(X_train, y_train)\n",
        "\n",
        "print(\"Polynomial SVR 학습 데이터 점수: {}\".format(polynomial_svr.score(X_train, y_train)))\n",
        "print(\"Polynomial SVR 평가 데이터 점수: {}\".format(polynomial_svr.score(X_test, y_test)))\n",
        "\n",
        "rbf_svr = SVR(kernel='rbf')\n",
        "rbf_svr.fit(X_train, y_train)\n",
        "\n",
        "print(\"RBF SVR 학습 데이터 점수: {}\".format(rbf_svr.score(X_train, y_train)))\n",
        "print(\"RBF SVR 평가 데이터 점수: {}\".format(rbf_svr.score(X_test, y_test)))"
      ],
      "execution_count": null,
      "outputs": [
        {
          "output_type": "stream",
          "text": [
            "Linear SVR 학습 데이터 점수: 0.715506620496448\n",
            "Linear SVR 평가 데이터 점수: 0.6380398541506058\n",
            "Polynomial SVR 학습 데이터 점수: 0.2024454261446289\n",
            "Polynomial SVR 평가 데이터 점수: 0.133668450367462\n",
            "RBF SVR 학습 데이터 점수: 0.2177283706374875\n",
            "RBF SVR 평가 데이터 점수: 0.13544178468518187\n"
          ],
          "name": "stdout"
        }
      ]
    },
    {
      "cell_type": "code",
      "metadata": {
        "id": "KuvRIzarJO0H",
        "colab": {
          "base_uri": "https://localhost:8080/",
          "height": 126
        },
        "outputId": "a1b0fcc5-0639-43a0-f873-578e2962182c"
      },
      "source": [
        "X, y = load_breast_cancer(return_X_y=True)\n",
        "X_train, X_test, y_train, y_test = train_test_split(X, y, random_state=123)\n",
        "\n",
        "linear_svc = SVC(kernel='linear')\n",
        "linear_svc.fit(X_train, y_train)\n",
        "\n",
        "print(\"Linear SVR 학습 데이터 점수: {}\".format(linear_svc.score(X_train, y_train)))\n",
        "print(\"Linear SVR 평가 데이터 점수: {}\".format(linear_svc.score(X_test, y_test)))\n",
        "\n",
        "polynomial_svc = SVC(kernel='poly')\n",
        "polynomial_svc.fit(X_train, y_train)\n",
        "\n",
        "print(\"Polynomial SVR 학습 데이터 점수: {}\".format(polynomial_svc.score(X_train, y_train)))\n",
        "print(\"Polynomial SVR 평가 데이터 점수: {}\".format(polynomial_svc.score(X_test, y_test)))\n",
        "\n",
        "rbf_svc = SVC(kernel='rbf')\n",
        "rbf_svc.fit(X_train, y_train)\n",
        "\n",
        "print(\"RBF SVR 학습 데이터 점수: {}\".format(rbf_svc.score(X_train, y_train)))\n",
        "print(\"RBF SVR 평가 데이터 점수: {}\".format(rbf_svc.score(X_test, y_test)))"
      ],
      "execution_count": null,
      "outputs": [
        {
          "output_type": "stream",
          "text": [
            "Linear SVR 학습 데이터 점수: 0.960093896713615\n",
            "Linear SVR 평가 데이터 점수: 0.986013986013986\n",
            "Polynomial SVR 학습 데이터 점수: 0.9014084507042254\n",
            "Polynomial SVR 평가 데이터 점수: 0.9230769230769231\n",
            "RBF SVR 학습 데이터 점수: 0.9014084507042254\n",
            "RBF SVR 평가 데이터 점수: 0.9230769230769231\n"
          ],
          "name": "stdout"
        }
      ]
    },
    {
      "cell_type": "markdown",
      "metadata": {
        "id": "ysbUu5o3Lm2V"
      },
      "source": [
        "## 매개변수 튜닝\n",
        "\n",
        "* SVM은 사용하는 커널에 따라 다양한 매개변수 설정 가능\n",
        "* 매개변수를 변경하면서 성능변화를 관찰"
      ]
    },
    {
      "cell_type": "code",
      "metadata": {
        "id": "JyCxM4abOZyO"
      },
      "source": [
        "X, y = load_breast_cancer(return_X_y=True)\n",
        "X_train, X_test, y_train, y_test = train_test_split(X, y, random_state=123)"
      ],
      "execution_count": null,
      "outputs": []
    },
    {
      "cell_type": "code",
      "metadata": {
        "id": "QN4BSxiaJspb",
        "colab": {
          "base_uri": "https://localhost:8080/",
          "height": 71
        },
        "outputId": "2b505ae4-29ae-474a-c551-eb9e97ac2720"
      },
      "source": [
        "polynomial_svc = SVC(kernel='poly', degree=2, C=0.1, gamma='auto')\n",
        "polynomial_svc.fit(X_train, y_train)\n",
        "\n",
        "print(\"kernel=poly, degree={}, C={}, gamma={}\".format(2, 0.1, 'auto'))\n",
        "print(\"Polynomial SVR 학습 데이터 점수: {}\".format(polynomial_svc.score(X_train, y_train)))\n",
        "print(\"Polynomial SVR 평가 데이터 점수: {}\".format(polynomial_svc.score(X_test, y_test)))"
      ],
      "execution_count": null,
      "outputs": [
        {
          "output_type": "stream",
          "text": [
            "kernel=poly, degree=2, C=0.1, gamma=auto\n",
            "Polynomial SVR 학습 데이터 점수: 0.9835680751173709\n",
            "Polynomial SVR 평가 데이터 점수: 0.993006993006993\n"
          ],
          "name": "stdout"
        }
      ]
    },
    {
      "cell_type": "code",
      "metadata": {
        "id": "P7hOhO1oOvVC",
        "colab": {
          "base_uri": "https://localhost:8080/",
          "height": 71
        },
        "outputId": "04bb958f-8c5f-416f-808d-97dafe2e673b"
      },
      "source": [
        "rbf_svc = SVC(kernel='rbf', C=2.0, gamma='scale')\n",
        "rbf_svc.fit(X_train, y_train)\n",
        "\n",
        "print(\"kernel=rbf, C={}, gamma={}\".format(2.0, 'scale'))\n",
        "print(\"RBF SVR 학습 데이터 점수: {}\".format(rbf_svc.score(X_train, y_train)))\n",
        "print(\"RBF SVR 평가 데이터 점수: {}\".format(rbf_svc.score(X_test, y_test)))"
      ],
      "execution_count": null,
      "outputs": [
        {
          "output_type": "stream",
          "text": [
            "kernel=rbf, C=2.0, gamma=scale\n",
            "RBF SVR 학습 데이터 점수: 0.9154929577464789\n",
            "RBF SVR 평가 데이터 점수: 0.9370629370629371\n"
          ],
          "name": "stdout"
        }
      ]
    },
    {
      "cell_type": "markdown",
      "metadata": {
        "id": "aEQL8h8WU0An"
      },
      "source": [
        "## 데이터 전처리\n",
        "\n",
        "* SVM은 입력 데이터가 정규화 되어야 좋은 성능을 보임\n",
        "* 주로 모든 특성 값을 [0, 1] 범위로 맞추는 방법을 사용\n",
        "* scikit-learn의 StandardScaler 또는 MinMaxScaler를 사용해 정규화"
      ]
    },
    {
      "cell_type": "code",
      "metadata": {
        "id": "RujhqUOsVU73"
      },
      "source": [
        "X, y = load_breast_cancer(return_X_y=True)\n",
        "X_train, X_test, y_train, y_test = train_test_split(X, y, random_state=123)"
      ],
      "execution_count": null,
      "outputs": []
    },
    {
      "cell_type": "code",
      "metadata": {
        "id": "DWau9A6UWds4",
        "colab": {
          "base_uri": "https://localhost:8080/",
          "height": 53
        },
        "outputId": "c1413d47-d5ea-4c22-b1fd-166041164939"
      },
      "source": [
        "model = SVC()\n",
        "model.fit(X_train, y_train)\n",
        "\n",
        "print(\"SVR 학습 데이터 점수: {}\".format(model.score(X_train, y_train)))\n",
        "print(\"SVR 평가 데이터 점수: {}\".format(model.score(X_test, y_test)))"
      ],
      "execution_count": null,
      "outputs": [
        {
          "output_type": "stream",
          "text": [
            "SVR 학습 데이터 점수: 0.9014084507042254\n",
            "SVR 평가 데이터 점수: 0.9230769230769231\n"
          ],
          "name": "stdout"
        }
      ]
    },
    {
      "cell_type": "code",
      "metadata": {
        "id": "y_ScHENS0ssY"
      },
      "source": [
        "scaler = StandardScaler()\n",
        "X_train = scaler.fit_transform(X_train) # fit은 train 데이터에 대해서 한 번만.\n",
        "X_test = scaler.transform(X_test)"
      ],
      "execution_count": null,
      "outputs": []
    },
    {
      "cell_type": "code",
      "metadata": {
        "id": "R2_4R6JE0ssi",
        "colab": {
          "base_uri": "https://localhost:8080/",
          "height": 53
        },
        "outputId": "510391ac-feec-4c8b-e765-57dfdd640cfa"
      },
      "source": [
        "model = SVC()\n",
        "model.fit(X_train, y_train)\n",
        "\n",
        "print(\"SVR 학습 데이터 점수: {}\".format(model.score(X_train, y_train)))\n",
        "print(\"SVR 평가 데이터 점수: {}\".format(model.score(X_test, y_test)))"
      ],
      "execution_count": null,
      "outputs": [
        {
          "output_type": "stream",
          "text": [
            "SVR 학습 데이터 점수: 0.9835680751173709\n",
            "SVR 평가 데이터 점수: 0.986013986013986\n"
          ],
          "name": "stdout"
        }
      ]
    },
    {
      "cell_type": "code",
      "metadata": {
        "id": "_EVkj33WVQOu"
      },
      "source": [
        "scaler = MinMaxScaler()\n",
        "X_train = scaler.fit_transform(X_train)\n",
        "X_test = scaler.transform(X_test)"
      ],
      "execution_count": null,
      "outputs": []
    },
    {
      "cell_type": "code",
      "metadata": {
        "id": "D7Kj3q_bVmeN",
        "colab": {
          "base_uri": "https://localhost:8080/",
          "height": 53
        },
        "outputId": "b1a0aa2e-3071-4a25-c7a6-e47ccebb6a92"
      },
      "source": [
        "model = SVC()\n",
        "model.fit(X_train, y_train)\n",
        "\n",
        "print(\"SVR 학습 데이터 점수: {}\".format(model.score(X_train, y_train)))\n",
        "print(\"SVR 평가 데이터 점수: {}\".format(model.score(X_test, y_test)))"
      ],
      "execution_count": null,
      "outputs": [
        {
          "output_type": "stream",
          "text": [
            "SVR 학습 데이터 점수: 0.9812206572769953\n",
            "SVR 평가 데이터 점수: 0.986013986013986\n"
          ],
          "name": "stdout"
        }
      ]
    },
    {
      "cell_type": "markdown",
      "metadata": {
        "id": "zLjtZC7gYr7R"
      },
      "source": [
        "## Linear SVR"
      ]
    },
    {
      "cell_type": "markdown",
      "metadata": {
        "id": "tbZicmjAZBZp"
      },
      "source": [
        "### 보스턴 주택 가격"
      ]
    },
    {
      "cell_type": "code",
      "metadata": {
        "id": "X39InXCSYuPf"
      },
      "source": [
        "X, y = load_boston(return_X_y=True)\n",
        "X_train, X_test, y_train, y_test = train_test_split(X, y, test_size=0.2)"
      ],
      "execution_count": null,
      "outputs": []
    },
    {
      "cell_type": "code",
      "metadata": {
        "id": "I1TKwSKhdLaU"
      },
      "source": [
        "scaler = StandardScaler()\n",
        "scaler.fit(X_train)\n",
        "X_train = scaler.transform(X_train)\n",
        "X_test = scaler.transform(X_test)"
      ],
      "execution_count": null,
      "outputs": []
    },
    {
      "cell_type": "code",
      "metadata": {
        "id": "deIvkeKRZqTU",
        "colab": {
          "base_uri": "https://localhost:8080/",
          "height": 53
        },
        "outputId": "e4d0aa57-76e6-4d49-8a41-a80d5ef37191"
      },
      "source": [
        "model = SVR(kernel='linear')\n",
        "model.fit(X_train, y_train)"
      ],
      "execution_count": null,
      "outputs": [
        {
          "output_type": "execute_result",
          "data": {
            "text/plain": [
              "SVR(C=1.0, cache_size=200, coef0=0.0, degree=3, epsilon=0.1, gamma='scale',\n",
              "    kernel='linear', max_iter=-1, shrinking=True, tol=0.001, verbose=False)"
            ]
          },
          "metadata": {
            "tags": []
          },
          "execution_count": 38
        }
      ]
    },
    {
      "cell_type": "code",
      "metadata": {
        "id": "zEknoMb5aRBt",
        "colab": {
          "base_uri": "https://localhost:8080/",
          "height": 53
        },
        "outputId": "8d1667fa-0688-42a6-f6d1-53b3d718e61a"
      },
      "source": [
        "print(\"학습 데이터 점수: {}\".format(model.score(X_train, y_train)))\n",
        "print(\"평가 데이터 점수: {}\".format(model.score(X_test, y_test)))"
      ],
      "execution_count": null,
      "outputs": [
        {
          "output_type": "stream",
          "text": [
            "학습 데이터 점수: 0.7057526996114059\n",
            "평가 데이터 점수: 0.7441426255289332\n"
          ],
          "name": "stdout"
        }
      ]
    },
    {
      "cell_type": "code",
      "metadata": {
        "id": "S3ipWjbFiete",
        "colab": {
          "base_uri": "https://localhost:8080/",
          "height": 262
        },
        "outputId": "0f18ded8-8a50-4050-98f6-5aa0be011a30"
      },
      "source": [
        "X_comp = TSNE(n_components=1).fit_transform(X)\n",
        "plt.scatter(X_comp, y);\n",
        "# SVM은 고차원으로 늘려 공간상 맵핑하고 나누는 것이기 때문에 눈으로 보려면 저차원 변환이 필요. TSNE는 저차원 변환 시각화 기법."
      ],
      "execution_count": null,
      "outputs": [
        {
          "output_type": "display_data",
          "data": {
            "image/png": "[encoded data removed]",
            "text/plain": [
              "<Figure size 432x288 with 1 Axes>"
            ]
          },
          "metadata": {
            "tags": [],
            "needs_background": "light"
          }
        }
      ]
    },
    {
      "cell_type": "code",
      "metadata": {
        "id": "IqLc69hojcIr",
        "colab": {
          "base_uri": "https://localhost:8080/",
          "height": 262
        },
        "outputId": "3d1844a6-6d2f-464d-d36d-cf768a5fa3c0"
      },
      "source": [
        "model.fit(X_comp, y)\n",
        "predict = model.predict(X_comp)\n",
        "plt.scatter(X_comp, y)\n",
        "plt.scatter(X_comp, predict, color='r');"
      ],
      "execution_count": null,
      "outputs": [
        {
          "output_type": "display_data",
          "data": {
            "image/png": "[encoded data removed]",
            "text/plain": [
              "<Figure size 432x288 with 1 Axes>"
            ]
          },
          "metadata": {
            "tags": [],
            "needs_background": "light"
          }
        }
      ]
    },
    {
      "cell_type": "code",
      "metadata": {
        "id": "YzGeXLmZbGY7",
        "colab": {
          "base_uri": "https://localhost:8080/",
          "height": 108
        },
        "outputId": "e0edff87-c5b0-46e3-8c75-a6c4346ac0a6"
      },
      "source": [
        "estimator = make_pipeline(StandardScaler(), SVR(kernel='linear'))\n",
        "\n",
        "cross_validate(\n",
        "    estimator=estimator,\n",
        "    X=X, y=y,\n",
        "    cv=5,\n",
        "    n_jobs=multiprocessing.cpu_count(),\n",
        "    verbose=True\n",
        ")"
      ],
      "execution_count": null,
      "outputs": [
        {
          "output_type": "stream",
          "text": [
            "[Parallel(n_jobs=2)]: Using backend LokyBackend with 2 concurrent workers.\n",
            "[Parallel(n_jobs=2)]: Done   5 out of   5 | elapsed:    0.1s finished\n"
          ],
          "name": "stderr"
        },
        {
          "output_type": "execute_result",
          "data": {
            "text/plain": [
              "{'fit_time': array([0.03544021, 0.03188014, 0.02727437, 0.03357291, 0.02501655]),\n",
              " 'score_time': array([0.00246072, 0.00214601, 0.00205469, 0.00194716, 0.00201082]),\n",
              " 'test_score': array([0.76908568, 0.72180141, 0.56428426, 0.14083339, 0.07810211])}"
            ]
          },
          "metadata": {
            "tags": []
          },
          "execution_count": 44
        }
      ]
    },
    {
      "cell_type": "code",
      "metadata": {
        "id": "Hfo2Z6T5jo73",
        "colab": {
          "base_uri": "https://localhost:8080/",
          "height": 417
        },
        "outputId": "fcd19a8a-73a3-4867-d05f-d3619b20405d"
      },
      "source": [
        "pipe = Pipeline([('scaler', StandardScaler()),\n",
        "                ('model', SVR(kernel='linear'))])\n",
        "\n",
        "param_grid = [{'model__gamma': ['scale', 'auto'],\n",
        "               'model__C': [1.0, 0.1, 0.01],\n",
        "               'model__epsilon': [1.0, 0.1, 0.01]}]\n",
        "\n",
        "gs = GridSearchCV(\n",
        "    estimator=pipe,\n",
        "    param_grid=param_grid,\n",
        "    n_jobs=multiprocessing.cpu_count(),\n",
        "    cv=5,\n",
        "    verbose=True\n",
        ")\n",
        "\n",
        "gs.fit(X, y)"
      ],
      "execution_count": null,
      "outputs": [
        {
          "output_type": "stream",
          "text": [
            "Fitting 5 folds for each of 18 candidates, totalling 90 fits\n"
          ],
          "name": "stdout"
        },
        {
          "output_type": "stream",
          "text": [
            "[Parallel(n_jobs=2)]: Using backend LokyBackend with 2 concurrent workers.\n",
            "[Parallel(n_jobs=2)]: Done  90 out of  90 | elapsed:    1.0s finished\n"
          ],
          "name": "stderr"
        },
        {
          "output_type": "execute_result",
          "data": {
            "text/plain": [
              "GridSearchCV(cv=5, error_score=nan,\n",
              "             estimator=Pipeline(memory=None,\n",
              "                                steps=[('scaler',\n",
              "                                        StandardScaler(copy=True,\n",
              "                                                       with_mean=True,\n",
              "                                                       with_std=True)),\n",
              "                                       ('model',\n",
              "                                        SVR(C=1.0, cache_size=200, coef0=0.0,\n",
              "                                            degree=3, epsilon=0.1,\n",
              "                                            gamma='scale', kernel='linear',\n",
              "                                            max_iter=-1, shrinking=True,\n",
              "                                            tol=0.001, verbose=False))],\n",
              "                                verbose=False),\n",
              "             iid='deprecated', n_jobs=2,\n",
              "             param_grid=[{'model__C': [1.0, 0.1, 0.01],\n",
              "                          'model__epsilon': [1.0, 0.1, 0.01],\n",
              "                          'model__gamma': ['scale', 'auto']}],\n",
              "             pre_dispatch='2*n_jobs', refit=True, return_train_score=False,\n",
              "             scoring=None, verbose=True)"
            ]
          },
          "metadata": {
            "tags": []
          },
          "execution_count": 48
        }
      ]
    },
    {
      "cell_type": "code",
      "metadata": {
        "id": "G1BG0w50iUNF",
        "colab": {
          "base_uri": "https://localhost:8080/",
          "height": 162
        },
        "outputId": "65a30f3e-f161-4599-cc97-2b058693ff41"
      },
      "source": [
        "gs.best_estimator_"
      ],
      "execution_count": null,
      "outputs": [
        {
          "output_type": "execute_result",
          "data": {
            "text/plain": [
              "Pipeline(memory=None,\n",
              "         steps=[('scaler',\n",
              "                 StandardScaler(copy=True, with_mean=True, with_std=True)),\n",
              "                ('model',\n",
              "                 SVR(C=0.1, cache_size=200, coef0=0.0, degree=3, epsilon=1.0,\n",
              "                     gamma='scale', kernel='linear', max_iter=-1,\n",
              "                     shrinking=True, tol=0.001, verbose=False))],\n",
              "         verbose=False)"
            ]
          },
          "metadata": {
            "tags": []
          },
          "execution_count": 49
        }
      ]
    },
    {
      "cell_type": "markdown",
      "metadata": {
        "id": "Tlmsj9sHlB_i"
      },
      "source": [
        "### 당뇨병"
      ]
    },
    {
      "cell_type": "code",
      "metadata": {
        "id": "os5uTkL9OGSa"
      },
      "source": [
        "X, y = load_diabetes(return_X_y=True)\n",
        "X_train, X_test, y_train, y_test = train_test_split(X, y, test_size=0.2)"
      ],
      "execution_count": null,
      "outputs": []
    },
    {
      "cell_type": "code",
      "metadata": {
        "id": "b4NEdo3JOGSn"
      },
      "source": [
        "scaler = StandardScaler()\n",
        "scaler.fit(X_train)\n",
        "X_train = scaler.transform(X_train)\n",
        "X_test = scaler.transform(X_test)"
      ],
      "execution_count": null,
      "outputs": []
    },
    {
      "cell_type": "code",
      "metadata": {
        "id": "btJweppCOGSu",
        "colab": {
          "base_uri": "https://localhost:8080/",
          "height": 53
        },
        "outputId": "6b3a829e-dae6-41b0-e446-ab977c2d32b1"
      },
      "source": [
        "model = SVR(kernel='linear')\n",
        "model.fit(X_train, y_train)"
      ],
      "execution_count": null,
      "outputs": [
        {
          "output_type": "execute_result",
          "data": {
            "text/plain": [
              "SVR(C=1.0, cache_size=200, coef0=0.0, degree=3, epsilon=0.1, gamma='scale',\n",
              "    kernel='linear', max_iter=-1, shrinking=True, tol=0.001, verbose=False)"
            ]
          },
          "metadata": {
            "tags": []
          },
          "execution_count": 58
        }
      ]
    },
    {
      "cell_type": "code",
      "metadata": {
        "id": "5sRsoFffOGS1",
        "colab": {
          "base_uri": "https://localhost:8080/",
          "height": 53
        },
        "outputId": "cf33ba3f-5e0c-45d0-b8fa-134785e7b1de"
      },
      "source": [
        "print(\"학습 데이터 점수: {}\".format(model.score(X_train, y_train)))\n",
        "print(\"평가 데이터 점수: {}\".format(model.score(X_test, y_test)))"
      ],
      "execution_count": null,
      "outputs": [
        {
          "output_type": "stream",
          "text": [
            "학습 데이터 점수: 0.5078965580760462\n",
            "평가 데이터 점수: 0.4985864797802408\n"
          ],
          "name": "stdout"
        }
      ]
    },
    {
      "cell_type": "code",
      "metadata": {
        "id": "Lu8YQqwdOGS8",
        "colab": {
          "base_uri": "https://localhost:8080/",
          "height": 262
        },
        "outputId": "1b14fdd9-96ef-4aa8-9655-bdbda849eccb"
      },
      "source": [
        "X_comp = TSNE(n_components=1).fit_transform(X)\n",
        "plt.scatter(X_comp, y);\n",
        "# SVM은 고차원으로 늘려 공간상 맵핑하고 나누는 것이기 때문에 눈으로 보려면 저차원 변환이 필요. TSNE는 저차원 변환 시각화 기법."
      ],
      "execution_count": null,
      "outputs": [
        {
          "output_type": "display_data",
          "data": {
            "image/png": "[encoded data removed]",
            "text/plain": [
              "<Figure size 432x288 with 1 Axes>"
            ]
          },
          "metadata": {
            "tags": [],
            "needs_background": "light"
          }
        }
      ]
    },
    {
      "cell_type": "code",
      "metadata": {
        "id": "dlQpOheDOGTG",
        "colab": {
          "base_uri": "https://localhost:8080/",
          "height": 262
        },
        "outputId": "fdee4863-ed29-441c-b205-1f2231d54f9e"
      },
      "source": [
        "model.fit(X_comp, y)\n",
        "predict = model.predict(X_comp)\n",
        "plt.scatter(X_comp, y)\n",
        "plt.scatter(X_comp, predict, color='r');"
      ],
      "execution_count": null,
      "outputs": [
        {
          "output_type": "display_data",
          "data": {
            "image/png": "[encoded data removed]",
            "text/plain": [
              "<Figure size 432x288 with 1 Axes>"
            ]
          },
          "metadata": {
            "tags": [],
            "needs_background": "light"
          }
        }
      ]
    },
    {
      "cell_type": "code",
      "metadata": {
        "id": "OIRh9q1dOGTO",
        "colab": {
          "base_uri": "https://localhost:8080/",
          "height": 108
        },
        "outputId": "8401e731-70c9-4ce6-ede7-28ca36f9ca5d"
      },
      "source": [
        "estimator = make_pipeline(StandardScaler(), SVR(kernel='linear'))\n",
        "\n",
        "cross_validate(\n",
        "    estimator=estimator,\n",
        "    X=X, y=y,\n",
        "    cv=5,\n",
        "    n_jobs=multiprocessing.cpu_count(),\n",
        "    verbose=True\n",
        ")"
      ],
      "execution_count": null,
      "outputs": [
        {
          "output_type": "stream",
          "text": [
            "[Parallel(n_jobs=2)]: Using backend LokyBackend with 2 concurrent workers.\n",
            "[Parallel(n_jobs=2)]: Done   5 out of   5 | elapsed:    0.1s finished\n"
          ],
          "name": "stderr"
        },
        {
          "output_type": "execute_result",
          "data": {
            "text/plain": [
              "{'fit_time': array([0.02392292, 0.01234818, 0.01078153, 0.01406693, 0.01182723]),\n",
              " 'score_time': array([0.0018158 , 0.00253868, 0.00165081, 0.00163388, 0.00106311]),\n",
              " 'test_score': array([0.43037242, 0.51653341, 0.48275332, 0.42247202, 0.53076481])}"
            ]
          },
          "metadata": {
            "tags": []
          },
          "execution_count": 62
        }
      ]
    },
    {
      "cell_type": "code",
      "metadata": {
        "id": "1rgCt6YDOGTW",
        "colab": {
          "base_uri": "https://localhost:8080/",
          "height": 417
        },
        "outputId": "41b895cc-bce7-4f13-c703-0fff4bd22534"
      },
      "source": [
        "pipe = Pipeline([('scaler', StandardScaler()),\n",
        "                ('model', SVR(kernel='linear'))])\n",
        "\n",
        "param_grid = [{'model__gamma': ['scale', 'auto'],\n",
        "               'model__C': [1.0, 0.1, 0.01],\n",
        "               'model__epsilon': [1.0, 0.1, 0.01]}]\n",
        "\n",
        "gs = GridSearchCV(\n",
        "    estimator=pipe,\n",
        "    param_grid=param_grid,\n",
        "    n_jobs=multiprocessing.cpu_count(),\n",
        "    cv=5,\n",
        "    verbose=True\n",
        ")\n",
        "\n",
        "gs.fit(X, y)"
      ],
      "execution_count": null,
      "outputs": [
        {
          "output_type": "stream",
          "text": [
            "Fitting 5 folds for each of 18 candidates, totalling 90 fits\n"
          ],
          "name": "stdout"
        },
        {
          "output_type": "stream",
          "text": [
            "[Parallel(n_jobs=2)]: Using backend LokyBackend with 2 concurrent workers.\n",
            "[Parallel(n_jobs=2)]: Done  90 out of  90 | elapsed:    0.7s finished\n"
          ],
          "name": "stderr"
        },
        {
          "output_type": "execute_result",
          "data": {
            "text/plain": [
              "GridSearchCV(cv=5, error_score=nan,\n",
              "             estimator=Pipeline(memory=None,\n",
              "                                steps=[('scaler',\n",
              "                                        StandardScaler(copy=True,\n",
              "                                                       with_mean=True,\n",
              "                                                       with_std=True)),\n",
              "                                       ('model',\n",
              "                                        SVR(C=1.0, cache_size=200, coef0=0.0,\n",
              "                                            degree=3, epsilon=0.1,\n",
              "                                            gamma='scale', kernel='linear',\n",
              "                                            max_iter=-1, shrinking=True,\n",
              "                                            tol=0.001, verbose=False))],\n",
              "                                verbose=False),\n",
              "             iid='deprecated', n_jobs=2,\n",
              "             param_grid=[{'model__C': [1.0, 0.1, 0.01],\n",
              "                          'model__epsilon': [1.0, 0.1, 0.01],\n",
              "                          'model__gamma': ['scale', 'auto']}],\n",
              "             pre_dispatch='2*n_jobs', refit=True, return_train_score=False,\n",
              "             scoring=None, verbose=True)"
            ]
          },
          "metadata": {
            "tags": []
          },
          "execution_count": 63
        }
      ]
    },
    {
      "cell_type": "code",
      "metadata": {
        "id": "NOdlhmqxOGTe",
        "colab": {
          "base_uri": "https://localhost:8080/",
          "height": 162
        },
        "outputId": "252e183c-be5d-41d7-8a64-4b8014e8f727"
      },
      "source": [
        "gs.best_estimator_"
      ],
      "execution_count": null,
      "outputs": [
        {
          "output_type": "execute_result",
          "data": {
            "text/plain": [
              "Pipeline(memory=None,\n",
              "         steps=[('scaler',\n",
              "                 StandardScaler(copy=True, with_mean=True, with_std=True)),\n",
              "                ('model',\n",
              "                 SVR(C=1.0, cache_size=200, coef0=0.0, degree=3, epsilon=1.0,\n",
              "                     gamma='scale', kernel='linear', max_iter=-1,\n",
              "                     shrinking=True, tol=0.001, verbose=False))],\n",
              "         verbose=False)"
            ]
          },
          "metadata": {
            "tags": []
          },
          "execution_count": 64
        }
      ]
    },
    {
      "cell_type": "markdown",
      "metadata": {
        "id": "4d3ZxGT-rzSF"
      },
      "source": [
        "## Kernel SVR"
      ]
    },
    {
      "cell_type": "markdown",
      "metadata": {
        "id": "sJ4hf_LMr6i4"
      },
      "source": [
        "### 보스턴 주택 가격"
      ]
    },
    {
      "cell_type": "code",
      "metadata": {
        "id": "jfiCndGRPBBX"
      },
      "source": [
        "X, y = load_boston(return_X_y=True)\n",
        "X_train, X_test, y_train, y_test = train_test_split(X, y, test_size=0.2)"
      ],
      "execution_count": null,
      "outputs": []
    },
    {
      "cell_type": "code",
      "metadata": {
        "id": "9QcZnxzoPBBi"
      },
      "source": [
        "scaler = StandardScaler()\n",
        "scaler.fit(X_train)\n",
        "X_train = scaler.transform(X_train)\n",
        "X_test = scaler.transform(X_test)"
      ],
      "execution_count": null,
      "outputs": []
    },
    {
      "cell_type": "code",
      "metadata": {
        "id": "ThZZHFAIPBBp",
        "colab": {
          "base_uri": "https://localhost:8080/",
          "height": 53
        },
        "outputId": "774342c1-f860-4db4-abcd-cb915355961a"
      },
      "source": [
        "model = SVR(kernel='rbf')\n",
        "model.fit(X_train, y_train)"
      ],
      "execution_count": null,
      "outputs": [
        {
          "output_type": "execute_result",
          "data": {
            "text/plain": [
              "SVR(C=1.0, cache_size=200, coef0=0.0, degree=3, epsilon=0.1, gamma='scale',\n",
              "    kernel='rbf', max_iter=-1, shrinking=True, tol=0.001, verbose=False)"
            ]
          },
          "metadata": {
            "tags": []
          },
          "execution_count": 67
        }
      ]
    },
    {
      "cell_type": "code",
      "metadata": {
        "id": "aAlk5Xz7PBBy",
        "colab": {
          "base_uri": "https://localhost:8080/",
          "height": 53
        },
        "outputId": "459d2a22-fa16-47aa-cb22-2eff9cfc3ab2"
      },
      "source": [
        "print(\"학습 데이터 점수: {}\".format(model.score(X_train, y_train)))\n",
        "print(\"평가 데이터 점수: {}\".format(model.score(X_test, y_test)))"
      ],
      "execution_count": null,
      "outputs": [
        {
          "output_type": "stream",
          "text": [
            "학습 데이터 점수: 0.6614312384589633\n",
            "평가 데이터 점수: 0.7526201388998793\n"
          ],
          "name": "stdout"
        }
      ]
    },
    {
      "cell_type": "code",
      "metadata": {
        "id": "bR84iOyUPBB4",
        "colab": {
          "base_uri": "https://localhost:8080/",
          "height": 262
        },
        "outputId": "29c10536-5b55-4989-a4b5-4c0123d0e44a"
      },
      "source": [
        "X_comp = TSNE(n_components=1).fit_transform(X)\n",
        "plt.scatter(X_comp, y);\n",
        "# SVM은 고차원으로 늘려 공간상 맵핑하고 나누는 것이기 때문에 눈으로 보려면 저차원 변환이 필요. TSNE는 저차원 변환 시각화 기법."
      ],
      "execution_count": null,
      "outputs": [
        {
          "output_type": "display_data",
          "data": {
            "image/png": "[encoded data removed]",
            "text/plain": [
              "<Figure size 432x288 with 1 Axes>"
            ]
          },
          "metadata": {
            "tags": [],
            "needs_background": "light"
          }
        }
      ]
    },
    {
      "cell_type": "code",
      "metadata": {
        "id": "VUjO-rKHPBB9",
        "colab": {
          "base_uri": "https://localhost:8080/",
          "height": 262
        },
        "outputId": "46bb4682-9969-43ca-f367-5c42b107ee59"
      },
      "source": [
        "model.fit(X_comp, y)\n",
        "predict = model.predict(X_comp)\n",
        "plt.scatter(X_comp, y)\n",
        "plt.scatter(X_comp, predict, color='r');"
      ],
      "execution_count": null,
      "outputs": [
        {
          "output_type": "display_data",
          "data": {
            "image/png": "[encoded data removed]",
            "text/plain": [
              "<Figure size 432x288 with 1 Axes>"
            ]
          },
          "metadata": {
            "tags": [],
            "needs_background": "light"
          }
        }
      ]
    },
    {
      "cell_type": "code",
      "metadata": {
        "id": "Se7qthOWPBCC",
        "colab": {
          "base_uri": "https://localhost:8080/",
          "height": 108
        },
        "outputId": "c646692f-ac71-4b7c-e03d-a065e8810bc0"
      },
      "source": [
        "estimator = make_pipeline(StandardScaler(), SVR(kernel='rbf'))\n",
        "\n",
        "cross_validate(\n",
        "    estimator=estimator,\n",
        "    X=X, y=y,\n",
        "    cv=5,\n",
        "    n_jobs=multiprocessing.cpu_count(),\n",
        "    verbose=True\n",
        ")"
      ],
      "execution_count": null,
      "outputs": [
        {
          "output_type": "stream",
          "text": [
            "[Parallel(n_jobs=2)]: Using backend LokyBackend with 2 concurrent workers.\n",
            "[Parallel(n_jobs=2)]: Done   5 out of   5 | elapsed:    0.1s finished\n"
          ],
          "name": "stderr"
        },
        {
          "output_type": "execute_result",
          "data": {
            "text/plain": [
              "{'fit_time': array([0.02138066, 0.02757382, 0.0201478 , 0.0196414 , 0.01861858]),\n",
              " 'score_time': array([0.00369525, 0.00348902, 0.00336838, 0.00343704, 0.00229287]),\n",
              " 'test_score': array([ 0.75781445,  0.50211018,  0.04310107,  0.33851703, -0.75997942])}"
            ]
          },
          "metadata": {
            "tags": []
          },
          "execution_count": 71
        }
      ]
    },
    {
      "cell_type": "code",
      "metadata": {
        "id": "AhD6Me7APBCG",
        "colab": {
          "base_uri": "https://localhost:8080/",
          "height": 380
        },
        "outputId": "03ef21bb-cf27-42eb-e721-1ff6a1a9a435"
      },
      "source": [
        "pipe = Pipeline([('scaler', StandardScaler()),\n",
        "                ('model', SVR(kernel='rbf'))])\n",
        "\n",
        "param_grid = [{'model__kernel': ['rbf', 'polynomial', 'sigmoid']}]\n",
        "\n",
        "gs = GridSearchCV(\n",
        "    estimator=pipe,\n",
        "    param_grid=param_grid,\n",
        "    n_jobs=multiprocessing.cpu_count(),\n",
        "    cv=5,\n",
        "    verbose=True\n",
        ")\n",
        "\n",
        "gs.fit(X, y)"
      ],
      "execution_count": null,
      "outputs": [
        {
          "output_type": "stream",
          "text": [
            "Fitting 5 folds for each of 3 candidates, totalling 15 fits\n"
          ],
          "name": "stdout"
        },
        {
          "output_type": "stream",
          "text": [
            "[Parallel(n_jobs=2)]: Using backend LokyBackend with 2 concurrent workers.\n",
            "[Parallel(n_jobs=2)]: Done  15 out of  15 | elapsed:    0.2s finished\n"
          ],
          "name": "stderr"
        },
        {
          "output_type": "execute_result",
          "data": {
            "text/plain": [
              "GridSearchCV(cv=5, error_score=nan,\n",
              "             estimator=Pipeline(memory=None,\n",
              "                                steps=[('scaler',\n",
              "                                        StandardScaler(copy=True,\n",
              "                                                       with_mean=True,\n",
              "                                                       with_std=True)),\n",
              "                                       ('model',\n",
              "                                        SVR(C=1.0, cache_size=200, coef0=0.0,\n",
              "                                            degree=3, epsilon=0.1,\n",
              "                                            gamma='scale', kernel='rbf',\n",
              "                                            max_iter=-1, shrinking=True,\n",
              "                                            tol=0.001, verbose=False))],\n",
              "                                verbose=False),\n",
              "             iid='deprecated', n_jobs=2,\n",
              "             param_grid=[{'model__kernel': ['rbf', 'polynomial', 'sigmoid']}],\n",
              "             pre_dispatch='2*n_jobs', refit=True, return_train_score=False,\n",
              "             scoring=None, verbose=True)"
            ]
          },
          "metadata": {
            "tags": []
          },
          "execution_count": 72
        }
      ]
    },
    {
      "cell_type": "code",
      "metadata": {
        "id": "tvtZjcxLPBCL",
        "colab": {
          "base_uri": "https://localhost:8080/",
          "height": 162
        },
        "outputId": "a081d0ec-4941-4b91-a6fe-6421362552e2"
      },
      "source": [
        "gs.best_estimator_"
      ],
      "execution_count": null,
      "outputs": [
        {
          "output_type": "execute_result",
          "data": {
            "text/plain": [
              "Pipeline(memory=None,\n",
              "         steps=[('scaler',\n",
              "                 StandardScaler(copy=True, with_mean=True, with_std=True)),\n",
              "                ('model',\n",
              "                 SVR(C=1.0, cache_size=200, coef0=0.0, degree=3, epsilon=0.1,\n",
              "                     gamma='scale', kernel='rbf', max_iter=-1, shrinking=True,\n",
              "                     tol=0.001, verbose=False))],\n",
              "         verbose=False)"
            ]
          },
          "metadata": {
            "tags": []
          },
          "execution_count": 73
        }
      ]
    },
    {
      "cell_type": "code",
      "metadata": {
        "id": "J_wVjSitPru0",
        "colab": {
          "base_uri": "https://localhost:8080/",
          "height": 417
        },
        "outputId": "c5dec915-8f1b-452b-aba2-0e0606c111c0"
      },
      "source": [
        "pipe = Pipeline([('scaler', StandardScaler()),\n",
        "                ('model', SVR(kernel='rbf'))])\n",
        "\n",
        "param_grid = [{'model__gamma': ['scale', 'auto'],\n",
        "               'model__C': [1.0, 0.1, 0.01],\n",
        "               'model__epsilon': [1.0, 0.1, 0.01]}]\n",
        "\n",
        "gs = GridSearchCV(\n",
        "    estimator=pipe,\n",
        "    param_grid=param_grid,\n",
        "    n_jobs=multiprocessing.cpu_count(),\n",
        "    cv=5,\n",
        "    verbose=True\n",
        ")\n",
        "\n",
        "gs.fit(X, y)"
      ],
      "execution_count": null,
      "outputs": [
        {
          "output_type": "stream",
          "text": [
            "Fitting 5 folds for each of 18 candidates, totalling 90 fits\n"
          ],
          "name": "stdout"
        },
        {
          "output_type": "stream",
          "text": [
            "[Parallel(n_jobs=2)]: Using backend LokyBackend with 2 concurrent workers.\n",
            "[Parallel(n_jobs=2)]: Done  90 out of  90 | elapsed:    1.1s finished\n"
          ],
          "name": "stderr"
        },
        {
          "output_type": "execute_result",
          "data": {
            "text/plain": [
              "GridSearchCV(cv=5, error_score=nan,\n",
              "             estimator=Pipeline(memory=None,\n",
              "                                steps=[('scaler',\n",
              "                                        StandardScaler(copy=True,\n",
              "                                                       with_mean=True,\n",
              "                                                       with_std=True)),\n",
              "                                       ('model',\n",
              "                                        SVR(C=1.0, cache_size=200, coef0=0.0,\n",
              "                                            degree=3, epsilon=0.1,\n",
              "                                            gamma='scale', kernel='rbf',\n",
              "                                            max_iter=-1, shrinking=True,\n",
              "                                            tol=0.001, verbose=False))],\n",
              "                                verbose=False),\n",
              "             iid='deprecated', n_jobs=2,\n",
              "             param_grid=[{'model__C': [1.0, 0.1, 0.01],\n",
              "                          'model__epsilon': [1.0, 0.1, 0.01],\n",
              "                          'model__gamma': ['scale', 'auto']}],\n",
              "             pre_dispatch='2*n_jobs', refit=True, return_train_score=False,\n",
              "             scoring=None, verbose=True)"
            ]
          },
          "metadata": {
            "tags": []
          },
          "execution_count": 74
        }
      ]
    },
    {
      "cell_type": "code",
      "metadata": {
        "id": "UlnjMwqOI1_0",
        "colab": {
          "base_uri": "https://localhost:8080/",
          "height": 162
        },
        "outputId": "785e7634-e17a-40a2-e057-70490598a6ea"
      },
      "source": [
        "gs.best_estimator_"
      ],
      "execution_count": null,
      "outputs": [
        {
          "output_type": "execute_result",
          "data": {
            "text/plain": [
              "Pipeline(memory=None,\n",
              "         steps=[('scaler',\n",
              "                 StandardScaler(copy=True, with_mean=True, with_std=True)),\n",
              "                ('model',\n",
              "                 SVR(C=1.0, cache_size=200, coef0=0.0, degree=3, epsilon=0.01,\n",
              "                     gamma='scale', kernel='rbf', max_iter=-1, shrinking=True,\n",
              "                     tol=0.001, verbose=False))],\n",
              "         verbose=False)"
            ]
          },
          "metadata": {
            "tags": []
          },
          "execution_count": 75
        }
      ]
    },
    {
      "cell_type": "markdown",
      "metadata": {
        "id": "WjmIL-u1r9qU"
      },
      "source": [
        "### 당뇨병"
      ]
    },
    {
      "cell_type": "code",
      "metadata": {
        "id": "wdFmAKOHQLzm"
      },
      "source": [
        "X, y = load_diabetes(return_X_y=True)\n",
        "X_train, X_test, y_train, y_test = train_test_split(X, y, test_size=0.2)"
      ],
      "execution_count": null,
      "outputs": []
    },
    {
      "cell_type": "code",
      "metadata": {
        "id": "pTxhIEpEQLzs"
      },
      "source": [
        "scaler = StandardScaler()\n",
        "scaler.fit(X_train)\n",
        "X_train = scaler.transform(X_train)\n",
        "X_test = scaler.transform(X_test)"
      ],
      "execution_count": null,
      "outputs": []
    },
    {
      "cell_type": "code",
      "metadata": {
        "id": "OBjeYMJ7QLzv",
        "colab": {
          "base_uri": "https://localhost:8080/",
          "height": 53
        },
        "outputId": "5357e7f9-b4e7-4550-cfa6-2b6f9c11a0e7"
      },
      "source": [
        "model = SVR(kernel='rbf')\n",
        "model.fit(X_train, y_train)"
      ],
      "execution_count": null,
      "outputs": [
        {
          "output_type": "execute_result",
          "data": {
            "text/plain": [
              "SVR(C=1.0, cache_size=200, coef0=0.0, degree=3, epsilon=0.1, gamma='scale',\n",
              "    kernel='rbf', max_iter=-1, shrinking=True, tol=0.001, verbose=False)"
            ]
          },
          "metadata": {
            "tags": []
          },
          "execution_count": 79
        }
      ]
    },
    {
      "cell_type": "code",
      "metadata": {
        "id": "KTgE9D8mQLz2",
        "colab": {
          "base_uri": "https://localhost:8080/",
          "height": 53
        },
        "outputId": "fb15d6f1-00aa-403e-9a6e-d43dd535e991"
      },
      "source": [
        "print(\"학습 데이터 점수: {}\".format(model.score(X_train, y_train)))\n",
        "print(\"평가 데이터 점수: {}\".format(model.score(X_test, y_test)))"
      ],
      "execution_count": null,
      "outputs": [
        {
          "output_type": "stream",
          "text": [
            "학습 데이터 점수: 0.17425476662267503\n",
            "평가 데이터 점수: 0.14215849434937988\n"
          ],
          "name": "stdout"
        }
      ]
    },
    {
      "cell_type": "code",
      "metadata": {
        "id": "HWuVyiRLQLz6",
        "colab": {
          "base_uri": "https://localhost:8080/",
          "height": 262
        },
        "outputId": "7a4506ec-330a-427b-d395-940219db2168"
      },
      "source": [
        "X_comp = TSNE(n_components=1).fit_transform(X)\n",
        "plt.scatter(X_comp, y);\n",
        "# SVM은 고차원으로 늘려 공간상 맵핑하고 나누는 것이기 때문에 눈으로 보려면 저차원 변환이 필요. TSNE는 저차원 변환 시각화 기법."
      ],
      "execution_count": null,
      "outputs": [
        {
          "output_type": "display_data",
          "data": {
            "image/png": "[encoded data removed]",
            "text/plain": [
              "<Figure size 432x288 with 1 Axes>"
            ]
          },
          "metadata": {
            "tags": [],
            "needs_background": "light"
          }
        }
      ]
    },
    {
      "cell_type": "code",
      "metadata": {
        "id": "Ay94-wQ3QLz9",
        "colab": {
          "base_uri": "https://localhost:8080/",
          "height": 262
        },
        "outputId": "a59398ed-50c0-4468-8be7-712ec6598b2d"
      },
      "source": [
        "model.fit(X_comp, y)\n",
        "predict = model.predict(X_comp)\n",
        "plt.scatter(X_comp, y)\n",
        "plt.scatter(X_comp, predict, color='r');"
      ],
      "execution_count": null,
      "outputs": [
        {
          "output_type": "display_data",
          "data": {
            "image/png": "[encoded data removed]",
            "text/plain": [
              "<Figure size 432x288 with 1 Axes>"
            ]
          },
          "metadata": {
            "tags": [],
            "needs_background": "light"
          }
        }
      ]
    },
    {
      "cell_type": "code",
      "metadata": {
        "id": "0NuqJ5v7QL0B",
        "colab": {
          "base_uri": "https://localhost:8080/",
          "height": 108
        },
        "outputId": "0a861a9a-84d6-46a5-bbf3-b5ab30e81a1b"
      },
      "source": [
        "estimator = make_pipeline(StandardScaler(), SVR(kernel='rbf'))\n",
        "\n",
        "cross_validate(\n",
        "    estimator=estimator,\n",
        "    X=X, y=y,\n",
        "    cv=5,\n",
        "    n_jobs=multiprocessing.cpu_count(),\n",
        "    verbose=True\n",
        ")"
      ],
      "execution_count": null,
      "outputs": [
        {
          "output_type": "stream",
          "text": [
            "[Parallel(n_jobs=2)]: Using backend LokyBackend with 2 concurrent workers.\n",
            "[Parallel(n_jobs=2)]: Done   5 out of   5 | elapsed:    0.1s finished\n"
          ],
          "name": "stderr"
        },
        {
          "output_type": "execute_result",
          "data": {
            "text/plain": [
              "{'fit_time': array([0.01696992, 0.01526856, 0.01581955, 0.01385689, 0.00996637]),\n",
              " 'score_time': array([0.00667715, 0.00294328, 0.00269127, 0.00269294, 0.0017488 ]),\n",
              " 'test_score': array([0.14580789, 0.12539919, 0.18163816, 0.12223073, 0.15792085])}"
            ]
          },
          "metadata": {
            "tags": []
          },
          "execution_count": 83
        }
      ]
    },
    {
      "cell_type": "code",
      "metadata": {
        "id": "vzaJYUz3QL0E",
        "colab": {
          "base_uri": "https://localhost:8080/",
          "height": 380
        },
        "outputId": "635234d3-3ebb-443f-fb89-82f1a3ec4ee7"
      },
      "source": [
        "pipe = Pipeline([('scaler', StandardScaler()),\n",
        "                ('model', SVR(kernel='rbf'))])\n",
        "\n",
        "param_grid = [{'model__kernel': ['rbf', 'polynomial', 'sigmoid']}]\n",
        "\n",
        "gs = GridSearchCV(\n",
        "    estimator=pipe,\n",
        "    param_grid=param_grid,\n",
        "    n_jobs=multiprocessing.cpu_count(),\n",
        "    cv=5,\n",
        "    verbose=True\n",
        ")\n",
        "\n",
        "gs.fit(X, y)"
      ],
      "execution_count": null,
      "outputs": [
        {
          "output_type": "stream",
          "text": [
            "Fitting 5 folds for each of 3 candidates, totalling 15 fits\n"
          ],
          "name": "stdout"
        },
        {
          "output_type": "stream",
          "text": [
            "[Parallel(n_jobs=2)]: Using backend LokyBackend with 2 concurrent workers.\n",
            "[Parallel(n_jobs=2)]: Done  15 out of  15 | elapsed:    0.1s finished\n"
          ],
          "name": "stderr"
        },
        {
          "output_type": "execute_result",
          "data": {
            "text/plain": [
              "GridSearchCV(cv=5, error_score=nan,\n",
              "             estimator=Pipeline(memory=None,\n",
              "                                steps=[('scaler',\n",
              "                                        StandardScaler(copy=True,\n",
              "                                                       with_mean=True,\n",
              "                                                       with_std=True)),\n",
              "                                       ('model',\n",
              "                                        SVR(C=1.0, cache_size=200, coef0=0.0,\n",
              "                                            degree=3, epsilon=0.1,\n",
              "                                            gamma='scale', kernel='rbf',\n",
              "                                            max_iter=-1, shrinking=True,\n",
              "                                            tol=0.001, verbose=False))],\n",
              "                                verbose=False),\n",
              "             iid='deprecated', n_jobs=2,\n",
              "             param_grid=[{'model__kernel': ['rbf', 'polynomial', 'sigmoid']}],\n",
              "             pre_dispatch='2*n_jobs', refit=True, return_train_score=False,\n",
              "             scoring=None, verbose=True)"
            ]
          },
          "metadata": {
            "tags": []
          },
          "execution_count": 85
        }
      ]
    },
    {
      "cell_type": "code",
      "metadata": {
        "id": "xJeSJ7nVQL0K",
        "colab": {
          "base_uri": "https://localhost:8080/",
          "height": 162
        },
        "outputId": "13592257-0c2f-4f10-b85c-4ebbdbbb91fd"
      },
      "source": [
        "gs.best_estimator_"
      ],
      "execution_count": null,
      "outputs": [
        {
          "output_type": "execute_result",
          "data": {
            "text/plain": [
              "Pipeline(memory=None,\n",
              "         steps=[('scaler',\n",
              "                 StandardScaler(copy=True, with_mean=True, with_std=True)),\n",
              "                ('model',\n",
              "                 SVR(C=1.0, cache_size=200, coef0=0.0, degree=3, epsilon=0.1,\n",
              "                     gamma='scale', kernel='sigmoid', max_iter=-1,\n",
              "                     shrinking=True, tol=0.001, verbose=False))],\n",
              "         verbose=False)"
            ]
          },
          "metadata": {
            "tags": []
          },
          "execution_count": 86
        }
      ]
    },
    {
      "cell_type": "code",
      "metadata": {
        "id": "yfcNKCBNQL0N",
        "colab": {
          "base_uri": "https://localhost:8080/",
          "height": 417
        },
        "outputId": "323f8f6e-211b-4e50-fdd3-3485de9ba1ca"
      },
      "source": [
        "pipe = Pipeline([('scaler', StandardScaler()),\n",
        "                ('model', SVR(kernel='sigmoid'))])\n",
        "\n",
        "param_grid = [{'model__gamma': ['scale', 'auto'],\n",
        "               'model__C': [1.0, 0.1, 0.01],\n",
        "               'model__epsilon': [1.0, 0.1, 0.01]}]\n",
        "\n",
        "gs = GridSearchCV(\n",
        "    estimator=pipe,\n",
        "    param_grid=param_grid,\n",
        "    n_jobs=multiprocessing.cpu_count(),\n",
        "    cv=5,\n",
        "    verbose=True\n",
        ")\n",
        "\n",
        "gs.fit(X, y)"
      ],
      "execution_count": null,
      "outputs": [
        {
          "output_type": "stream",
          "text": [
            "Fitting 5 folds for each of 18 candidates, totalling 90 fits\n"
          ],
          "name": "stdout"
        },
        {
          "output_type": "stream",
          "text": [
            "[Parallel(n_jobs=2)]: Using backend LokyBackend with 2 concurrent workers.\n",
            "[Parallel(n_jobs=2)]: Done  90 out of  90 | elapsed:    1.0s finished\n"
          ],
          "name": "stderr"
        },
        {
          "output_type": "execute_result",
          "data": {
            "text/plain": [
              "GridSearchCV(cv=5, error_score=nan,\n",
              "             estimator=Pipeline(memory=None,\n",
              "                                steps=[('scaler',\n",
              "                                        StandardScaler(copy=True,\n",
              "                                                       with_mean=True,\n",
              "                                                       with_std=True)),\n",
              "                                       ('model',\n",
              "                                        SVR(C=1.0, cache_size=200, coef0=0.0,\n",
              "                                            degree=3, epsilon=0.1,\n",
              "                                            gamma='scale', kernel='sigmoid',\n",
              "                                            max_iter=-1, shrinking=True,\n",
              "                                            tol=0.001, verbose=False))],\n",
              "                                verbose=False),\n",
              "             iid='deprecated', n_jobs=2,\n",
              "             param_grid=[{'model__C': [1.0, 0.1, 0.01],\n",
              "                          'model__epsilon': [1.0, 0.1, 0.01],\n",
              "                          'model__gamma': ['scale', 'auto']}],\n",
              "             pre_dispatch='2*n_jobs', refit=True, return_train_score=False,\n",
              "             scoring=None, verbose=True)"
            ]
          },
          "metadata": {
            "tags": []
          },
          "execution_count": 87
        }
      ]
    },
    {
      "cell_type": "code",
      "metadata": {
        "id": "N7wTRk7PQL0Q",
        "colab": {
          "base_uri": "https://localhost:8080/",
          "height": 162
        },
        "outputId": "facd5699-5ca7-4d63-c0d7-86360cf67784"
      },
      "source": [
        "gs.best_estimator_"
      ],
      "execution_count": null,
      "outputs": [
        {
          "output_type": "execute_result",
          "data": {
            "text/plain": [
              "Pipeline(memory=None,\n",
              "         steps=[('scaler',\n",
              "                 StandardScaler(copy=True, with_mean=True, with_std=True)),\n",
              "                ('model',\n",
              "                 SVR(C=1.0, cache_size=200, coef0=0.0, degree=3, epsilon=1.0,\n",
              "                     gamma='auto', kernel='sigmoid', max_iter=-1,\n",
              "                     shrinking=True, tol=0.001, verbose=False))],\n",
              "         verbose=False)"
            ]
          },
          "metadata": {
            "tags": []
          },
          "execution_count": 88
        }
      ]
    },
    {
      "cell_type": "code",
      "metadata": {
        "id": "vbi19fstK0cl",
        "colab": {
          "base_uri": "https://localhost:8080/",
          "height": 162
        },
        "outputId": "4611ffc0-8c4a-4639-a8c9-80d740c93911"
      },
      "source": [
        "model = gs.best_estimator_\n",
        "model.fit(X_train, y_train)"
      ],
      "execution_count": null,
      "outputs": [
        {
          "output_type": "execute_result",
          "data": {
            "text/plain": [
              "Pipeline(memory=None,\n",
              "         steps=[('scaler',\n",
              "                 StandardScaler(copy=True, with_mean=True, with_std=True)),\n",
              "                ('model',\n",
              "                 SVR(C=1.0, cache_size=200, coef0=0.0, degree=3, epsilon=1.0,\n",
              "                     gamma='auto', kernel='sigmoid', max_iter=-1,\n",
              "                     shrinking=True, tol=0.001, verbose=False))],\n",
              "         verbose=False)"
            ]
          },
          "metadata": {
            "tags": []
          },
          "execution_count": 89
        }
      ]
    },
    {
      "cell_type": "code",
      "metadata": {
        "id": "vT1lWiqFK8dd",
        "colab": {
          "base_uri": "https://localhost:8080/",
          "height": 53
        },
        "outputId": "73b174d8-d5d0-41dc-a6ee-fe036aa5fbe6"
      },
      "source": [
        "print(\"학습 데이터 점수: {}\".format(model.score(X_train, y_train)))\n",
        "print(\"평가 데이터 점수: {}\".format(model.score(X_test, y_test)))"
      ],
      "execution_count": null,
      "outputs": [
        {
          "output_type": "stream",
          "text": [
            "학습 데이터 점수: 0.38395038421203775\n",
            "평가 데이터 점수: 0.3401767986729931\n"
          ],
          "name": "stdout"
        }
      ]
    },
    {
      "cell_type": "markdown",
      "metadata": {
        "id": "iW0DXTLrNya-"
      },
      "source": [
        "## Linear SVC"
      ]
    },
    {
      "cell_type": "markdown",
      "metadata": {
        "id": "1b30IAFxN8XR"
      },
      "source": [
        "### 유방암"
      ]
    },
    {
      "cell_type": "code",
      "metadata": {
        "id": "6FGedwhMRRB_"
      },
      "source": [
        "X, y = load_breast_cancer(return_X_y=True)\n",
        "X_train, X_test, y_train, y_test = train_test_split(X, y, test_size=0.2)"
      ],
      "execution_count": null,
      "outputs": []
    },
    {
      "cell_type": "code",
      "metadata": {
        "id": "cyBTt6m4RRCP"
      },
      "source": [
        "scaler = StandardScaler()\n",
        "scaler.fit(X_train)\n",
        "X_train = scaler.transform(X_train)\n",
        "X_test = scaler.transform(X_test)"
      ],
      "execution_count": null,
      "outputs": []
    },
    {
      "cell_type": "code",
      "metadata": {
        "id": "KbsQHcbIRRCg",
        "colab": {
          "base_uri": "https://localhost:8080/",
          "height": 90
        },
        "outputId": "7aa26805-d1f9-44eb-d667-a451099f6c17"
      },
      "source": [
        "model = SVC(kernel='linear')\n",
        "model.fit(X_train, y_train)"
      ],
      "execution_count": null,
      "outputs": [
        {
          "output_type": "execute_result",
          "data": {
            "text/plain": [
              "SVC(C=1.0, break_ties=False, cache_size=200, class_weight=None, coef0=0.0,\n",
              "    decision_function_shape='ovr', degree=3, gamma='scale', kernel='linear',\n",
              "    max_iter=-1, probability=False, random_state=None, shrinking=True,\n",
              "    tol=0.001, verbose=False)"
            ]
          },
          "metadata": {
            "tags": []
          },
          "execution_count": 106
        }
      ]
    },
    {
      "cell_type": "code",
      "metadata": {
        "id": "uTQgK1wrRRCr",
        "colab": {
          "base_uri": "https://localhost:8080/",
          "height": 53
        },
        "outputId": "a44b252a-4c9c-44b2-8327-1d3a498c9c41"
      },
      "source": [
        "print(\"학습 데이터 점수: {}\".format(model.score(X_train, y_train)))\n",
        "print(\"평가 데이터 점수: {}\".format(model.score(X_test, y_test)))"
      ],
      "execution_count": null,
      "outputs": [
        {
          "output_type": "stream",
          "text": [
            "학습 데이터 점수: 0.989010989010989\n",
            "평가 데이터 점수: 0.956140350877193\n"
          ],
          "name": "stdout"
        }
      ]
    },
    {
      "cell_type": "code",
      "metadata": {
        "id": "S06HUBYzRg69"
      },
      "source": [
        "def make_meshgrid(x, y, h=.02):\n",
        "  x_min, x_max = x.min()-1, x.max()+1\n",
        "  y_min, y_max = y.min()-1, y.max()+1\n",
        "  xx, yy = np.meshgrid(np.arange(x_min, x_max, h),\n",
        "                       np.arange(y_min, y_max, h))\n",
        "  \n",
        "  return xx, yy"
      ],
      "execution_count": null,
      "outputs": []
    },
    {
      "cell_type": "code",
      "metadata": {
        "id": "cdBv0FnvR_PT"
      },
      "source": [
        "def plot_contours(clf, xx, yy, **params):\n",
        "  Z = clf.predict(np.c_[xx.ravel(), yy.ravel()])\n",
        "  Z = Z.reshape(xx.shape)\n",
        "  out = plt.contourf(xx, yy, Z, **params)\n",
        "\n",
        "  return out"
      ],
      "execution_count": null,
      "outputs": []
    },
    {
      "cell_type": "code",
      "metadata": {
        "id": "KWZ6bExZRRC0"
      },
      "source": [
        "X_comp = TSNE(n_components=2).fit_transform(X)\n",
        "X0, X1 = X_comp[:, 0], X_comp[:, 1]\n",
        "xx, yy = make_meshgrid(X0, X1)"
      ],
      "execution_count": null,
      "outputs": []
    },
    {
      "cell_type": "code",
      "metadata": {
        "id": "xEUcXmO5RRC7",
        "colab": {
          "base_uri": "https://localhost:8080/",
          "height": 262
        },
        "outputId": "8b2950c3-f889-4874-f696-ec96caf115f8"
      },
      "source": [
        "model.fit(X_comp, y)\n",
        "\n",
        "plot_contours(model, xx, yy, cmap=plt.cm.coolwarm, alpha=0.7)\n",
        "plt.scatter(X0, X1, c=y, cmap=plt.cm.coolwarm, s=20, edgecolors='k');"
      ],
      "execution_count": null,
      "outputs": [
        {
          "output_type": "display_data",
          "data": {
            "image/png": "[encoded data removed]",
            "text/plain": [
              "<Figure size 432x288 with 1 Axes>"
            ]
          },
          "metadata": {
            "tags": [],
            "needs_background": "light"
          }
        }
      ]
    },
    {
      "cell_type": "code",
      "metadata": {
        "id": "1D0AvqpvRRDE",
        "colab": {
          "base_uri": "https://localhost:8080/",
          "height": 108
        },
        "outputId": "5d72a906-ef78-4900-d47b-fe9c0bbc0b3b"
      },
      "source": [
        "estimator = make_pipeline(StandardScaler(), SVC(kernel='linear'))\n",
        "\n",
        "cross_validate(\n",
        "    estimator=estimator,\n",
        "    X=X, y=y,\n",
        "    cv=5,\n",
        "    n_jobs=multiprocessing.cpu_count(),\n",
        "    verbose=True\n",
        ")"
      ],
      "execution_count": null,
      "outputs": [
        {
          "output_type": "stream",
          "text": [
            "[Parallel(n_jobs=2)]: Using backend LokyBackend with 2 concurrent workers.\n",
            "[Parallel(n_jobs=2)]: Done   5 out of   5 | elapsed:    0.9s finished\n"
          ],
          "name": "stderr"
        },
        {
          "output_type": "execute_result",
          "data": {
            "text/plain": [
              "{'fit_time': array([0.01059794, 0.00911474, 0.0067358 , 0.00546074, 0.00428104]),\n",
              " 'score_time': array([0.00105667, 0.00093246, 0.00083923, 0.00106621, 0.00055885]),\n",
              " 'test_score': array([0.96491228, 0.98245614, 0.96491228, 0.96491228, 0.98230088])}"
            ]
          },
          "metadata": {
            "tags": []
          },
          "execution_count": 118
        }
      ]
    },
    {
      "cell_type": "code",
      "metadata": {
        "id": "AqFvri-pRRDK",
        "colab": {
          "base_uri": "https://localhost:8080/",
          "height": 471
        },
        "outputId": "e571299d-8353-4064-db64-a774567f0433"
      },
      "source": [
        "pipe = Pipeline([('scaler', StandardScaler()),\n",
        "                ('model', SVC(kernel='linear'))])\n",
        "\n",
        "param_grid = [{'model__gamma': ['scale', 'auto'],\n",
        "               'model__C': [1.0, 0.1, 0.01]}]\n",
        "\n",
        "gs = GridSearchCV(\n",
        "    estimator=pipe,\n",
        "    param_grid=param_grid,\n",
        "    n_jobs=multiprocessing.cpu_count(),\n",
        "    cv=5,\n",
        "    verbose=True\n",
        ")\n",
        "\n",
        "gs.fit(X, y)"
      ],
      "execution_count": null,
      "outputs": [
        {
          "output_type": "stream",
          "text": [
            "Fitting 5 folds for each of 6 candidates, totalling 30 fits\n"
          ],
          "name": "stdout"
        },
        {
          "output_type": "stream",
          "text": [
            "[Parallel(n_jobs=2)]: Using backend LokyBackend with 2 concurrent workers.\n",
            "[Parallel(n_jobs=2)]: Done  30 out of  30 | elapsed:    0.1s finished\n"
          ],
          "name": "stderr"
        },
        {
          "output_type": "execute_result",
          "data": {
            "text/plain": [
              "GridSearchCV(cv=5, error_score=nan,\n",
              "             estimator=Pipeline(memory=None,\n",
              "                                steps=[('scaler',\n",
              "                                        StandardScaler(copy=True,\n",
              "                                                       with_mean=True,\n",
              "                                                       with_std=True)),\n",
              "                                       ('model',\n",
              "                                        SVC(C=1.0, break_ties=False,\n",
              "                                            cache_size=200, class_weight=None,\n",
              "                                            coef0=0.0,\n",
              "                                            decision_function_shape='ovr',\n",
              "                                            degree=3, gamma='scale',\n",
              "                                            kernel='linear', max_iter=-1,\n",
              "                                            probability=False,\n",
              "                                            random_state=None, shrinking=True,\n",
              "                                            tol=0.001, verbose=False))],\n",
              "                                verbose=False),\n",
              "             iid='deprecated', n_jobs=2,\n",
              "             param_grid=[{'model__C': [1.0, 0.1, 0.01],\n",
              "                          'model__gamma': ['scale', 'auto']}],\n",
              "             pre_dispatch='2*n_jobs', refit=True, return_train_score=False,\n",
              "             scoring=None, verbose=True)"
            ]
          },
          "metadata": {
            "tags": []
          },
          "execution_count": 119
        }
      ]
    },
    {
      "cell_type": "code",
      "metadata": {
        "id": "KRQmwXlpRRDR",
        "colab": {
          "base_uri": "https://localhost:8080/",
          "height": 199
        },
        "outputId": "e6819ab0-874b-4163-dd93-b906bab3b312"
      },
      "source": [
        "gs.best_estimator_"
      ],
      "execution_count": null,
      "outputs": [
        {
          "output_type": "execute_result",
          "data": {
            "text/plain": [
              "Pipeline(memory=None,\n",
              "         steps=[('scaler',\n",
              "                 StandardScaler(copy=True, with_mean=True, with_std=True)),\n",
              "                ('model',\n",
              "                 SVC(C=0.1, break_ties=False, cache_size=200, class_weight=None,\n",
              "                     coef0=0.0, decision_function_shape='ovr', degree=3,\n",
              "                     gamma='scale', kernel='linear', max_iter=-1,\n",
              "                     probability=False, random_state=None, shrinking=True,\n",
              "                     tol=0.001, verbose=False))],\n",
              "         verbose=False)"
            ]
          },
          "metadata": {
            "tags": []
          },
          "execution_count": 120
        }
      ]
    },
    {
      "cell_type": "markdown",
      "metadata": {
        "id": "jJfcIODbN6ec"
      },
      "source": [
        "### 붓꽃"
      ]
    },
    {
      "cell_type": "code",
      "metadata": {
        "id": "dFjqLovcVi67"
      },
      "source": [
        "X, y = load_iris(return_X_y=True)\n",
        "X_train, X_test, y_train, y_test = train_test_split(X, y, test_size=0.2)"
      ],
      "execution_count": null,
      "outputs": []
    },
    {
      "cell_type": "code",
      "metadata": {
        "id": "QnUZeYl9Vi7F"
      },
      "source": [
        "scaler = StandardScaler()\n",
        "scaler.fit(X_train)\n",
        "X_train = scaler.transform(X_train)\n",
        "X_test = scaler.transform(X_test)"
      ],
      "execution_count": null,
      "outputs": []
    },
    {
      "cell_type": "code",
      "metadata": {
        "id": "ug653J61Vi7R",
        "colab": {
          "base_uri": "https://localhost:8080/",
          "height": 90
        },
        "outputId": "81888770-40f1-404b-c57f-0a666e0c00d4"
      },
      "source": [
        "model = SVC(kernel='linear')\n",
        "model.fit(X_train, y_train)"
      ],
      "execution_count": null,
      "outputs": [
        {
          "output_type": "execute_result",
          "data": {
            "text/plain": [
              "SVC(C=1.0, break_ties=False, cache_size=200, class_weight=None, coef0=0.0,\n",
              "    decision_function_shape='ovr', degree=3, gamma='scale', kernel='linear',\n",
              "    max_iter=-1, probability=False, random_state=None, shrinking=True,\n",
              "    tol=0.001, verbose=False)"
            ]
          },
          "metadata": {
            "tags": []
          },
          "execution_count": 131
        }
      ]
    },
    {
      "cell_type": "code",
      "metadata": {
        "id": "6oKDtMuzVi7X",
        "colab": {
          "base_uri": "https://localhost:8080/",
          "height": 53
        },
        "outputId": "f135f458-2eae-4df3-c307-27d38264d88f"
      },
      "source": [
        "print(\"학습 데이터 점수: {}\".format(model.score(X_train, y_train)))\n",
        "print(\"평가 데이터 점수: {}\".format(model.score(X_test, y_test)))"
      ],
      "execution_count": null,
      "outputs": [
        {
          "output_type": "stream",
          "text": [
            "학습 데이터 점수: 0.9833333333333333\n",
            "평가 데이터 점수: 1.0\n"
          ],
          "name": "stdout"
        }
      ]
    },
    {
      "cell_type": "code",
      "metadata": {
        "id": "VbVWV1vHVi7h"
      },
      "source": [
        "def make_meshgrid(x, y, h=.02):\n",
        "  x_min, x_max = x.min()-1, x.max()+1\n",
        "  y_min, y_max = y.min()-1, y.max()+1\n",
        "  xx, yy = np.meshgrid(np.arange(x_min, x_max, h),\n",
        "                       np.arange(y_min, y_max, h))\n",
        "  \n",
        "  return xx, yy"
      ],
      "execution_count": null,
      "outputs": []
    },
    {
      "cell_type": "code",
      "metadata": {
        "id": "zL8WJJyTVi7m"
      },
      "source": [
        "def plot_contours(clf, xx, yy, **params):\n",
        "  Z = clf.predict(np.c_[xx.ravel(), yy.ravel()])\n",
        "  Z = Z.reshape(xx.shape)\n",
        "  out = plt.contourf(xx, yy, Z, **params)\n",
        "\n",
        "  return out"
      ],
      "execution_count": null,
      "outputs": []
    },
    {
      "cell_type": "code",
      "metadata": {
        "id": "2n3IlVOlVi7t"
      },
      "source": [
        "X_comp = TSNE(n_components=2).fit_transform(X)\n",
        "X0, X1 = X_comp[:, 0], X_comp[:, 1]\n",
        "xx, yy = make_meshgrid(X0, X1)"
      ],
      "execution_count": null,
      "outputs": []
    },
    {
      "cell_type": "code",
      "metadata": {
        "id": "UdVOGjCiVi7y",
        "colab": {
          "base_uri": "https://localhost:8080/",
          "height": 262
        },
        "outputId": "b37ff44b-c2e0-41bb-f06b-02eadd3a6157"
      },
      "source": [
        "model.fit(X_comp, y)\n",
        "\n",
        "plot_contours(model, xx, yy, cmap=plt.cm.coolwarm, alpha=0.7)\n",
        "plt.scatter(X0, X1, c=y, cmap=plt.cm.coolwarm, s=20, edgecolors='k');"
      ],
      "execution_count": null,
      "outputs": [
        {
          "output_type": "display_data",
          "data": {
            "image/png": "[encoded data removed]",
            "text/plain": [
              "<Figure size 432x288 with 1 Axes>"
            ]
          },
          "metadata": {
            "tags": [],
            "needs_background": "light"
          }
        }
      ]
    },
    {
      "cell_type": "code",
      "metadata": {
        "id": "qz2WGKlnVi75",
        "colab": {
          "base_uri": "https://localhost:8080/",
          "height": 108
        },
        "outputId": "4e02e31e-ca7c-4d20-c248-a7338b622ca6"
      },
      "source": [
        "estimator = make_pipeline(StandardScaler(), SVC(kernel='linear'))\n",
        "\n",
        "cross_validate(\n",
        "    estimator=estimator,\n",
        "    X=X, y=y,\n",
        "    cv=5,\n",
        "    n_jobs=multiprocessing.cpu_count(),\n",
        "    verbose=True\n",
        ")"
      ],
      "execution_count": null,
      "outputs": [
        {
          "output_type": "stream",
          "text": [
            "[Parallel(n_jobs=2)]: Using backend LokyBackend with 2 concurrent workers.\n",
            "[Parallel(n_jobs=2)]: Done   5 out of   5 | elapsed:    0.0s finished\n"
          ],
          "name": "stderr"
        },
        {
          "output_type": "execute_result",
          "data": {
            "text/plain": [
              "{'fit_time': array([0.00616431, 0.00363517, 0.00177884, 0.00199604, 0.00166583]),\n",
              " 'score_time': array([0.0048821 , 0.00073171, 0.0006032 , 0.00065207, 0.00041604]),\n",
              " 'test_score': array([0.96666667, 1.        , 0.93333333, 0.93333333, 1.        ])}"
            ]
          },
          "metadata": {
            "tags": []
          },
          "execution_count": 137
        }
      ]
    },
    {
      "cell_type": "code",
      "metadata": {
        "id": "qV-BdgqdVi8J",
        "colab": {
          "base_uri": "https://localhost:8080/",
          "height": 471
        },
        "outputId": "d1d9f040-84f6-4867-e1ec-7f474ec85128"
      },
      "source": [
        "pipe = Pipeline([('scaler', StandardScaler()),\n",
        "                ('model', SVC(kernel='linear'))])\n",
        "\n",
        "param_grid = [{'model__gamma': ['scale', 'auto'],\n",
        "               'model__C': [1.0, 0.1, 0.01]}]\n",
        "\n",
        "gs = GridSearchCV(\n",
        "    estimator=pipe,\n",
        "    param_grid=param_grid,\n",
        "    n_jobs=multiprocessing.cpu_count(),\n",
        "    cv=5,\n",
        "    verbose=True\n",
        ")\n",
        "\n",
        "gs.fit(X, y)"
      ],
      "execution_count": null,
      "outputs": [
        {
          "output_type": "stream",
          "text": [
            "Fitting 5 folds for each of 6 candidates, totalling 30 fits\n"
          ],
          "name": "stdout"
        },
        {
          "output_type": "stream",
          "text": [
            "[Parallel(n_jobs=2)]: Using backend LokyBackend with 2 concurrent workers.\n",
            "[Parallel(n_jobs=2)]: Done  30 out of  30 | elapsed:    0.1s finished\n"
          ],
          "name": "stderr"
        },
        {
          "output_type": "execute_result",
          "data": {
            "text/plain": [
              "GridSearchCV(cv=5, error_score=nan,\n",
              "             estimator=Pipeline(memory=None,\n",
              "                                steps=[('scaler',\n",
              "                                        StandardScaler(copy=True,\n",
              "                                                       with_mean=True,\n",
              "                                                       with_std=True)),\n",
              "                                       ('model',\n",
              "                                        SVC(C=1.0, break_ties=False,\n",
              "                                            cache_size=200, class_weight=None,\n",
              "                                            coef0=0.0,\n",
              "                                            decision_function_shape='ovr',\n",
              "                                            degree=3, gamma='scale',\n",
              "                                            kernel='linear', max_iter=-1,\n",
              "                                            probability=False,\n",
              "                                            random_state=None, shrinking=True,\n",
              "                                            tol=0.001, verbose=False))],\n",
              "                                verbose=False),\n",
              "             iid='deprecated', n_jobs=2,\n",
              "             param_grid=[{'model__C': [1.0, 0.1, 0.01],\n",
              "                          'model__gamma': ['scale', 'auto']}],\n",
              "             pre_dispatch='2*n_jobs', refit=True, return_train_score=False,\n",
              "             scoring=None, verbose=True)"
            ]
          },
          "metadata": {
            "tags": []
          },
          "execution_count": 138
        }
      ]
    },
    {
      "cell_type": "code",
      "metadata": {
        "id": "62ea4nHzVi8f",
        "colab": {
          "base_uri": "https://localhost:8080/",
          "height": 199
        },
        "outputId": "273454cb-9235-4bb7-f860-8229c3992688"
      },
      "source": [
        "gs.best_estimator_"
      ],
      "execution_count": null,
      "outputs": [
        {
          "output_type": "execute_result",
          "data": {
            "text/plain": [
              "Pipeline(memory=None,\n",
              "         steps=[('scaler',\n",
              "                 StandardScaler(copy=True, with_mean=True, with_std=True)),\n",
              "                ('model',\n",
              "                 SVC(C=1.0, break_ties=False, cache_size=200, class_weight=None,\n",
              "                     coef0=0.0, decision_function_shape='ovr', degree=3,\n",
              "                     gamma='scale', kernel='linear', max_iter=-1,\n",
              "                     probability=False, random_state=None, shrinking=True,\n",
              "                     tol=0.001, verbose=False))],\n",
              "         verbose=False)"
            ]
          },
          "metadata": {
            "tags": []
          },
          "execution_count": 139
        }
      ]
    },
    {
      "cell_type": "markdown",
      "metadata": {
        "id": "fGErBCXR3P_p"
      },
      "source": [
        "### 와인"
      ]
    },
    {
      "cell_type": "code",
      "metadata": {
        "id": "3rzGcYLjWgL3"
      },
      "source": [
        "X, y = load_wine(return_X_y=True)\n",
        "X_train, X_test, y_train, y_test = train_test_split(X, y, test_size=0.2)"
      ],
      "execution_count": null,
      "outputs": []
    },
    {
      "cell_type": "code",
      "metadata": {
        "id": "AlF8xEfRWgMF"
      },
      "source": [
        "scaler = StandardScaler()\n",
        "scaler.fit(X_train)\n",
        "X_train = scaler.transform(X_train)\n",
        "X_test = scaler.transform(X_test)"
      ],
      "execution_count": null,
      "outputs": []
    },
    {
      "cell_type": "code",
      "metadata": {
        "id": "B1vT5zRRWgMN",
        "colab": {
          "base_uri": "https://localhost:8080/",
          "height": 90
        },
        "outputId": "6d477fc9-7698-499b-e6db-b31e22be2fe8"
      },
      "source": [
        "model = SVC(kernel='linear')\n",
        "model.fit(X_train, y_train)"
      ],
      "execution_count": null,
      "outputs": [
        {
          "output_type": "execute_result",
          "data": {
            "text/plain": [
              "SVC(C=1.0, break_ties=False, cache_size=200, class_weight=None, coef0=0.0,\n",
              "    decision_function_shape='ovr', degree=3, gamma='scale', kernel='linear',\n",
              "    max_iter=-1, probability=False, random_state=None, shrinking=True,\n",
              "    tol=0.001, verbose=False)"
            ]
          },
          "metadata": {
            "tags": []
          },
          "execution_count": 142
        }
      ]
    },
    {
      "cell_type": "code",
      "metadata": {
        "id": "HZxKBqWNWgMW",
        "colab": {
          "base_uri": "https://localhost:8080/",
          "height": 53
        },
        "outputId": "2658074a-2ad0-4eb5-8523-460b5e9dc790"
      },
      "source": [
        "print(\"학습 데이터 점수: {}\".format(model.score(X_train, y_train)))\n",
        "print(\"평가 데이터 점수: {}\".format(model.score(X_test, y_test)))"
      ],
      "execution_count": null,
      "outputs": [
        {
          "output_type": "stream",
          "text": [
            "학습 데이터 점수: 1.0\n",
            "평가 데이터 점수: 0.9444444444444444\n"
          ],
          "name": "stdout"
        }
      ]
    },
    {
      "cell_type": "code",
      "metadata": {
        "id": "qYhQ9yo_WgMg"
      },
      "source": [
        "def make_meshgrid(x, y, h=.02):\n",
        "  x_min, x_max = x.min()-1, x.max()+1\n",
        "  y_min, y_max = y.min()-1, y.max()+1\n",
        "  xx, yy = np.meshgrid(np.arange(x_min, x_max, h),\n",
        "                       np.arange(y_min, y_max, h))\n",
        "  \n",
        "  return xx, yy"
      ],
      "execution_count": null,
      "outputs": []
    },
    {
      "cell_type": "code",
      "metadata": {
        "id": "k8G7J81sWgMm"
      },
      "source": [
        "def plot_contours(clf, xx, yy, **params):\n",
        "  Z = clf.predict(np.c_[xx.ravel(), yy.ravel()])\n",
        "  Z = Z.reshape(xx.shape)\n",
        "  out = plt.contourf(xx, yy, Z, **params)\n",
        "\n",
        "  return out"
      ],
      "execution_count": null,
      "outputs": []
    },
    {
      "cell_type": "code",
      "metadata": {
        "id": "BcIlV3-YWgMt"
      },
      "source": [
        "X_comp = TSNE(n_components=2).fit_transform(X)\n",
        "X0, X1 = X_comp[:, 0], X_comp[:, 1]\n",
        "xx, yy = make_meshgrid(X0, X1)"
      ],
      "execution_count": null,
      "outputs": []
    },
    {
      "cell_type": "code",
      "metadata": {
        "id": "i-1AI4TLWgMz",
        "colab": {
          "base_uri": "https://localhost:8080/",
          "height": 262
        },
        "outputId": "cce43808-c95c-4f08-ddab-a2ae54177f1d"
      },
      "source": [
        "model.fit(X_comp, y)\n",
        "\n",
        "plot_contours(model, xx, yy, cmap=plt.cm.coolwarm, alpha=0.7)\n",
        "plt.scatter(X0, X1, c=y, cmap=plt.cm.coolwarm, s=20, edgecolors='k');"
      ],
      "execution_count": null,
      "outputs": [
        {
          "output_type": "display_data",
          "data": {
            "image/png": "[encoded data removed]",
            "text/plain": [
              "<Figure size 432x288 with 1 Axes>"
            ]
          },
          "metadata": {
            "tags": [],
            "needs_background": "light"
          }
        }
      ]
    },
    {
      "cell_type": "code",
      "metadata": {
        "id": "WUUJRzWVWgM9",
        "colab": {
          "base_uri": "https://localhost:8080/",
          "height": 108
        },
        "outputId": "58836a49-6ede-49a9-a71a-c4d1caf47f19"
      },
      "source": [
        "estimator = make_pipeline(StandardScaler(), SVC(kernel='linear'))\n",
        "\n",
        "cross_validate(\n",
        "    estimator=estimator,\n",
        "    X=X, y=y,\n",
        "    cv=5,\n",
        "    n_jobs=multiprocessing.cpu_count(),\n",
        "    verbose=True\n",
        ")"
      ],
      "execution_count": null,
      "outputs": [
        {
          "output_type": "stream",
          "text": [
            "[Parallel(n_jobs=2)]: Using backend LokyBackend with 2 concurrent workers.\n",
            "[Parallel(n_jobs=2)]: Done   5 out of   5 | elapsed:    0.0s finished\n"
          ],
          "name": "stderr"
        },
        {
          "output_type": "execute_result",
          "data": {
            "text/plain": [
              "{'fit_time': array([0.00212646, 0.00289202, 0.00195146, 0.00269127, 0.00183082]),\n",
              " 'score_time': array([0.00048518, 0.00072408, 0.00059271, 0.00064301, 0.00038457]),\n",
              " 'test_score': array([0.94444444, 0.97222222, 0.97222222, 0.97142857, 0.94285714])}"
            ]
          },
          "metadata": {
            "tags": []
          },
          "execution_count": 148
        }
      ]
    },
    {
      "cell_type": "code",
      "metadata": {
        "id": "XQvcMb2CWgNC",
        "colab": {
          "base_uri": "https://localhost:8080/",
          "height": 471
        },
        "outputId": "d7bfe256-3e8a-42ed-deb5-c1190cd57501"
      },
      "source": [
        "pipe = Pipeline([('scaler', StandardScaler()),\n",
        "                ('model', SVC(kernel='linear'))])\n",
        "\n",
        "param_grid = [{'model__gamma': ['scale', 'auto'],\n",
        "               'model__C': [1.0, 0.1, 0.01]}]\n",
        "\n",
        "gs = GridSearchCV(\n",
        "    estimator=pipe,\n",
        "    param_grid=param_grid,\n",
        "    n_jobs=multiprocessing.cpu_count(),\n",
        "    cv=5,\n",
        "    verbose=True\n",
        ")\n",
        "\n",
        "gs.fit(X, y)"
      ],
      "execution_count": null,
      "outputs": [
        {
          "output_type": "stream",
          "text": [
            "Fitting 5 folds for each of 6 candidates, totalling 30 fits\n"
          ],
          "name": "stdout"
        },
        {
          "output_type": "stream",
          "text": [
            "[Parallel(n_jobs=2)]: Using backend LokyBackend with 2 concurrent workers.\n",
            "[Parallel(n_jobs=2)]: Done  30 out of  30 | elapsed:    0.1s finished\n"
          ],
          "name": "stderr"
        },
        {
          "output_type": "execute_result",
          "data": {
            "text/plain": [
              "GridSearchCV(cv=5, error_score=nan,\n",
              "             estimator=Pipeline(memory=None,\n",
              "                                steps=[('scaler',\n",
              "                                        StandardScaler(copy=True,\n",
              "                                                       with_mean=True,\n",
              "                                                       with_std=True)),\n",
              "                                       ('model',\n",
              "                                        SVC(C=1.0, break_ties=False,\n",
              "                                            cache_size=200, class_weight=None,\n",
              "                                            coef0=0.0,\n",
              "                                            decision_function_shape='ovr',\n",
              "                                            degree=3, gamma='scale',\n",
              "                                            kernel='linear', max_iter=-1,\n",
              "                                            probability=False,\n",
              "                                            random_state=None, shrinking=True,\n",
              "                                            tol=0.001, verbose=False))],\n",
              "                                verbose=False),\n",
              "             iid='deprecated', n_jobs=2,\n",
              "             param_grid=[{'model__C': [1.0, 0.1, 0.01],\n",
              "                          'model__gamma': ['scale', 'auto']}],\n",
              "             pre_dispatch='2*n_jobs', refit=True, return_train_score=False,\n",
              "             scoring=None, verbose=True)"
            ]
          },
          "metadata": {
            "tags": []
          },
          "execution_count": 150
        }
      ]
    },
    {
      "cell_type": "code",
      "metadata": {
        "id": "WweMXpb_WgNK",
        "colab": {
          "base_uri": "https://localhost:8080/",
          "height": 199
        },
        "outputId": "3b581d8a-9411-4687-97ff-cda4a4990128"
      },
      "source": [
        "gs.best_estimator_"
      ],
      "execution_count": null,
      "outputs": [
        {
          "output_type": "execute_result",
          "data": {
            "text/plain": [
              "Pipeline(memory=None,\n",
              "         steps=[('scaler',\n",
              "                 StandardScaler(copy=True, with_mean=True, with_std=True)),\n",
              "                ('model',\n",
              "                 SVC(C=0.1, break_ties=False, cache_size=200, class_weight=None,\n",
              "                     coef0=0.0, decision_function_shape='ovr', degree=3,\n",
              "                     gamma='scale', kernel='linear', max_iter=-1,\n",
              "                     probability=False, random_state=None, shrinking=True,\n",
              "                     tol=0.001, verbose=False))],\n",
              "         verbose=False)"
            ]
          },
          "metadata": {
            "tags": []
          },
          "execution_count": 152
        }
      ]
    },
    {
      "cell_type": "markdown",
      "metadata": {
        "id": "NKavNYlxN1fB"
      },
      "source": [
        "## Kernel SVC"
      ]
    },
    {
      "cell_type": "markdown",
      "metadata": {
        "id": "M7QkeGrdOAxV"
      },
      "source": [
        "### 유방암"
      ]
    },
    {
      "cell_type": "code",
      "metadata": {
        "id": "XO4P5mt9kAC5"
      },
      "source": [
        "X, y = load_breast_cancer(return_X_y=True)\n",
        "X_train, X_test, y_train, y_test = train_test_split(X, y, test_size=0.2)"
      ],
      "execution_count": null,
      "outputs": []
    },
    {
      "cell_type": "code",
      "metadata": {
        "id": "yevxKRT5kADv"
      },
      "source": [
        "scaler = StandardScaler()\n",
        "scaler.fit(X_train)\n",
        "X_train = scaler.transform(X_train)\n",
        "X_test = scaler.transform(X_test)"
      ],
      "execution_count": null,
      "outputs": []
    },
    {
      "cell_type": "code",
      "metadata": {
        "id": "iSrXqr2gkAD1",
        "colab": {
          "base_uri": "https://localhost:8080/",
          "height": 90
        },
        "outputId": "f3655e93-10f9-4976-8265-cd5cc729e431"
      },
      "source": [
        "model = SVC(kernel='rbf')\n",
        "model.fit(X_train, y_train)"
      ],
      "execution_count": null,
      "outputs": [
        {
          "output_type": "execute_result",
          "data": {
            "text/plain": [
              "SVC(C=1.0, break_ties=False, cache_size=200, class_weight=None, coef0=0.0,\n",
              "    decision_function_shape='ovr', degree=3, gamma='scale', kernel='rbf',\n",
              "    max_iter=-1, probability=False, random_state=None, shrinking=True,\n",
              "    tol=0.001, verbose=False)"
            ]
          },
          "metadata": {
            "tags": []
          },
          "execution_count": 161
        }
      ]
    },
    {
      "cell_type": "code",
      "metadata": {
        "id": "L-I1dSyakAD8",
        "colab": {
          "base_uri": "https://localhost:8080/",
          "height": 53
        },
        "outputId": "48900406-cc40-4f72-cd01-4b7bc54fe87b"
      },
      "source": [
        "print(\"학습 데이터 점수: {}\".format(model.score(X_train, y_train)))\n",
        "print(\"평가 데이터 점수: {}\".format(model.score(X_test, y_test)))"
      ],
      "execution_count": null,
      "outputs": [
        {
          "output_type": "stream",
          "text": [
            "학습 데이터 점수: 0.9868131868131869\n",
            "평가 데이터 점수: 0.9736842105263158\n"
          ],
          "name": "stdout"
        }
      ]
    },
    {
      "cell_type": "code",
      "metadata": {
        "id": "gVw4RiyFkAEq"
      },
      "source": [
        "def make_meshgrid(x, y, h=.02):\n",
        "  x_min, x_max = x.min()-1, x.max()+1\n",
        "  y_min, y_max = y.min()-1, y.max()+1\n",
        "  xx, yy = np.meshgrid(np.arange(x_min, x_max, h),\n",
        "                       np.arange(y_min, y_max, h))\n",
        "  \n",
        "  return xx, yy"
      ],
      "execution_count": null,
      "outputs": []
    },
    {
      "cell_type": "code",
      "metadata": {
        "id": "kBbj4I4-kAEu"
      },
      "source": [
        "def plot_contours(clf, xx, yy, **params):\n",
        "  Z = clf.predict(np.c_[xx.ravel(), yy.ravel()])\n",
        "  Z = Z.reshape(xx.shape)\n",
        "  out = plt.contourf(xx, yy, Z, **params)\n",
        "\n",
        "  return out"
      ],
      "execution_count": null,
      "outputs": []
    },
    {
      "cell_type": "code",
      "metadata": {
        "id": "aYTAN7FGkAEy"
      },
      "source": [
        "X_comp = TSNE(n_components=2).fit_transform(X)\n",
        "X0, X1 = X_comp[:, 0], X_comp[:, 1]\n",
        "xx, yy = make_meshgrid(X0, X1)"
      ],
      "execution_count": null,
      "outputs": []
    },
    {
      "cell_type": "code",
      "metadata": {
        "id": "eqjrZDwCkAE5",
        "colab": {
          "base_uri": "https://localhost:8080/",
          "height": 262
        },
        "outputId": "a5acecc6-3892-401e-bd69-e13d83034b0e"
      },
      "source": [
        "model.fit(X_comp, y)\n",
        "\n",
        "plot_contours(model, xx, yy, cmap=plt.cm.coolwarm, alpha=0.7)\n",
        "plt.scatter(X0, X1, c=y, cmap=plt.cm.coolwarm, s=20, edgecolors='k');"
      ],
      "execution_count": null,
      "outputs": [
        {
          "output_type": "display_data",
          "data": {
            "image/png": "[encoded data removed]",
            "text/plain": [
              "<Figure size 432x288 with 1 Axes>"
            ]
          },
          "metadata": {
            "tags": [],
            "needs_background": "light"
          }
        }
      ]
    },
    {
      "cell_type": "code",
      "metadata": {
        "id": "BsdttWNAkAE-",
        "colab": {
          "base_uri": "https://localhost:8080/",
          "height": 108
        },
        "outputId": "e6e5c19b-5c94-4656-abf1-5ddc57f9035d"
      },
      "source": [
        "estimator = make_pipeline(StandardScaler(), SVC(kernel='rbf'))\n",
        "\n",
        "cross_validate(\n",
        "    estimator=estimator,\n",
        "    X=X, y=y,\n",
        "    cv=5,\n",
        "    n_jobs=multiprocessing.cpu_count(),\n",
        "    verbose=True\n",
        ")"
      ],
      "execution_count": null,
      "outputs": [
        {
          "output_type": "stream",
          "text": [
            "[Parallel(n_jobs=2)]: Using backend LokyBackend with 2 concurrent workers.\n",
            "[Parallel(n_jobs=2)]: Done   5 out of   5 | elapsed:    0.0s finished\n"
          ],
          "name": "stderr"
        },
        {
          "output_type": "execute_result",
          "data": {
            "text/plain": [
              "{'fit_time': array([0.0093019 , 0.00799632, 0.01109934, 0.00788903, 0.00560308]),\n",
              " 'score_time': array([0.00187373, 0.00195479, 0.00178385, 0.00164199, 0.00115585]),\n",
              " 'test_score': array([0.97368421, 0.95614035, 1.        , 0.96491228, 0.97345133])}"
            ]
          },
          "metadata": {
            "tags": []
          },
          "execution_count": 166
        }
      ]
    },
    {
      "cell_type": "code",
      "metadata": {
        "id": "XvLbbpblkAFC",
        "colab": {
          "base_uri": "https://localhost:8080/",
          "height": 471
        },
        "outputId": "dc68ae6d-18b7-4737-bf41-0a4fca3711b3"
      },
      "source": [
        "pipe = Pipeline([('scaler', StandardScaler()),\n",
        "                ('model', SVC(kernel='rbf'))])\n",
        "\n",
        "param_grid = [{'model__gamma': ['scale', 'auto'],\n",
        "               'model__C': [1.0, 0.1, 0.01]}]\n",
        "\n",
        "gs = GridSearchCV(\n",
        "    estimator=pipe,\n",
        "    param_grid=param_grid,\n",
        "    n_jobs=multiprocessing.cpu_count(),\n",
        "    cv=5,\n",
        "    verbose=True\n",
        ")\n",
        "\n",
        "gs.fit(X, y)"
      ],
      "execution_count": null,
      "outputs": [
        {
          "output_type": "stream",
          "text": [
            "Fitting 5 folds for each of 6 candidates, totalling 30 fits\n"
          ],
          "name": "stdout"
        },
        {
          "output_type": "stream",
          "text": [
            "[Parallel(n_jobs=2)]: Using backend LokyBackend with 2 concurrent workers.\n",
            "[Parallel(n_jobs=2)]: Done  30 out of  30 | elapsed:    0.3s finished\n"
          ],
          "name": "stderr"
        },
        {
          "output_type": "execute_result",
          "data": {
            "text/plain": [
              "GridSearchCV(cv=5, error_score=nan,\n",
              "             estimator=Pipeline(memory=None,\n",
              "                                steps=[('scaler',\n",
              "                                        StandardScaler(copy=True,\n",
              "                                                       with_mean=True,\n",
              "                                                       with_std=True)),\n",
              "                                       ('model',\n",
              "                                        SVC(C=1.0, break_ties=False,\n",
              "                                            cache_size=200, class_weight=None,\n",
              "                                            coef0=0.0,\n",
              "                                            decision_function_shape='ovr',\n",
              "                                            degree=3, gamma='scale',\n",
              "                                            kernel='rbf', max_iter=-1,\n",
              "                                            probability=False,\n",
              "                                            random_state=None, shrinking=True,\n",
              "                                            tol=0.001, verbose=False))],\n",
              "                                verbose=False),\n",
              "             iid='deprecated', n_jobs=2,\n",
              "             param_grid=[{'model__C': [1.0, 0.1, 0.01],\n",
              "                          'model__gamma': ['scale', 'auto']}],\n",
              "             pre_dispatch='2*n_jobs', refit=True, return_train_score=False,\n",
              "             scoring=None, verbose=True)"
            ]
          },
          "metadata": {
            "tags": []
          },
          "execution_count": 167
        }
      ]
    },
    {
      "cell_type": "code",
      "metadata": {
        "id": "-8mh7FkRkAFJ",
        "colab": {
          "base_uri": "https://localhost:8080/",
          "height": 199
        },
        "outputId": "e8532de5-f2cc-4413-f1a3-10127c6c1a65"
      },
      "source": [
        "gs.best_estimator_"
      ],
      "execution_count": null,
      "outputs": [
        {
          "output_type": "execute_result",
          "data": {
            "text/plain": [
              "Pipeline(memory=None,\n",
              "         steps=[('scaler',\n",
              "                 StandardScaler(copy=True, with_mean=True, with_std=True)),\n",
              "                ('model',\n",
              "                 SVC(C=1.0, break_ties=False, cache_size=200, class_weight=None,\n",
              "                     coef0=0.0, decision_function_shape='ovr', degree=3,\n",
              "                     gamma='scale', kernel='rbf', max_iter=-1,\n",
              "                     probability=False, random_state=None, shrinking=True,\n",
              "                     tol=0.001, verbose=False))],\n",
              "         verbose=False)"
            ]
          },
          "metadata": {
            "tags": []
          },
          "execution_count": 168
        }
      ]
    },
    {
      "cell_type": "markdown",
      "metadata": {
        "id": "8488abTBN-GA"
      },
      "source": [
        "### 붓꽃"
      ]
    },
    {
      "cell_type": "code",
      "metadata": {
        "id": "nDPT6ZhmlxwX"
      },
      "source": [
        "X, y = load_iris(return_X_y=True)\n",
        "X_train, X_test, y_train, y_test = train_test_split(X, y, test_size=0.2)"
      ],
      "execution_count": null,
      "outputs": []
    },
    {
      "cell_type": "code",
      "metadata": {
        "id": "yUDFtBOjlxwi"
      },
      "source": [
        "scaler = StandardScaler()\n",
        "scaler.fit(X_train)\n",
        "X_train = scaler.transform(X_train)\n",
        "X_test = scaler.transform(X_test)"
      ],
      "execution_count": null,
      "outputs": []
    },
    {
      "cell_type": "code",
      "metadata": {
        "id": "HAMweYWOlxwp",
        "colab": {
          "base_uri": "https://localhost:8080/",
          "height": 90
        },
        "outputId": "2382f4f7-a960-4da9-dcc2-3a3eb9fa8174"
      },
      "source": [
        "model = SVC(kernel='rbf')\n",
        "model.fit(X_train, y_train)"
      ],
      "execution_count": null,
      "outputs": [
        {
          "output_type": "execute_result",
          "data": {
            "text/plain": [
              "SVC(C=1.0, break_ties=False, cache_size=200, class_weight=None, coef0=0.0,\n",
              "    decision_function_shape='ovr', degree=3, gamma='scale', kernel='rbf',\n",
              "    max_iter=-1, probability=False, random_state=None, shrinking=True,\n",
              "    tol=0.001, verbose=False)"
            ]
          },
          "metadata": {
            "tags": []
          },
          "execution_count": 172
        }
      ]
    },
    {
      "cell_type": "code",
      "metadata": {
        "id": "ZMSj4PFFlxw1",
        "colab": {
          "base_uri": "https://localhost:8080/",
          "height": 53
        },
        "outputId": "5a2f4ace-e65e-49fb-a21f-e971265c5d4c"
      },
      "source": [
        "print(\"학습 데이터 점수: {}\".format(model.score(X_train, y_train)))\n",
        "print(\"평가 데이터 점수: {}\".format(model.score(X_test, y_test)))"
      ],
      "execution_count": null,
      "outputs": [
        {
          "output_type": "stream",
          "text": [
            "학습 데이터 점수: 0.975\n",
            "평가 데이터 점수: 0.9666666666666667\n"
          ],
          "name": "stdout"
        }
      ]
    },
    {
      "cell_type": "code",
      "metadata": {
        "id": "esk3D9qzlxxC"
      },
      "source": [
        "def make_meshgrid(x, y, h=.02):\n",
        "  x_min, x_max = x.min()-1, x.max()+1\n",
        "  y_min, y_max = y.min()-1, y.max()+1\n",
        "  xx, yy = np.meshgrid(np.arange(x_min, x_max, h),\n",
        "                       np.arange(y_min, y_max, h))\n",
        "  \n",
        "  return xx, yy"
      ],
      "execution_count": null,
      "outputs": []
    },
    {
      "cell_type": "code",
      "metadata": {
        "id": "4eGN-ygclxxJ"
      },
      "source": [
        "def plot_contours(clf, xx, yy, **params):\n",
        "  Z = clf.predict(np.c_[xx.ravel(), yy.ravel()])\n",
        "  Z = Z.reshape(xx.shape)\n",
        "  out = plt.contourf(xx, yy, Z, **params)\n",
        "\n",
        "  return out"
      ],
      "execution_count": null,
      "outputs": []
    },
    {
      "cell_type": "code",
      "metadata": {
        "id": "O65tTgHXlxxP"
      },
      "source": [
        "X_comp = TSNE(n_components=2).fit_transform(X)\n",
        "X0, X1 = X_comp[:, 0], X_comp[:, 1]\n",
        "xx, yy = make_meshgrid(X0, X1)"
      ],
      "execution_count": null,
      "outputs": []
    },
    {
      "cell_type": "code",
      "metadata": {
        "id": "ltwhfnCAlxxV",
        "colab": {
          "base_uri": "https://localhost:8080/",
          "height": 265
        },
        "outputId": "5050d079-8012-42a4-e41e-446c74d54b44"
      },
      "source": [
        "model.fit(X_comp, y)\n",
        "\n",
        "plot_contours(model, xx, yy, cmap=plt.cm.coolwarm, alpha=0.7)\n",
        "plt.scatter(X0, X1, c=y, cmap=plt.cm.coolwarm, s=20, edgecolors='k');"
      ],
      "execution_count": null,
      "outputs": [
        {
          "output_type": "display_data",
          "data": {
            "image/png": "[encoded data removed]",
            "text/plain": [
              "<Figure size 432x288 with 1 Axes>"
            ]
          },
          "metadata": {
            "tags": [],
            "needs_background": "light"
          }
        }
      ]
    },
    {
      "cell_type": "code",
      "metadata": {
        "id": "DQ8rsVVdlxxe",
        "colab": {
          "base_uri": "https://localhost:8080/",
          "height": 108
        },
        "outputId": "9b497b89-6594-4db2-9b8b-271efb9e2f14"
      },
      "source": [
        "estimator = make_pipeline(StandardScaler(), SVC(kernel='rbf'))\n",
        "\n",
        "cross_validate(\n",
        "    estimator=estimator,\n",
        "    X=X, y=y,\n",
        "    cv=5,\n",
        "    n_jobs=multiprocessing.cpu_count(),\n",
        "    verbose=True\n",
        ")"
      ],
      "execution_count": null,
      "outputs": [
        {
          "output_type": "stream",
          "text": [
            "[Parallel(n_jobs=2)]: Using backend LokyBackend with 2 concurrent workers.\n",
            "[Parallel(n_jobs=2)]: Done   5 out of   5 | elapsed:    0.0s finished\n"
          ],
          "name": "stderr"
        },
        {
          "output_type": "execute_result",
          "data": {
            "text/plain": [
              "{'fit_time': array([0.00258708, 0.00241613, 0.00172687, 0.00213289, 0.00196624]),\n",
              " 'score_time': array([0.00069642, 0.00217819, 0.00063133, 0.00063562, 0.00045371]),\n",
              " 'test_score': array([0.96666667, 0.96666667, 0.96666667, 0.93333333, 1.        ])}"
            ]
          },
          "metadata": {
            "tags": []
          },
          "execution_count": 177
        }
      ]
    },
    {
      "cell_type": "code",
      "metadata": {
        "id": "d2yjXB1alxxm",
        "colab": {
          "base_uri": "https://localhost:8080/",
          "height": 471
        },
        "outputId": "b709e5b5-09ca-4575-b8c6-2fe7dcd25f90"
      },
      "source": [
        "pipe = Pipeline([('scaler', StandardScaler()),\n",
        "                ('model', SVC(kernel='rbf'))])\n",
        "\n",
        "param_grid = [{'model__gamma': ['scale', 'auto'],\n",
        "               'model__C': [1.0, 0.1, 0.01]}]\n",
        "\n",
        "gs = GridSearchCV(\n",
        "    estimator=pipe,\n",
        "    param_grid=param_grid,\n",
        "    n_jobs=multiprocessing.cpu_count(),\n",
        "    cv=5,\n",
        "    verbose=True\n",
        ")\n",
        "\n",
        "gs.fit(X, y)"
      ],
      "execution_count": null,
      "outputs": [
        {
          "output_type": "stream",
          "text": [
            "Fitting 5 folds for each of 6 candidates, totalling 30 fits\n"
          ],
          "name": "stdout"
        },
        {
          "output_type": "stream",
          "text": [
            "[Parallel(n_jobs=2)]: Using backend LokyBackend with 2 concurrent workers.\n",
            "[Parallel(n_jobs=2)]: Done  30 out of  30 | elapsed:    0.1s finished\n"
          ],
          "name": "stderr"
        },
        {
          "output_type": "execute_result",
          "data": {
            "text/plain": [
              "GridSearchCV(cv=5, error_score=nan,\n",
              "             estimator=Pipeline(memory=None,\n",
              "                                steps=[('scaler',\n",
              "                                        StandardScaler(copy=True,\n",
              "                                                       with_mean=True,\n",
              "                                                       with_std=True)),\n",
              "                                       ('model',\n",
              "                                        SVC(C=1.0, break_ties=False,\n",
              "                                            cache_size=200, class_weight=None,\n",
              "                                            coef0=0.0,\n",
              "                                            decision_function_shape='ovr',\n",
              "                                            degree=3, gamma='scale',\n",
              "                                            kernel='rbf', max_iter=-1,\n",
              "                                            probability=False,\n",
              "                                            random_state=None, shrinking=True,\n",
              "                                            tol=0.001, verbose=False))],\n",
              "                                verbose=False),\n",
              "             iid='deprecated', n_jobs=2,\n",
              "             param_grid=[{'model__C': [1.0, 0.1, 0.01],\n",
              "                          'model__gamma': ['scale', 'auto']}],\n",
              "             pre_dispatch='2*n_jobs', refit=True, return_train_score=False,\n",
              "             scoring=None, verbose=True)"
            ]
          },
          "metadata": {
            "tags": []
          },
          "execution_count": 178
        }
      ]
    },
    {
      "cell_type": "code",
      "metadata": {
        "id": "BS0lgt_4lxxw",
        "colab": {
          "base_uri": "https://localhost:8080/",
          "height": 199
        },
        "outputId": "3bc958a7-d516-4e0f-ea80-de7ec1bc1a97"
      },
      "source": [
        "gs.best_estimator_"
      ],
      "execution_count": null,
      "outputs": [
        {
          "output_type": "execute_result",
          "data": {
            "text/plain": [
              "Pipeline(memory=None,\n",
              "         steps=[('scaler',\n",
              "                 StandardScaler(copy=True, with_mean=True, with_std=True)),\n",
              "                ('model',\n",
              "                 SVC(C=1.0, break_ties=False, cache_size=200, class_weight=None,\n",
              "                     coef0=0.0, decision_function_shape='ovr', degree=3,\n",
              "                     gamma='scale', kernel='rbf', max_iter=-1,\n",
              "                     probability=False, random_state=None, shrinking=True,\n",
              "                     tol=0.001, verbose=False))],\n",
              "         verbose=False)"
            ]
          },
          "metadata": {
            "tags": []
          },
          "execution_count": 179
        }
      ]
    },
    {
      "cell_type": "markdown",
      "metadata": {
        "id": "nidX5eMZ3ncE"
      },
      "source": [
        "### 와인"
      ]
    },
    {
      "cell_type": "code",
      "metadata": {
        "id": "ESy3-kyLmlpy"
      },
      "source": [
        "X, y = load_wine(return_X_y=True)\n",
        "X_train, X_test, y_train, y_test = train_test_split(X, y, test_size=0.2)"
      ],
      "execution_count": null,
      "outputs": []
    },
    {
      "cell_type": "code",
      "metadata": {
        "id": "JDIHqbZQmlp7"
      },
      "source": [
        "scaler = StandardScaler()\n",
        "scaler.fit(X_train)\n",
        "X_train = scaler.transform(X_train)\n",
        "X_test = scaler.transform(X_test)"
      ],
      "execution_count": null,
      "outputs": []
    },
    {
      "cell_type": "code",
      "metadata": {
        "id": "teQpEE9QmlqC",
        "colab": {
          "base_uri": "https://localhost:8080/",
          "height": 90
        },
        "outputId": "82b696fb-abf2-482e-8194-8ca5a5ee2a8b"
      },
      "source": [
        "model = SVC(kernel='rbf')\n",
        "model.fit(X_train, y_train)"
      ],
      "execution_count": null,
      "outputs": [
        {
          "output_type": "execute_result",
          "data": {
            "text/plain": [
              "SVC(C=1.0, break_ties=False, cache_size=200, class_weight=None, coef0=0.0,\n",
              "    decision_function_shape='ovr', degree=3, gamma='scale', kernel='rbf',\n",
              "    max_iter=-1, probability=False, random_state=None, shrinking=True,\n",
              "    tol=0.001, verbose=False)"
            ]
          },
          "metadata": {
            "tags": []
          },
          "execution_count": 183
        }
      ]
    },
    {
      "cell_type": "code",
      "metadata": {
        "id": "-fdFQ100mlqH",
        "colab": {
          "base_uri": "https://localhost:8080/",
          "height": 53
        },
        "outputId": "e1971d47-e32c-474d-e577-e3903c895cc7"
      },
      "source": [
        "print(\"학습 데이터 점수: {}\".format(model.score(X_train, y_train)))\n",
        "print(\"평가 데이터 점수: {}\".format(model.score(X_test, y_test)))"
      ],
      "execution_count": null,
      "outputs": [
        {
          "output_type": "stream",
          "text": [
            "학습 데이터 점수: 1.0\n",
            "평가 데이터 점수: 1.0\n"
          ],
          "name": "stdout"
        }
      ]
    },
    {
      "cell_type": "code",
      "metadata": {
        "id": "8XIyyKT2mlqP"
      },
      "source": [
        "def make_meshgrid(x, y, h=.02):\n",
        "  x_min, x_max = x.min()-1, x.max()+1\n",
        "  y_min, y_max = y.min()-1, y.max()+1\n",
        "  xx, yy = np.meshgrid(np.arange(x_min, x_max, h),\n",
        "                       np.arange(y_min, y_max, h))\n",
        "  \n",
        "  return xx, yy"
      ],
      "execution_count": null,
      "outputs": []
    },
    {
      "cell_type": "code",
      "metadata": {
        "id": "vV2IErDJmlqU"
      },
      "source": [
        "def plot_contours(clf, xx, yy, **params):\n",
        "  Z = clf.predict(np.c_[xx.ravel(), yy.ravel()])\n",
        "  Z = Z.reshape(xx.shape)\n",
        "  out = plt.contourf(xx, yy, Z, **params)\n",
        "\n",
        "  return out"
      ],
      "execution_count": null,
      "outputs": []
    },
    {
      "cell_type": "code",
      "metadata": {
        "id": "Ep6K2PwFmlqZ"
      },
      "source": [
        "X_comp = TSNE(n_components=2).fit_transform(X)\n",
        "X0, X1 = X_comp[:, 0], X_comp[:, 1]\n",
        "xx, yy = make_meshgrid(X0, X1)"
      ],
      "execution_count": null,
      "outputs": []
    },
    {
      "cell_type": "code",
      "metadata": {
        "id": "K8jCUGbumlqe",
        "colab": {
          "base_uri": "https://localhost:8080/",
          "height": 262
        },
        "outputId": "d63e24ef-5fe4-4701-a249-6bc06a36d529"
      },
      "source": [
        "model.fit(X_comp, y)\n",
        "\n",
        "plot_contours(model, xx, yy, cmap=plt.cm.coolwarm, alpha=0.7)\n",
        "plt.scatter(X0, X1, c=y, cmap=plt.cm.coolwarm, s=20, edgecolors='k');"
      ],
      "execution_count": null,
      "outputs": [
        {
          "output_type": "display_data",
          "data": {
            "image/png": "[encoded data removed]",
            "text/plain": [
              "<Figure size 432x288 with 1 Axes>"
            ]
          },
          "metadata": {
            "tags": [],
            "needs_background": "light"
          }
        }
      ]
    },
    {
      "cell_type": "code",
      "metadata": {
        "id": "ABx2AdHRmlqh",
        "colab": {
          "base_uri": "https://localhost:8080/",
          "height": 108
        },
        "outputId": "8db7872c-c70e-44ac-879e-9a069b87ed58"
      },
      "source": [
        "estimator = make_pipeline(StandardScaler(), SVC(kernel='rbf'))\n",
        "\n",
        "cross_validate(\n",
        "    estimator=estimator,\n",
        "    X=X, y=y,\n",
        "    cv=5,\n",
        "    n_jobs=multiprocessing.cpu_count(),\n",
        "    verbose=True\n",
        ")"
      ],
      "execution_count": null,
      "outputs": [
        {
          "output_type": "stream",
          "text": [
            "[Parallel(n_jobs=2)]: Using backend LokyBackend with 2 concurrent workers.\n",
            "[Parallel(n_jobs=2)]: Done   5 out of   5 | elapsed:    0.0s finished\n"
          ],
          "name": "stderr"
        },
        {
          "output_type": "execute_result",
          "data": {
            "text/plain": [
              "{'fit_time': array([0.00393462, 0.0034039 , 0.00289726, 0.00221276, 0.00191236]),\n",
              " 'score_time': array([0.00080538, 0.00085497, 0.00074267, 0.00359654, 0.00048971]),\n",
              " 'test_score': array([1.        , 0.97222222, 0.94444444, 1.        , 1.        ])}"
            ]
          },
          "metadata": {
            "tags": []
          },
          "execution_count": 188
        }
      ]
    },
    {
      "cell_type": "code",
      "metadata": {
        "id": "y9UDj3mamlqr",
        "colab": {
          "base_uri": "https://localhost:8080/",
          "height": 471
        },
        "outputId": "fa3f51fa-8629-4b90-e69a-092aeb5c65b8"
      },
      "source": [
        "pipe = Pipeline([('scaler', StandardScaler()),\n",
        "                ('model', SVC(kernel='rbf'))])\n",
        "\n",
        "param_grid = [{'model__gamma': ['scale', 'auto'],\n",
        "               'model__C': [1.0, 0.1, 0.01]}]\n",
        "\n",
        "gs = GridSearchCV(\n",
        "    estimator=pipe,\n",
        "    param_grid=param_grid,\n",
        "    n_jobs=multiprocessing.cpu_count(),\n",
        "    cv=5,\n",
        "    verbose=True\n",
        ")\n",
        "\n",
        "gs.fit(X, y)"
      ],
      "execution_count": null,
      "outputs": [
        {
          "output_type": "stream",
          "text": [
            "Fitting 5 folds for each of 6 candidates, totalling 30 fits\n"
          ],
          "name": "stdout"
        },
        {
          "output_type": "stream",
          "text": [
            "[Parallel(n_jobs=2)]: Using backend LokyBackend with 2 concurrent workers.\n",
            "[Parallel(n_jobs=2)]: Done  30 out of  30 | elapsed:    0.1s finished\n"
          ],
          "name": "stderr"
        },
        {
          "output_type": "execute_result",
          "data": {
            "text/plain": [
              "GridSearchCV(cv=5, error_score=nan,\n",
              "             estimator=Pipeline(memory=None,\n",
              "                                steps=[('scaler',\n",
              "                                        StandardScaler(copy=True,\n",
              "                                                       with_mean=True,\n",
              "                                                       with_std=True)),\n",
              "                                       ('model',\n",
              "                                        SVC(C=1.0, break_ties=False,\n",
              "                                            cache_size=200, class_weight=None,\n",
              "                                            coef0=0.0,\n",
              "                                            decision_function_shape='ovr',\n",
              "                                            degree=3, gamma='scale',\n",
              "                                            kernel='rbf', max_iter=-1,\n",
              "                                            probability=False,\n",
              "                                            random_state=None, shrinking=True,\n",
              "                                            tol=0.001, verbose=False))],\n",
              "                                verbose=False),\n",
              "             iid='deprecated', n_jobs=2,\n",
              "             param_grid=[{'model__C': [1.0, 0.1, 0.01],\n",
              "                          'model__gamma': ['scale', 'auto']}],\n",
              "             pre_dispatch='2*n_jobs', refit=True, return_train_score=False,\n",
              "             scoring=None, verbose=True)"
            ]
          },
          "metadata": {
            "tags": []
          },
          "execution_count": 192
        }
      ]
    },
    {
      "cell_type": "code",
      "metadata": {
        "id": "D1DWOBUgmlqx",
        "colab": {
          "base_uri": "https://localhost:8080/",
          "height": 199
        },
        "outputId": "2081fcd2-2ad0-4040-c99f-9f71fa0e8dae"
      },
      "source": [
        "gs.best_estimator_"
      ],
      "execution_count": null,
      "outputs": [
        {
          "output_type": "execute_result",
          "data": {
            "text/plain": [
              "Pipeline(memory=None,\n",
              "         steps=[('scaler',\n",
              "                 StandardScaler(copy=True, with_mean=True, with_std=True)),\n",
              "                ('model',\n",
              "                 SVC(C=1.0, break_ties=False, cache_size=200, class_weight=None,\n",
              "                     coef0=0.0, decision_function_shape='ovr', degree=3,\n",
              "                     gamma='scale', kernel='rbf', max_iter=-1,\n",
              "                     probability=False, random_state=None, shrinking=True,\n",
              "                     tol=0.001, verbose=False))],\n",
              "         verbose=False)"
            ]
          },
          "metadata": {
            "tags": []
          },
          "execution_count": 193
        }
      ]
    }
  ]
}