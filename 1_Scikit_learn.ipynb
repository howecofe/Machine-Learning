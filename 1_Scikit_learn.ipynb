{
  "nbformat": 4,
  "nbformat_minor": 0,
  "metadata": {
    "colab": {
      "name": "Jiyun Lee - _2 사이킷런(scikit-learn) 시작.ipynb",
      "provenance": [],
      "collapsed_sections": []
    },
    "kernelspec": {
      "name": "python3",
      "display_name": "Python 3"
    }
  },
  "cells": [
    {
      "cell_type": "markdown",
      "metadata": {
        "id": "Bwm3Ce3oIgYi"
      },
      "source": [
        "# 사이킷런(scikit-learn) 시작\n",
        "\n",
        "![scikit-learn logo.png](https://drive.google.com/uc?id=1Aeb0mBJzYgz7UGmHAdGsQJF44EM9mNTD)"
      ]
    },
    {
      "cell_type": "markdown",
      "metadata": {
        "id": "UhF1mufkp8TQ"
      },
      "source": [
        "## scikit-learn 특징\n",
        "\n",
        "* 다양한 머신러닝 알고리즘을 구현한 파이썬 라이브러리\n",
        "* 심플하고 일관성 있는 API, 유용한 온라인 문서, 풍부한 예제\n",
        "* 머신러닝을 위한 쉽고 효율적인 개발 라이브러리 제공\n",
        "* 다양한 머신러닝 관련 알고리즘과 개발을 위한 프레임워크와 API 제공\n",
        "* 많은 사람들이 사용하며 다양한 환경에서 검증된 라이브러리"
      ]
    },
    {
      "cell_type": "markdown",
      "metadata": {
        "id": "19ORAlQckvSb"
      },
      "source": [
        "## scikit-learn 주요 모듈"
      ]
    },
    {
      "cell_type": "markdown",
      "metadata": {
        "id": "n4luZ6ock5rm"
      },
      "source": [
        "| 모듈 | 설명 |\n",
        "|------|------|\n",
        "| `sklearn.datasets` | 내장된 예제 데이터 세트 |\n",
        "| `sklearn.preprocessing` | 다양한 데이터 전처리 기능 제공 (변환, 정규화, 스케일링 등) |\n",
        "| `sklearn.feature_selection` | 특징(feature)를 선택할 수 있는 기능 제공 | \n",
        "| `sklearn.feature_extraction` | 특징(feature) 추출에 사용 |\n",
        "| `sklearn.decomposition` | 차원 축소 관련 알고리즘 지원 (PCA, NMF, Truncated SVD 등)\n",
        "| `sklearn.model_selection` | 교차 검증을 위해 데이터를 학습/테스트용으로 분리, 최적 파라미터를 추출하는 API 제공 (GridSearch 등)\n",
        "| `sklearn.metrics` | 분류, 회귀, 클러스터링, Pairwise에 대한 다양한 성능 측정 방법 제공 (Accuracy, Precision, Recall, ROC-AUC, RMSE 등) |\n",
        "| `sklearn.pipeline` | 특징 처리 등의 변환과 ML 알고리즘 학습, 예측 등을 묶어서 실행할 수 있는 유틸리티 제공 |\n",
        "| `sklearn.linear_model` | 선형 회귀, 릿지(Ridge), 라쏘(Lasso), 로지스틱 회귀 등 회귀 관련 알고리즘과 SGD(Stochastic Gradient Descent) 알고리즘 제공 |\n",
        "| `sklearn.svm` | 서포트 벡터 머신 알고리즘 제공 |\n",
        "| `sklearn.neighbors` | 최근접 이웃 알고리즘 제공 (k-NN 등)\n",
        "| `sklearn.naive_bayes` | 나이브 베이즈 알고리즘 제공 (가우시안 NB, 다항 분포 NB 등) |\n",
        "| `sklearn.tree` | 의사 결정 트리 알고리즘 제공 |\n",
        "| `sklearn.ensemble` | 앙상블 알고리즘 제공 (Random Forest, AdaBoost, GradientBoost 등) |\n",
        "| `sklearn.cluster` | 비지도 클러스터링 알고리즘 제공 (k-Means, 계층형 클러스터링, DBSCAN 등)"
      ]
    },
    {
      "cell_type": "markdown",
      "metadata": {
        "id": "ikDZ-kpFo06o"
      },
      "source": [
        "## `estimator` API\n",
        "\n",
        "* 일관성: 모든 객체는 일관된 문서를 갖춘 제한된 메서드 집합에서 비롯된 공통 인터페이스 공유\n",
        "* 검사(inspection): 모든 지정된 파라미터 값은 공개 속성으로 노출\n",
        "* 제한된 객체 계층 구조\n",
        "  + 알고리즘만 파이썬 클래스에 의해 표현\n",
        "  + 데이터 세트는 표준 포맷(NumPy 배열, Pandas DataFrame, Scipy 희소 행렬)으로 표현\n",
        "  + 매개변수명은 표준 파이썬 문자열 사용\n",
        "* 구성: 많은 머신러닝 작업은 기본 알고리즘의 시퀀스로 나타낼 수 있으며, Scikit-Learn은 가능한 곳이라면 어디서든 이 방식을 사용\n",
        "* 합리적인 기본값: 모델이 사용자 지정 파라미터를 필요로 할 때 라이브러리가 적절한 기본값을 정의"
      ]
    },
    {
      "cell_type": "markdown",
      "metadata": {
        "id": "XKXC0zoTrmHM"
      },
      "source": [
        "### API 사용 방법\n",
        "\n",
        "1. Scikit-Learn으로부터 적절한 `estimator` 클래스를 임포트해서 모델의 클래스 선택\n",
        "2. 클래스를 원하는 값으로 인스턴스화해서 모델의 하이퍼파라미터 선택\n",
        "3. 데이터를 특징 배열과 대상 벡터로 배치\n",
        "4. 모델 인스턴스의 `fit()` 메서드를 호출해 모델을 데이터에 적합\n",
        "5. 모델을 새 데이터에 대해서 적용\n",
        "  + 지도 학습: 대체로 `predict()` 메서드를 사용해 알려지지 않은 데이터에 대한 레이블 예측\n",
        "  + 비지도 학습: 대체로 `transform()`이나 `predict()` 메서드를 사용해 데이터의 속성을 변환하거나 추론"
      ]
    },
    {
      "cell_type": "markdown",
      "metadata": {
        "id": "0WgAOokAPVvG"
      },
      "source": [
        "![scikit-learn](https://scikit-learn.org/stable/_static/ml_map.png)\n",
        "\n"
      ]
    },
    {
      "cell_type": "markdown",
      "metadata": {
        "id": "3lEfpb55skvd"
      },
      "source": [
        "### API 사용 예제"
      ]
    },
    {
      "cell_type": "code",
      "metadata": {
        "id": "Bxt8A5iQoHbc"
      },
      "source": [
        "import numpy as np\n",
        "import matplotlib.pyplot as plt\n",
        "plt.style.use(['seaborn-whitegrid'])"
      ],
      "execution_count": null,
      "outputs": []
    },
    {
      "cell_type": "code",
      "metadata": {
        "id": "Ct9fa3T_s6nV",
        "colab": {
          "base_uri": "https://localhost:8080/",
          "height": 262
        },
        "outputId": "38dca369-e4d7-4bf4-e623-3dbb71e30984"
      },
      "source": [
        "x = 10 * np.random.rand(50)\n",
        "y = 2 * x + np.random.rand(50)\n",
        "plt.scatter(x, y);"
      ],
      "execution_count": null,
      "outputs": [
        {
          "output_type": "display_data",
          "data": {
            "image/png": "[encoded data removed]",
            "text/plain": [
              "<Figure size 432x288 with 1 Axes>"
            ]
          },
          "metadata": {
            "tags": [],
            "needs_background": "light"
          }
        }
      ]
    },
    {
      "cell_type": "code",
      "metadata": {
        "id": "4mYOpr_XubH2"
      },
      "source": [
        "# 1. Scikit-Learn으로부터 적절한 estimator 클래스를 임포트해서 모델의 클래스 선택\n",
        "from sklearn.linear_model import LinearRegression"
      ],
      "execution_count": null,
      "outputs": []
    },
    {
      "cell_type": "code",
      "metadata": {
        "id": "ciPMcnzzzkDY",
        "colab": {
          "base_uri": "https://localhost:8080/",
          "height": 36
        },
        "outputId": "3e0e9ad8-48ca-4067-cd42-df24e25a1eae"
      },
      "source": [
        "# 2. 클래스를 원하는 값으로 인스턴스화해서 모델의 하이퍼파라미터 선택\n",
        "model = LinearRegression(fit_intercept=True)\n",
        "model"
      ],
      "execution_count": null,
      "outputs": [
        {
          "output_type": "execute_result",
          "data": {
            "text/plain": [
              "LinearRegression(copy_X=True, fit_intercept=True, n_jobs=None, normalize=False)"
            ]
          },
          "metadata": {
            "tags": []
          },
          "execution_count": 5
        }
      ]
    },
    {
      "cell_type": "code",
      "metadata": {
        "id": "t7OWKXAbz7nd",
        "colab": {
          "base_uri": "https://localhost:8080/",
          "height": 950
        },
        "outputId": "b6115c75-a1c6-4919-a807-a6f703c64ce7"
      },
      "source": [
        "# 3. 데이터를 특징 배열과 대상 벡터로 배치\n",
        "X = x[:, np.newaxis]\n",
        "X"
      ],
      "execution_count": null,
      "outputs": [
        {
          "output_type": "execute_result",
          "data": {
            "text/plain": [
              "array([[7.51870011],\n",
              "       [2.67125027],\n",
              "       [9.20750331],\n",
              "       [7.17358833],\n",
              "       [8.82009885],\n",
              "       [6.47836842],\n",
              "       [6.81208424],\n",
              "       [8.47924789],\n",
              "       [2.52640534],\n",
              "       [8.16803778],\n",
              "       [4.2094956 ],\n",
              "       [0.9959993 ],\n",
              "       [6.45665326],\n",
              "       [3.94811973],\n",
              "       [4.58112317],\n",
              "       [9.30281134],\n",
              "       [0.86764203],\n",
              "       [9.23222353],\n",
              "       [4.08058669],\n",
              "       [0.54265781],\n",
              "       [2.73309551],\n",
              "       [2.99948747],\n",
              "       [1.43277417],\n",
              "       [6.46998216],\n",
              "       [0.19428719],\n",
              "       [8.67826577],\n",
              "       [3.75791648],\n",
              "       [3.21135744],\n",
              "       [7.07557819],\n",
              "       [1.71557819],\n",
              "       [6.23582974],\n",
              "       [4.02643087],\n",
              "       [2.82661608],\n",
              "       [6.29353929],\n",
              "       [5.42237664],\n",
              "       [2.31116737],\n",
              "       [1.43877033],\n",
              "       [1.96832256],\n",
              "       [1.09819787],\n",
              "       [4.50803165],\n",
              "       [3.48494189],\n",
              "       [6.80486345],\n",
              "       [0.95042723],\n",
              "       [7.90462581],\n",
              "       [7.70659459],\n",
              "       [0.82069465],\n",
              "       [9.40979429],\n",
              "       [3.14926178],\n",
              "       [7.11921428],\n",
              "       [7.78421579]])"
            ]
          },
          "metadata": {
            "tags": []
          },
          "execution_count": 6
        }
      ]
    },
    {
      "cell_type": "code",
      "metadata": {
        "id": "KYDjfXEf0Fqt",
        "colab": {
          "base_uri": "https://localhost:8080/",
          "height": 36
        },
        "outputId": "824b5a45-0e94-4bfc-cc56-78dccc6d0341"
      },
      "source": [
        "# 4. 모델 인스턴스의 fit() 메서드를 호출해 모델을 데이터에 적합\n",
        "model.fit(X, y)"
      ],
      "execution_count": null,
      "outputs": [
        {
          "output_type": "execute_result",
          "data": {
            "text/plain": [
              "LinearRegression(copy_X=True, fit_intercept=True, n_jobs=None, normalize=False)"
            ]
          },
          "metadata": {
            "tags": []
          },
          "execution_count": 7
        }
      ]
    },
    {
      "cell_type": "code",
      "metadata": {
        "id": "Vw8MU5Ug0JDl",
        "colab": {
          "base_uri": "https://localhost:8080/",
          "height": 36
        },
        "outputId": "9807bce9-2b2e-4aef-e3cb-aa140021b27e"
      },
      "source": [
        "model.coef_"
      ],
      "execution_count": null,
      "outputs": [
        {
          "output_type": "execute_result",
          "data": {
            "text/plain": [
              "array([2.0236793])"
            ]
          },
          "metadata": {
            "tags": []
          },
          "execution_count": 8
        }
      ]
    },
    {
      "cell_type": "code",
      "metadata": {
        "id": "yxUYZU4f0Ktg",
        "colab": {
          "base_uri": "https://localhost:8080/",
          "height": 36
        },
        "outputId": "e5055720-3bf5-4e18-8914-320db1884117"
      },
      "source": [
        "model.intercept_"
      ],
      "execution_count": null,
      "outputs": [
        {
          "output_type": "execute_result",
          "data": {
            "text/plain": [
              "0.3905278602812956"
            ]
          },
          "metadata": {
            "tags": []
          },
          "execution_count": 10
        }
      ]
    },
    {
      "cell_type": "code",
      "metadata": {
        "id": "pIq6q0lb1oyD"
      },
      "source": [
        "# 5. 모델을 새 데이터에 대해서 적용\n",
        "xfit = np.linspace(-1, 11)\n",
        "Xfit = xfit[:, np.newaxis]\n",
        "yfit = model.predict(Xfit)"
      ],
      "execution_count": null,
      "outputs": []
    },
    {
      "cell_type": "code",
      "metadata": {
        "id": "bsBjQcoIl_6B",
        "colab": {
          "base_uri": "https://localhost:8080/",
          "height": 262
        },
        "outputId": "918b9682-9b58-45be-9e97-39323b14f464"
      },
      "source": [
        "plt.scatter(x, y)\n",
        "plt.plot(xfit, yfit, '--r');"
      ],
      "execution_count": null,
      "outputs": [
        {
          "output_type": "display_data",
          "data": {
            "image/png": "[encoded data removed]",
            "text/plain": [
              "<Figure size 432x288 with 1 Axes>"
            ]
          },
          "metadata": {
            "tags": [],
            "needs_background": "light"
          }
        }
      ]
    },
    {
      "cell_type": "markdown",
      "metadata": {
        "id": "29de3S_Kon64"
      },
      "source": [
        "## 예제 데이터 세트"
      ]
    },
    {
      "cell_type": "markdown",
      "metadata": {
        "id": "Bb8VoXDioqmL"
      },
      "source": [
        "### 분류 또는 회귀용 데이터 세트\n",
        "\n",
        "| API | 설명 |\n",
        "|-----|------|\n",
        "| `datasets.load_boston()` | 미국 보스턴의 집에 대한 특징과 가격 데이터 (회귀용) |\n",
        "| `datasets.load_breast_cancer()` | 위스콘신 유방암 특징들과 악성/음성 레이블 데이터 (분류용) |\n",
        "| `datasets.load_diabetes()` | 당뇨 데이터 (회귀용) |\n",
        "| `datasets.load_digits()` | 0에서 9까지 숫자 이미지 픽셀 데이터 (분류용) |\n",
        "| `datasets.load_iris()` | 붓꽃에 대한 특징을 가진 데이터 (분류용) |"
      ]
    },
    {
      "cell_type": "markdown",
      "metadata": {
        "id": "LbpkiHGK1Tce"
      },
      "source": [
        "### 온라인 데이터 세트\n",
        "\n",
        "* 데이터 크기가 커서 온라인에서 데이터를 다운로드 한 후에 불러오는 예제 데이터 세트\n",
        "\n",
        "| API | 설명 |\n",
        "|-----|------|\n",
        "| `fetch_california_housing()` | 캘리포니아 주택 가격 데이터 |\n",
        "| `fetch_covtype()` | 회귀 분석용 토지 조사 데이터 |\n",
        "| `fetch_20newsgroups()` | 뉴스 그룹 텍스트 데이터 |\n",
        "| `fetch_olivetti_faces()` | 얼굴 이미지 데이터 |\n",
        "| `fetch_lfw_people()` | 얼굴 이미지 데이터 |\n",
        "| `fetch_lfw_paris()` | 얼굴 이미지 데이터 |\n",
        "| `fetch_rcv1()` | 로이터 뉴스 말뭉치 데이터 |\n",
        "| `fetch_mldata()` | ML 웹사이트에서 다운로드 |"
      ]
    },
    {
      "cell_type": "markdown",
      "metadata": {
        "id": "sRecl-l_1UFE"
      },
      "source": [
        "### 분류와 클러스터링을 위한 표본 데이터 생성\n",
        "\n",
        "| API | 설명 |\n",
        "|-----|------|\n",
        "| `datasets.make_classifications()` | 분류를 위한 데이터 세트 생성. 높은 상관도, 불필요한 속성 등의 노이즈를 고려한 데이터를 무작위로 생성 |\n",
        "| `datasets.make_blobs()` | 클러스터링을 위한 데이터 세트 생성. 군집 지정 개수에 따라 여러 가지 클러스터링을 위한 데이터 셋트를 무작위로 생성 |"
      ]
    },
    {
      "cell_type": "markdown",
      "metadata": {
        "id": "gn8I5U0D4tP7"
      },
      "source": [
        "### 예제 데이터 세트 구조\n",
        "\n",
        "* 일반적으로 딕셔너리 형태로 구성\n",
        "* data: 특징 데이터 세트\n",
        "* target: 분류용은 레이블 값, 회귀용은 숫자 결과값 데이터\n",
        "* target_names: 개별 레이블의 이름 (분류용)\n",
        "* feature_names: 특징 이름\n",
        "* DESCR: 데이터 세트에 대한 설명과 각 특징 설명"
      ]
    },
    {
      "cell_type": "code",
      "metadata": {
        "id": "J4Xvo4kg6dHS",
        "colab": {
          "base_uri": "https://localhost:8080/",
          "height": 36
        },
        "outputId": "472dc4f6-97eb-4300-ce62-b00a8b62a65f"
      },
      "source": [
        "from sklearn.datasets import load_diabetes\n",
        "\n",
        "diabetes = load_diabetes()\n",
        "print(diabetes.keys())"
      ],
      "execution_count": null,
      "outputs": [
        {
          "output_type": "stream",
          "text": [
            "dict_keys(['data', 'target', 'DESCR', 'feature_names', 'data_filename', 'target_filename'])\n"
          ],
          "name": "stdout"
        }
      ]
    },
    {
      "cell_type": "code",
      "metadata": {
        "id": "yuvZHGQ18cX-",
        "colab": {
          "base_uri": "https://localhost:8080/",
          "height": 260
        },
        "outputId": "be6c59f8-c46b-4eb6-85b9-822857bb8e3e"
      },
      "source": [
        "print(diabetes.data)"
      ],
      "execution_count": null,
      "outputs": [
        {
          "output_type": "stream",
          "text": [
            "[[ 0.03807591  0.05068012  0.06169621 ... -0.00259226  0.01990842\n",
            "  -0.01764613]\n",
            " [-0.00188202 -0.04464164 -0.05147406 ... -0.03949338 -0.06832974\n",
            "  -0.09220405]\n",
            " [ 0.08529891  0.05068012  0.04445121 ... -0.00259226  0.00286377\n",
            "  -0.02593034]\n",
            " ...\n",
            " [ 0.04170844  0.05068012 -0.01590626 ... -0.01107952 -0.04687948\n",
            "   0.01549073]\n",
            " [-0.04547248 -0.04464164  0.03906215 ...  0.02655962  0.04452837\n",
            "  -0.02593034]\n",
            " [-0.04547248 -0.04464164 -0.0730303  ... -0.03949338 -0.00421986\n",
            "   0.00306441]]\n"
          ],
          "name": "stdout"
        }
      ]
    },
    {
      "cell_type": "code",
      "metadata": {
        "id": "BRmFh1oP8iKs",
        "colab": {
          "base_uri": "https://localhost:8080/",
          "height": 614
        },
        "outputId": "e0684001-d6c7-48b0-ffb9-8bb766aed7d0"
      },
      "source": [
        "print(diabetes.target)"
      ],
      "execution_count": null,
      "outputs": [
        {
          "output_type": "stream",
          "text": [
            "[151.  75. 141. 206. 135.  97. 138.  63. 110. 310. 101.  69. 179. 185.\n",
            " 118. 171. 166. 144.  97. 168.  68.  49.  68. 245. 184. 202. 137.  85.\n",
            " 131. 283. 129.  59. 341.  87.  65. 102. 265. 276. 252.  90. 100.  55.\n",
            "  61.  92. 259.  53. 190. 142.  75. 142. 155. 225.  59. 104. 182. 128.\n",
            "  52.  37. 170. 170.  61. 144.  52. 128.  71. 163. 150.  97. 160. 178.\n",
            "  48. 270. 202. 111.  85.  42. 170. 200. 252. 113. 143.  51.  52. 210.\n",
            "  65. 141.  55. 134.  42. 111.  98. 164.  48.  96.  90. 162. 150. 279.\n",
            "  92.  83. 128. 102. 302. 198.  95.  53. 134. 144. 232.  81. 104.  59.\n",
            " 246. 297. 258. 229. 275. 281. 179. 200. 200. 173. 180.  84. 121. 161.\n",
            "  99. 109. 115. 268. 274. 158. 107.  83. 103. 272.  85. 280. 336. 281.\n",
            " 118. 317. 235.  60. 174. 259. 178. 128.  96. 126. 288.  88. 292.  71.\n",
            " 197. 186.  25.  84.  96. 195.  53. 217. 172. 131. 214.  59.  70. 220.\n",
            " 268. 152.  47.  74. 295. 101. 151. 127. 237. 225.  81. 151. 107.  64.\n",
            " 138. 185. 265. 101. 137. 143. 141.  79. 292. 178.  91. 116.  86. 122.\n",
            "  72. 129. 142.  90. 158.  39. 196. 222. 277.  99. 196. 202. 155.  77.\n",
            " 191.  70.  73.  49.  65. 263. 248. 296. 214. 185.  78.  93. 252. 150.\n",
            "  77. 208.  77. 108. 160.  53. 220. 154. 259.  90. 246. 124.  67.  72.\n",
            " 257. 262. 275. 177.  71.  47. 187. 125.  78.  51. 258. 215. 303. 243.\n",
            "  91. 150. 310. 153. 346.  63.  89.  50.  39. 103. 308. 116. 145.  74.\n",
            "  45. 115. 264.  87. 202. 127. 182. 241.  66.  94. 283.  64. 102. 200.\n",
            " 265.  94. 230. 181. 156. 233.  60. 219.  80.  68. 332. 248.  84. 200.\n",
            "  55.  85.  89.  31. 129.  83. 275.  65. 198. 236. 253. 124.  44. 172.\n",
            " 114. 142. 109. 180. 144. 163. 147.  97. 220. 190. 109. 191. 122. 230.\n",
            " 242. 248. 249. 192. 131. 237.  78. 135. 244. 199. 270. 164.  72.  96.\n",
            " 306.  91. 214.  95. 216. 263. 178. 113. 200. 139. 139.  88. 148.  88.\n",
            " 243.  71.  77. 109. 272.  60.  54. 221.  90. 311. 281. 182. 321.  58.\n",
            " 262. 206. 233. 242. 123. 167.  63. 197.  71. 168. 140. 217. 121. 235.\n",
            " 245.  40.  52. 104. 132.  88.  69. 219.  72. 201. 110.  51. 277.  63.\n",
            " 118.  69. 273. 258.  43. 198. 242. 232. 175.  93. 168. 275. 293. 281.\n",
            "  72. 140. 189. 181. 209. 136. 261. 113. 131. 174. 257.  55.  84.  42.\n",
            " 146. 212. 233.  91. 111. 152. 120.  67. 310.  94. 183.  66. 173.  72.\n",
            "  49.  64.  48. 178. 104. 132. 220.  57.]\n"
          ],
          "name": "stdout"
        }
      ]
    },
    {
      "cell_type": "code",
      "metadata": {
        "id": "GIg2ZbjG9XBm",
        "colab": {
          "base_uri": "https://localhost:8080/",
          "height": 746
        },
        "outputId": "1d02459b-3557-44db-8585-27e2b935f490"
      },
      "source": [
        "print(diabetes.DESCR)"
      ],
      "execution_count": null,
      "outputs": [
        {
          "output_type": "stream",
          "text": [
            ".. _diabetes_dataset:\n",
            "\n",
            "Diabetes dataset\n",
            "----------------\n",
            "\n",
            "Ten baseline variables, age, sex, body mass index, average blood\n",
            "pressure, and six blood serum measurements were obtained for each of n =\n",
            "442 diabetes patients, as well as the response of interest, a\n",
            "quantitative measure of disease progression one year after baseline.\n",
            "\n",
            "**Data Set Characteristics:**\n",
            "\n",
            "  :Number of Instances: 442\n",
            "\n",
            "  :Number of Attributes: First 10 columns are numeric predictive values\n",
            "\n",
            "  :Target: Column 11 is a quantitative measure of disease progression one year after baseline\n",
            "\n",
            "  :Attribute Information:\n",
            "      - Age\n",
            "      - Sex\n",
            "      - Body mass index\n",
            "      - Average blood pressure\n",
            "      - S1\n",
            "      - S2\n",
            "      - S3\n",
            "      - S4\n",
            "      - S5\n",
            "      - S6\n",
            "\n",
            "Note: Each of these 10 feature variables have been mean centered and scaled by the standard deviation times `n_samples` (i.e. the sum of squares of each column totals 1).\n",
            "\n",
            "Source URL:\n",
            "https://www4.stat.ncsu.edu/~boos/var.select/diabetes.html\n",
            "\n",
            "For more information see:\n",
            "Bradley Efron, Trevor Hastie, Iain Johnstone and Robert Tibshirani (2004) \"Least Angle Regression,\" Annals of Statistics (with discussion), 407-499.\n",
            "(https://web.stanford.edu/~hastie/Papers/LARS/LeastAngle_2002.pdf)\n"
          ],
          "name": "stdout"
        }
      ]
    },
    {
      "cell_type": "code",
      "metadata": {
        "id": "6vLjpUAl8y3Z",
        "colab": {
          "base_uri": "https://localhost:8080/",
          "height": 36
        },
        "outputId": "f1f89940-d69d-4409-b209-ca4bf370cdb7"
      },
      "source": [
        "print(diabetes.feature_names)"
      ],
      "execution_count": null,
      "outputs": [
        {
          "output_type": "stream",
          "text": [
            "['age', 'sex', 'bmi', 'bp', 's1', 's2', 's3', 's4', 's5', 's6']\n"
          ],
          "name": "stdout"
        }
      ]
    },
    {
      "cell_type": "code",
      "metadata": {
        "id": "RoSlB1kM8lpR",
        "colab": {
          "base_uri": "https://localhost:8080/",
          "height": 54
        },
        "outputId": "2c52d96f-5e59-48f8-e8e9-33d6fc4f38ee"
      },
      "source": [
        "print(diabetes.data_filename)\n",
        "print(diabetes.target_filename)"
      ],
      "execution_count": null,
      "outputs": [
        {
          "output_type": "stream",
          "text": [
            "/usr/local/lib/python3.6/dist-packages/sklearn/datasets/data/diabetes_data.csv.gz\n",
            "/usr/local/lib/python3.6/dist-packages/sklearn/datasets/data/diabetes_target.csv.gz\n"
          ],
          "name": "stdout"
        }
      ]
    },
    {
      "cell_type": "markdown",
      "metadata": {
        "id": "sK7Xxb-4-s9r"
      },
      "source": [
        "## `model_selection` 모듈\n",
        "\n",
        "* 학습용 데이터와 테스트 데이터로 분리\n",
        "* 교차 검증 분할 및 평가\n",
        "* Estimator의 하이퍼 파라미터 튜닝을 위한 다양한 함수와 클래스 제공"
      ]
    },
    {
      "cell_type": "markdown",
      "metadata": {
        "id": "WoulI5Vo_C_Y"
      },
      "source": [
        "### `train_test_split()`: 학습/테스트 데이터 세트 분리"
      ]
    },
    {
      "cell_type": "code",
      "metadata": {
        "id": "p6g2drBI_CFw",
        "colab": {
          "base_uri": "https://localhost:8080/",
          "height": 54
        },
        "outputId": "2209e208-7736-4030-d4ef-b3732dc32ba0"
      },
      "source": [
        "from sklearn.linear_model import LinearRegression\n",
        "from sklearn.model_selection import train_test_split\n",
        "from sklearn.datasets import load_diabetes\n",
        "\n",
        "diabetes = load_diabetes()\n",
        "X_train, X_test, y_train, y_test = train_test_split(diabetes.data, diabetes.target, test_size=0.3)\n",
        "\n",
        "model = LinearRegression()\n",
        "model.fit(X_train, y_train)\n",
        "\n",
        "print(\"학습 데이터 점수: {}\".format(model.score(X_train, y_train)))\n",
        "print(\"평가 데이터 점수: {}\".format(model.score(X_test, y_test)))"
      ],
      "execution_count": null,
      "outputs": [
        {
          "output_type": "stream",
          "text": [
            "학습 데이터 점수: 0.5367475551708325\n",
            "평가 데이터 점수: 0.44995450378456636\n"
          ],
          "name": "stdout"
        }
      ]
    },
    {
      "cell_type": "code",
      "metadata": {
        "id": "8vZFyqaoCpEC",
        "colab": {
          "base_uri": "https://localhost:8080/",
          "height": 297
        },
        "outputId": "08311649-c3c1-4c6b-ae54-9aec16c40240"
      },
      "source": [
        "import matplotlib.pyplot as plt\n",
        "\n",
        "predicted = model.predict(X_test)\n",
        "expected = y_test\n",
        "plt.figure(figsize=(8, 4))\n",
        "plt.scatter(expected, predicted)\n",
        "plt.plot([30, 350], [30, 350], '--r')\n",
        "plt.tight_layout()"
      ],
      "execution_count": null,
      "outputs": [
        {
          "output_type": "display_data",
          "data": {
            "image/png": "[encoded data removed]",
            "text/plain": [
              "<Figure size 576x288 with 1 Axes>"
            ]
          },
          "metadata": {
            "tags": [],
            "needs_background": "light"
          }
        }
      ]
    },
    {
      "cell_type": "markdown",
      "metadata": {
        "id": "ngFG3QwGD4e2"
      },
      "source": [
        "### `cross_val_score()`: 교차 검증"
      ]
    },
    {
      "cell_type": "code",
      "metadata": {
        "id": "wnQp6pPTD9JM",
        "colab": {
          "base_uri": "https://localhost:8080/",
          "height": 54
        },
        "outputId": "0ab86c15-c2e1-40cc-e3b9-adc10baee2ef"
      },
      "source": [
        "from sklearn.model_selection import cross_val_score, cross_validate\n",
        "\n",
        "scores = cross_val_score(model, diabetes.data, diabetes.target, cv=5)\n",
        "\n",
        "print(\"교차 검증 정확도: {}\".format(scores))\n",
        "print(\"교차 검증 정확도: {} +/- {}\".format(np.mean(scores), np.std(scores)))"
      ],
      "execution_count": null,
      "outputs": [
        {
          "output_type": "stream",
          "text": [
            "교차 검증 정확도: [0.42955643 0.52259828 0.4826784  0.42650827 0.55024923]\n",
            "교차 검증 정확도: 0.48231812211149394 +/- 0.049266197765632194\n"
          ],
          "name": "stdout"
        }
      ]
    },
    {
      "cell_type": "markdown",
      "metadata": {
        "id": "zpgCUVF7XN5x"
      },
      "source": [
        "### `GridSearchCV`: 교차 검증과 최적 하이퍼 파라미터 찾기\n",
        "\n",
        "* 훈련 단계에서 학습한 파라미터에 영향을 받아서 최상의 파라미터를 찾는 일은 항상 어려운 문제\n",
        "* 다양한 모델의 훈련 과정을 자동화하고, 교차 검사를 사용해 최적 값을 제공하는 도구 필요"
      ]
    },
    {
      "cell_type": "code",
      "metadata": {
        "id": "xd96K4CuXMrU",
        "colab": {
          "base_uri": "https://localhost:8080/",
          "height": 479
        },
        "outputId": "d3e58119-d352-49a8-d362-8a8cb2b6dfa4"
      },
      "source": [
        "from sklearn.model_selection import GridSearchCV\n",
        "from sklearn.linear_model import Ridge\n",
        "import pandas as pd\n",
        "\n",
        "alpha = [0.001, 0.01, 0.1, 1, 10, 100, 1000]\n",
        "param_grid = dict(alpha=alpha)\n",
        "\n",
        "gs = GridSearchCV(estimator=Ridge(), param_grid=param_grid, cv=10)\n",
        "result = gs.fit(diabetes.data, diabetes.target)\n",
        "\n",
        "print(\"최적 점수: {}\".format(result.best_score_))\n",
        "print(\"최적 파라미터: {}\".format(result.best_params_))\n",
        "print(gs.best_estimator_)\n",
        "pd.DataFrame(result.cv_results_)"
      ],
      "execution_count": null,
      "outputs": [
        {
          "output_type": "stream",
          "text": [
            "최적 점수: 0.4633240541517593\n",
            "최적 파라미터: {'alpha': 0.1}\n",
            "Ridge(alpha=0.1, copy_X=True, fit_intercept=True, max_iter=None,\n",
            "      normalize=False, random_state=None, solver='auto', tol=0.001)\n"
          ],
          "name": "stdout"
        },
        {
          "output_type": "execute_result",
          "data": {
            "text/html": [
              "<div>\n",
              "<style scoped>\n",
              "    .dataframe tbody tr th:only-of-type {\n",
              "        vertical-align: middle;\n",
              "    }\n",
              "\n",
              "    .dataframe tbody tr th {\n",
              "        vertical-align: top;\n",
              "    }\n",
              "\n",
              "    .dataframe thead th {\n",
              "        text-align: right;\n",
              "    }\n",
              "</style>\n",
              "<table border=\"1\" class=\"dataframe\">\n",
              "  <thead>\n",
              "    <tr style=\"text-align: right;\">\n",
              "      <th></th>\n",
              "      <th>mean_fit_time</th>\n",
              "      <th>std_fit_time</th>\n",
              "      <th>mean_score_time</th>\n",
              "      <th>std_score_time</th>\n",
              "      <th>param_alpha</th>\n",
              "      <th>params</th>\n",
              "      <th>split0_test_score</th>\n",
              "      <th>split1_test_score</th>\n",
              "      <th>split2_test_score</th>\n",
              "      <th>split3_test_score</th>\n",
              "      <th>split4_test_score</th>\n",
              "      <th>split5_test_score</th>\n",
              "      <th>split6_test_score</th>\n",
              "      <th>split7_test_score</th>\n",
              "      <th>split8_test_score</th>\n",
              "      <th>split9_test_score</th>\n",
              "      <th>mean_test_score</th>\n",
              "      <th>std_test_score</th>\n",
              "      <th>rank_test_score</th>\n",
              "    </tr>\n",
              "  </thead>\n",
              "  <tbody>\n",
              "    <tr>\n",
              "      <th>0</th>\n",
              "      <td>0.000638</td>\n",
              "      <td>0.000187</td>\n",
              "      <td>0.000571</td>\n",
              "      <td>0.000138</td>\n",
              "      <td>0.001</td>\n",
              "      <td>{'alpha': 0.001}</td>\n",
              "      <td>0.554415</td>\n",
              "      <td>0.233686</td>\n",
              "      <td>0.356799</td>\n",
              "      <td>0.620259</td>\n",
              "      <td>0.267033</td>\n",
              "      <td>0.619397</td>\n",
              "      <td>0.419907</td>\n",
              "      <td>0.433019</td>\n",
              "      <td>0.433431</td>\n",
              "      <td>0.684984</td>\n",
              "      <td>0.462293</td>\n",
              "      <td>0.145848</td>\n",
              "      <td>3</td>\n",
              "    </tr>\n",
              "    <tr>\n",
              "      <th>1</th>\n",
              "      <td>0.000529</td>\n",
              "      <td>0.000043</td>\n",
              "      <td>0.000502</td>\n",
              "      <td>0.000016</td>\n",
              "      <td>0.01</td>\n",
              "      <td>{'alpha': 0.01}</td>\n",
              "      <td>0.546297</td>\n",
              "      <td>0.244132</td>\n",
              "      <td>0.368901</td>\n",
              "      <td>0.613732</td>\n",
              "      <td>0.271717</td>\n",
              "      <td>0.623089</td>\n",
              "      <td>0.426074</td>\n",
              "      <td>0.424759</td>\n",
              "      <td>0.429484</td>\n",
              "      <td>0.680912</td>\n",
              "      <td>0.462910</td>\n",
              "      <td>0.141446</td>\n",
              "      <td>2</td>\n",
              "    </tr>\n",
              "    <tr>\n",
              "      <th>2</th>\n",
              "      <td>0.000525</td>\n",
              "      <td>0.000045</td>\n",
              "      <td>0.000527</td>\n",
              "      <td>0.000049</td>\n",
              "      <td>0.1</td>\n",
              "      <td>{'alpha': 0.1}</td>\n",
              "      <td>0.526550</td>\n",
              "      <td>0.244987</td>\n",
              "      <td>0.383530</td>\n",
              "      <td>0.606594</td>\n",
              "      <td>0.286094</td>\n",
              "      <td>0.618033</td>\n",
              "      <td>0.431230</td>\n",
              "      <td>0.441788</td>\n",
              "      <td>0.431968</td>\n",
              "      <td>0.662466</td>\n",
              "      <td>0.463324</td>\n",
              "      <td>0.132681</td>\n",
              "      <td>1</td>\n",
              "    </tr>\n",
              "    <tr>\n",
              "      <th>3</th>\n",
              "      <td>0.000521</td>\n",
              "      <td>0.000022</td>\n",
              "      <td>0.000505</td>\n",
              "      <td>0.000020</td>\n",
              "      <td>1</td>\n",
              "      <td>{'alpha': 1}</td>\n",
              "      <td>0.421593</td>\n",
              "      <td>0.168442</td>\n",
              "      <td>0.358004</td>\n",
              "      <td>0.512608</td>\n",
              "      <td>0.284928</td>\n",
              "      <td>0.514264</td>\n",
              "      <td>0.388246</td>\n",
              "      <td>0.484448</td>\n",
              "      <td>0.396502</td>\n",
              "      <td>0.525132</td>\n",
              "      <td>0.405417</td>\n",
              "      <td>0.108385</td>\n",
              "      <td>4</td>\n",
              "    </tr>\n",
              "    <tr>\n",
              "      <th>4</th>\n",
              "      <td>0.000511</td>\n",
              "      <td>0.000012</td>\n",
              "      <td>0.000500</td>\n",
              "      <td>0.000016</td>\n",
              "      <td>10</td>\n",
              "      <td>{'alpha': 10}</td>\n",
              "      <td>0.159386</td>\n",
              "      <td>-0.081177</td>\n",
              "      <td>0.152190</td>\n",
              "      <td>0.165690</td>\n",
              "      <td>0.119349</td>\n",
              "      <td>0.186933</td>\n",
              "      <td>0.158147</td>\n",
              "      <td>0.203748</td>\n",
              "      <td>0.153627</td>\n",
              "      <td>0.189440</td>\n",
              "      <td>0.140733</td>\n",
              "      <td>0.077298</td>\n",
              "      <td>5</td>\n",
              "    </tr>\n",
              "    <tr>\n",
              "      <th>5</th>\n",
              "      <td>0.000518</td>\n",
              "      <td>0.000013</td>\n",
              "      <td>0.000504</td>\n",
              "      <td>0.000043</td>\n",
              "      <td>100</td>\n",
              "      <td>{'alpha': 100}</td>\n",
              "      <td>0.012468</td>\n",
              "      <td>-0.234480</td>\n",
              "      <td>0.013522</td>\n",
              "      <td>-0.012820</td>\n",
              "      <td>0.004838</td>\n",
              "      <td>0.022647</td>\n",
              "      <td>0.022028</td>\n",
              "      <td>-0.009908</td>\n",
              "      <td>0.015589</td>\n",
              "      <td>0.026427</td>\n",
              "      <td>-0.013969</td>\n",
              "      <td>0.074561</td>\n",
              "      <td>6</td>\n",
              "    </tr>\n",
              "    <tr>\n",
              "      <th>6</th>\n",
              "      <td>0.000512</td>\n",
              "      <td>0.000010</td>\n",
              "      <td>0.000505</td>\n",
              "      <td>0.000023</td>\n",
              "      <td>1000</td>\n",
              "      <td>{'alpha': 1000}</td>\n",
              "      <td>-0.009602</td>\n",
              "      <td>-0.258118</td>\n",
              "      <td>-0.007849</td>\n",
              "      <td>-0.038479</td>\n",
              "      <td>-0.012933</td>\n",
              "      <td>-0.000932</td>\n",
              "      <td>0.001768</td>\n",
              "      <td>-0.042679</td>\n",
              "      <td>-0.004652</td>\n",
              "      <td>0.002744</td>\n",
              "      <td>-0.037073</td>\n",
              "      <td>0.075191</td>\n",
              "      <td>7</td>\n",
              "    </tr>\n",
              "  </tbody>\n",
              "</table>\n",
              "</div>"
            ],
            "text/plain": [
              "   mean_fit_time  std_fit_time  ...  std_test_score  rank_test_score\n",
              "0       0.000638      0.000187  ...        0.145848                3\n",
              "1       0.000529      0.000043  ...        0.141446                2\n",
              "2       0.000525      0.000045  ...        0.132681                1\n",
              "3       0.000521      0.000022  ...        0.108385                4\n",
              "4       0.000511      0.000012  ...        0.077298                5\n",
              "5       0.000518      0.000013  ...        0.074561                6\n",
              "6       0.000512      0.000010  ...        0.075191                7\n",
              "\n",
              "[7 rows x 19 columns]"
            ]
          },
          "metadata": {
            "tags": []
          },
          "execution_count": 27
        }
      ]
    },
    {
      "cell_type": "markdown",
      "metadata": {
        "id": "X6tTVC3sagc9"
      },
      "source": [
        "* `multiprocessing`을 이용한 `GridSearchCV`"
      ]
    },
    {
      "cell_type": "code",
      "metadata": {
        "id": "PKxQLen3aBxT",
        "colab": {
          "base_uri": "https://localhost:8080/",
          "height": 999
        },
        "outputId": "0f9da0c1-dda4-4001-fb2a-dee785144b63"
      },
      "source": [
        "import multiprocessing\n",
        "from sklearn.datasets import load_iris\n",
        "from sklearn.linear_model import LogisticRegression\n",
        "\n",
        "iris = load_iris()\n",
        "\n",
        "param_grid = [ {'penalty': ['l1', 'l2'],\n",
        "                  'C': [1.5, 2.0, 2.5, 3.0, 3.5] } ]\n",
        "\n",
        "gs = GridSearchCV(estimator=LogisticRegression(), param_grid=param_grid,\n",
        "                  scoring='accuracy', cv=10, n_jobs=multiprocessing.cpu_count()) #cpu 개수만큼 job 생성해 모델 수행\n",
        "result = gs.fit(iris.data, iris.target)\n",
        "\n",
        "print(\"최적 점수: {}\".format(result.best_score_))\n",
        "print(\"최적 파라미터: {}\".format(result.best_params_))\n",
        "print(gs.best_estimator_)\n",
        "pd.DataFrame(result.cv_results_)"
      ],
      "execution_count": null,
      "outputs": [
        {
          "output_type": "stream",
          "text": [
            "최적 점수: 0.9800000000000001\n",
            "최적 파라미터: {'C': 2.5, 'penalty': 'l2'}\n",
            "LogisticRegression(C=2.5, class_weight=None, dual=False, fit_intercept=True,\n",
            "                   intercept_scaling=1, l1_ratio=None, max_iter=100,\n",
            "                   multi_class='auto', n_jobs=None, penalty='l2',\n",
            "                   random_state=None, solver='lbfgs', tol=0.0001, verbose=0,\n",
            "                   warm_start=False)\n"
          ],
          "name": "stdout"
        },
        {
          "output_type": "stream",
          "text": [
            "/usr/local/lib/python3.6/dist-packages/sklearn/linear_model/_logistic.py:940: ConvergenceWarning: lbfgs failed to converge (status=1):\n",
            "STOP: TOTAL NO. of ITERATIONS REACHED LIMIT.\n",
            "\n",
            "Increase the number of iterations (max_iter) or scale the data as shown in:\n",
            "    https://scikit-learn.org/stable/modules/preprocessing.html\n",
            "Please also refer to the documentation for alternative solver options:\n",
            "    https://scikit-learn.org/stable/modules/linear_model.html#logistic-regression\n",
            "  extra_warning_msg=_LOGISTIC_SOLVER_CONVERGENCE_MSG)\n"
          ],
          "name": "stderr"
        },
        {
          "output_type": "execute_result",
          "data": {
            "text/html": [
              "<div>\n",
              "<style scoped>\n",
              "    .dataframe tbody tr th:only-of-type {\n",
              "        vertical-align: middle;\n",
              "    }\n",
              "\n",
              "    .dataframe tbody tr th {\n",
              "        vertical-align: top;\n",
              "    }\n",
              "\n",
              "    .dataframe thead th {\n",
              "        text-align: right;\n",
              "    }\n",
              "</style>\n",
              "<table border=\"1\" class=\"dataframe\">\n",
              "  <thead>\n",
              "    <tr style=\"text-align: right;\">\n",
              "      <th></th>\n",
              "      <th>mean_fit_time</th>\n",
              "      <th>std_fit_time</th>\n",
              "      <th>mean_score_time</th>\n",
              "      <th>std_score_time</th>\n",
              "      <th>param_C</th>\n",
              "      <th>param_penalty</th>\n",
              "      <th>params</th>\n",
              "      <th>split0_test_score</th>\n",
              "      <th>split1_test_score</th>\n",
              "      <th>split2_test_score</th>\n",
              "      <th>split3_test_score</th>\n",
              "      <th>split4_test_score</th>\n",
              "      <th>split5_test_score</th>\n",
              "      <th>split6_test_score</th>\n",
              "      <th>split7_test_score</th>\n",
              "      <th>split8_test_score</th>\n",
              "      <th>split9_test_score</th>\n",
              "      <th>mean_test_score</th>\n",
              "      <th>std_test_score</th>\n",
              "      <th>rank_test_score</th>\n",
              "    </tr>\n",
              "  </thead>\n",
              "  <tbody>\n",
              "    <tr>\n",
              "      <th>0</th>\n",
              "      <td>0.000075</td>\n",
              "      <td>0.000025</td>\n",
              "      <td>0.000000</td>\n",
              "      <td>0.000000</td>\n",
              "      <td>1.5</td>\n",
              "      <td>l1</td>\n",
              "      <td>{'C': 1.5, 'penalty': 'l1'}</td>\n",
              "      <td>NaN</td>\n",
              "      <td>NaN</td>\n",
              "      <td>NaN</td>\n",
              "      <td>NaN</td>\n",
              "      <td>NaN</td>\n",
              "      <td>NaN</td>\n",
              "      <td>NaN</td>\n",
              "      <td>NaN</td>\n",
              "      <td>NaN</td>\n",
              "      <td>NaN</td>\n",
              "      <td>NaN</td>\n",
              "      <td>NaN</td>\n",
              "      <td>6</td>\n",
              "    </tr>\n",
              "    <tr>\n",
              "      <th>1</th>\n",
              "      <td>0.049072</td>\n",
              "      <td>0.007225</td>\n",
              "      <td>0.000514</td>\n",
              "      <td>0.000027</td>\n",
              "      <td>1.5</td>\n",
              "      <td>l2</td>\n",
              "      <td>{'C': 1.5, 'penalty': 'l2'}</td>\n",
              "      <td>1.0</td>\n",
              "      <td>0.933333</td>\n",
              "      <td>1.0</td>\n",
              "      <td>1.0</td>\n",
              "      <td>0.933333</td>\n",
              "      <td>0.933333</td>\n",
              "      <td>0.933333</td>\n",
              "      <td>1.0</td>\n",
              "      <td>1.0</td>\n",
              "      <td>1.0</td>\n",
              "      <td>0.973333</td>\n",
              "      <td>0.032660</td>\n",
              "      <td>4</td>\n",
              "    </tr>\n",
              "    <tr>\n",
              "      <th>2</th>\n",
              "      <td>0.000128</td>\n",
              "      <td>0.000183</td>\n",
              "      <td>0.000000</td>\n",
              "      <td>0.000000</td>\n",
              "      <td>2</td>\n",
              "      <td>l1</td>\n",
              "      <td>{'C': 2.0, 'penalty': 'l1'}</td>\n",
              "      <td>NaN</td>\n",
              "      <td>NaN</td>\n",
              "      <td>NaN</td>\n",
              "      <td>NaN</td>\n",
              "      <td>NaN</td>\n",
              "      <td>NaN</td>\n",
              "      <td>NaN</td>\n",
              "      <td>NaN</td>\n",
              "      <td>NaN</td>\n",
              "      <td>NaN</td>\n",
              "      <td>NaN</td>\n",
              "      <td>NaN</td>\n",
              "      <td>7</td>\n",
              "    </tr>\n",
              "    <tr>\n",
              "      <th>3</th>\n",
              "      <td>0.049842</td>\n",
              "      <td>0.004863</td>\n",
              "      <td>0.000950</td>\n",
              "      <td>0.001247</td>\n",
              "      <td>2</td>\n",
              "      <td>l2</td>\n",
              "      <td>{'C': 2.0, 'penalty': 'l2'}</td>\n",
              "      <td>1.0</td>\n",
              "      <td>0.933333</td>\n",
              "      <td>1.0</td>\n",
              "      <td>1.0</td>\n",
              "      <td>0.933333</td>\n",
              "      <td>0.933333</td>\n",
              "      <td>0.933333</td>\n",
              "      <td>1.0</td>\n",
              "      <td>1.0</td>\n",
              "      <td>1.0</td>\n",
              "      <td>0.973333</td>\n",
              "      <td>0.032660</td>\n",
              "      <td>4</td>\n",
              "    </tr>\n",
              "    <tr>\n",
              "      <th>4</th>\n",
              "      <td>0.000068</td>\n",
              "      <td>0.000009</td>\n",
              "      <td>0.000000</td>\n",
              "      <td>0.000000</td>\n",
              "      <td>2.5</td>\n",
              "      <td>l1</td>\n",
              "      <td>{'C': 2.5, 'penalty': 'l1'}</td>\n",
              "      <td>NaN</td>\n",
              "      <td>NaN</td>\n",
              "      <td>NaN</td>\n",
              "      <td>NaN</td>\n",
              "      <td>NaN</td>\n",
              "      <td>NaN</td>\n",
              "      <td>NaN</td>\n",
              "      <td>NaN</td>\n",
              "      <td>NaN</td>\n",
              "      <td>NaN</td>\n",
              "      <td>NaN</td>\n",
              "      <td>NaN</td>\n",
              "      <td>8</td>\n",
              "    </tr>\n",
              "    <tr>\n",
              "      <th>5</th>\n",
              "      <td>0.047012</td>\n",
              "      <td>0.003243</td>\n",
              "      <td>0.000511</td>\n",
              "      <td>0.000027</td>\n",
              "      <td>2.5</td>\n",
              "      <td>l2</td>\n",
              "      <td>{'C': 2.5, 'penalty': 'l2'}</td>\n",
              "      <td>1.0</td>\n",
              "      <td>0.933333</td>\n",
              "      <td>1.0</td>\n",
              "      <td>1.0</td>\n",
              "      <td>0.933333</td>\n",
              "      <td>1.000000</td>\n",
              "      <td>0.933333</td>\n",
              "      <td>1.0</td>\n",
              "      <td>1.0</td>\n",
              "      <td>1.0</td>\n",
              "      <td>0.980000</td>\n",
              "      <td>0.030551</td>\n",
              "      <td>1</td>\n",
              "    </tr>\n",
              "    <tr>\n",
              "      <th>6</th>\n",
              "      <td>0.000068</td>\n",
              "      <td>0.000012</td>\n",
              "      <td>0.000000</td>\n",
              "      <td>0.000000</td>\n",
              "      <td>3</td>\n",
              "      <td>l1</td>\n",
              "      <td>{'C': 3.0, 'penalty': 'l1'}</td>\n",
              "      <td>NaN</td>\n",
              "      <td>NaN</td>\n",
              "      <td>NaN</td>\n",
              "      <td>NaN</td>\n",
              "      <td>NaN</td>\n",
              "      <td>NaN</td>\n",
              "      <td>NaN</td>\n",
              "      <td>NaN</td>\n",
              "      <td>NaN</td>\n",
              "      <td>NaN</td>\n",
              "      <td>NaN</td>\n",
              "      <td>NaN</td>\n",
              "      <td>9</td>\n",
              "    </tr>\n",
              "    <tr>\n",
              "      <th>7</th>\n",
              "      <td>0.050859</td>\n",
              "      <td>0.008901</td>\n",
              "      <td>0.000595</td>\n",
              "      <td>0.000225</td>\n",
              "      <td>3</td>\n",
              "      <td>l2</td>\n",
              "      <td>{'C': 3.0, 'penalty': 'l2'}</td>\n",
              "      <td>1.0</td>\n",
              "      <td>0.933333</td>\n",
              "      <td>1.0</td>\n",
              "      <td>1.0</td>\n",
              "      <td>0.933333</td>\n",
              "      <td>1.000000</td>\n",
              "      <td>0.933333</td>\n",
              "      <td>1.0</td>\n",
              "      <td>1.0</td>\n",
              "      <td>1.0</td>\n",
              "      <td>0.980000</td>\n",
              "      <td>0.030551</td>\n",
              "      <td>1</td>\n",
              "    </tr>\n",
              "    <tr>\n",
              "      <th>8</th>\n",
              "      <td>0.000242</td>\n",
              "      <td>0.000322</td>\n",
              "      <td>0.000000</td>\n",
              "      <td>0.000000</td>\n",
              "      <td>3.5</td>\n",
              "      <td>l1</td>\n",
              "      <td>{'C': 3.5, 'penalty': 'l1'}</td>\n",
              "      <td>NaN</td>\n",
              "      <td>NaN</td>\n",
              "      <td>NaN</td>\n",
              "      <td>NaN</td>\n",
              "      <td>NaN</td>\n",
              "      <td>NaN</td>\n",
              "      <td>NaN</td>\n",
              "      <td>NaN</td>\n",
              "      <td>NaN</td>\n",
              "      <td>NaN</td>\n",
              "      <td>NaN</td>\n",
              "      <td>NaN</td>\n",
              "      <td>10</td>\n",
              "    </tr>\n",
              "    <tr>\n",
              "      <th>9</th>\n",
              "      <td>0.036741</td>\n",
              "      <td>0.015421</td>\n",
              "      <td>0.000436</td>\n",
              "      <td>0.000090</td>\n",
              "      <td>3.5</td>\n",
              "      <td>l2</td>\n",
              "      <td>{'C': 3.5, 'penalty': 'l2'}</td>\n",
              "      <td>1.0</td>\n",
              "      <td>0.933333</td>\n",
              "      <td>1.0</td>\n",
              "      <td>1.0</td>\n",
              "      <td>0.933333</td>\n",
              "      <td>1.000000</td>\n",
              "      <td>0.933333</td>\n",
              "      <td>1.0</td>\n",
              "      <td>1.0</td>\n",
              "      <td>1.0</td>\n",
              "      <td>0.980000</td>\n",
              "      <td>0.030551</td>\n",
              "      <td>1</td>\n",
              "    </tr>\n",
              "  </tbody>\n",
              "</table>\n",
              "</div>"
            ],
            "text/plain": [
              "   mean_fit_time  std_fit_time  ...  std_test_score  rank_test_score\n",
              "0       0.000075      0.000025  ...             NaN                6\n",
              "1       0.049072      0.007225  ...        0.032660                4\n",
              "2       0.000128      0.000183  ...             NaN                7\n",
              "3       0.049842      0.004863  ...        0.032660                4\n",
              "4       0.000068      0.000009  ...             NaN                8\n",
              "5       0.047012      0.003243  ...        0.030551                1\n",
              "6       0.000068      0.000012  ...             NaN                9\n",
              "7       0.050859      0.008901  ...        0.030551                1\n",
              "8       0.000242      0.000322  ...             NaN               10\n",
              "9       0.036741      0.015421  ...        0.030551                1\n",
              "\n",
              "[10 rows x 20 columns]"
            ]
          },
          "metadata": {
            "tags": []
          },
          "execution_count": 29
        }
      ]
    },
    {
      "cell_type": "markdown",
      "metadata": {
        "id": "M5_bY2inmPfQ"
      },
      "source": [
        "## `preprocessing` 데이터 전처리 모듈\n",
        "\n",
        "* 데이터의 특징 스케일링(feature scaling)을 위한 방법으로 표준화(Standardization)와 정규화(Normalization) 사용\n",
        "\n",
        "+ 표준화 방법\n",
        "\n",
        "\\begin{equation}\n",
        "x_i^{'} = \\frac{x_i-mean(x)}{stdev(x)}\n",
        "\\end{equation}\n",
        "\n",
        "+ 정규화 방법\n",
        "\n",
        "\\begin{equation}\n",
        "x_i^{'} = \\frac{x_i-min(x)}{max(x)-min(x)}\n",
        "\\end{equation}\n",
        "\n",
        "+ scikit-learn에서는 개별 벡터 크기를 맞추는 형태로 정규화"
      ]
    },
    {
      "cell_type": "markdown",
      "metadata": {
        "id": "fzdqo4OSrhDI"
      },
      "source": [
        "### `StandardScaler`: 표준화 클래스"
      ]
    },
    {
      "cell_type": "code",
      "metadata": {
        "id": "S3VZVnnyso1m",
        "colab": {
          "base_uri": "https://localhost:8080/",
          "height": 296
        },
        "outputId": "77671c4b-d902-40ac-d736-3a2900141b0a"
      },
      "source": [
        "iris = load_iris()\n",
        "iris_df = pd.DataFrame(data=iris.data, columns=iris.feature_names)\n",
        "iris_df.describe()"
      ],
      "execution_count": null,
      "outputs": [
        {
          "output_type": "execute_result",
          "data": {
            "text/html": [
              "<div>\n",
              "<style scoped>\n",
              "    .dataframe tbody tr th:only-of-type {\n",
              "        vertical-align: middle;\n",
              "    }\n",
              "\n",
              "    .dataframe tbody tr th {\n",
              "        vertical-align: top;\n",
              "    }\n",
              "\n",
              "    .dataframe thead th {\n",
              "        text-align: right;\n",
              "    }\n",
              "</style>\n",
              "<table border=\"1\" class=\"dataframe\">\n",
              "  <thead>\n",
              "    <tr style=\"text-align: right;\">\n",
              "      <th></th>\n",
              "      <th>sepal length (cm)</th>\n",
              "      <th>sepal width (cm)</th>\n",
              "      <th>petal length (cm)</th>\n",
              "      <th>petal width (cm)</th>\n",
              "    </tr>\n",
              "  </thead>\n",
              "  <tbody>\n",
              "    <tr>\n",
              "      <th>count</th>\n",
              "      <td>150.000000</td>\n",
              "      <td>150.000000</td>\n",
              "      <td>150.000000</td>\n",
              "      <td>150.000000</td>\n",
              "    </tr>\n",
              "    <tr>\n",
              "      <th>mean</th>\n",
              "      <td>5.843333</td>\n",
              "      <td>3.057333</td>\n",
              "      <td>3.758000</td>\n",
              "      <td>1.199333</td>\n",
              "    </tr>\n",
              "    <tr>\n",
              "      <th>std</th>\n",
              "      <td>0.828066</td>\n",
              "      <td>0.435866</td>\n",
              "      <td>1.765298</td>\n",
              "      <td>0.762238</td>\n",
              "    </tr>\n",
              "    <tr>\n",
              "      <th>min</th>\n",
              "      <td>4.300000</td>\n",
              "      <td>2.000000</td>\n",
              "      <td>1.000000</td>\n",
              "      <td>0.100000</td>\n",
              "    </tr>\n",
              "    <tr>\n",
              "      <th>25%</th>\n",
              "      <td>5.100000</td>\n",
              "      <td>2.800000</td>\n",
              "      <td>1.600000</td>\n",
              "      <td>0.300000</td>\n",
              "    </tr>\n",
              "    <tr>\n",
              "      <th>50%</th>\n",
              "      <td>5.800000</td>\n",
              "      <td>3.000000</td>\n",
              "      <td>4.350000</td>\n",
              "      <td>1.300000</td>\n",
              "    </tr>\n",
              "    <tr>\n",
              "      <th>75%</th>\n",
              "      <td>6.400000</td>\n",
              "      <td>3.300000</td>\n",
              "      <td>5.100000</td>\n",
              "      <td>1.800000</td>\n",
              "    </tr>\n",
              "    <tr>\n",
              "      <th>max</th>\n",
              "      <td>7.900000</td>\n",
              "      <td>4.400000</td>\n",
              "      <td>6.900000</td>\n",
              "      <td>2.500000</td>\n",
              "    </tr>\n",
              "  </tbody>\n",
              "</table>\n",
              "</div>"
            ],
            "text/plain": [
              "       sepal length (cm)  sepal width (cm)  petal length (cm)  petal width (cm)\n",
              "count         150.000000        150.000000         150.000000        150.000000\n",
              "mean            5.843333          3.057333           3.758000          1.199333\n",
              "std             0.828066          0.435866           1.765298          0.762238\n",
              "min             4.300000          2.000000           1.000000          0.100000\n",
              "25%             5.100000          2.800000           1.600000          0.300000\n",
              "50%             5.800000          3.000000           4.350000          1.300000\n",
              "75%             6.400000          3.300000           5.100000          1.800000\n",
              "max             7.900000          4.400000           6.900000          2.500000"
            ]
          },
          "metadata": {
            "tags": []
          },
          "execution_count": 30
        }
      ]
    },
    {
      "cell_type": "code",
      "metadata": {
        "id": "rGtTNBFquBIS",
        "colab": {
          "base_uri": "https://localhost:8080/",
          "height": 296
        },
        "outputId": "8ae6cb80-4d20-4e5f-ec89-86e2e6922f7c"
      },
      "source": [
        "from sklearn.preprocessing import StandardScaler\n",
        "\n",
        "scaler = StandardScaler()\n",
        "iris_scaled = scaler.fit_transform(iris_df)\n",
        "iris_df_scaled = pd.DataFrame(data=iris_scaled, columns=iris.feature_names)\n",
        "iris_df_scaled.describe()"
      ],
      "execution_count": null,
      "outputs": [
        {
          "output_type": "execute_result",
          "data": {
            "text/html": [
              "<div>\n",
              "<style scoped>\n",
              "    .dataframe tbody tr th:only-of-type {\n",
              "        vertical-align: middle;\n",
              "    }\n",
              "\n",
              "    .dataframe tbody tr th {\n",
              "        vertical-align: top;\n",
              "    }\n",
              "\n",
              "    .dataframe thead th {\n",
              "        text-align: right;\n",
              "    }\n",
              "</style>\n",
              "<table border=\"1\" class=\"dataframe\">\n",
              "  <thead>\n",
              "    <tr style=\"text-align: right;\">\n",
              "      <th></th>\n",
              "      <th>sepal length (cm)</th>\n",
              "      <th>sepal width (cm)</th>\n",
              "      <th>petal length (cm)</th>\n",
              "      <th>petal width (cm)</th>\n",
              "    </tr>\n",
              "  </thead>\n",
              "  <tbody>\n",
              "    <tr>\n",
              "      <th>count</th>\n",
              "      <td>1.500000e+02</td>\n",
              "      <td>1.500000e+02</td>\n",
              "      <td>1.500000e+02</td>\n",
              "      <td>1.500000e+02</td>\n",
              "    </tr>\n",
              "    <tr>\n",
              "      <th>mean</th>\n",
              "      <td>-1.690315e-15</td>\n",
              "      <td>-1.842970e-15</td>\n",
              "      <td>-1.698641e-15</td>\n",
              "      <td>-1.409243e-15</td>\n",
              "    </tr>\n",
              "    <tr>\n",
              "      <th>std</th>\n",
              "      <td>1.003350e+00</td>\n",
              "      <td>1.003350e+00</td>\n",
              "      <td>1.003350e+00</td>\n",
              "      <td>1.003350e+00</td>\n",
              "    </tr>\n",
              "    <tr>\n",
              "      <th>min</th>\n",
              "      <td>-1.870024e+00</td>\n",
              "      <td>-2.433947e+00</td>\n",
              "      <td>-1.567576e+00</td>\n",
              "      <td>-1.447076e+00</td>\n",
              "    </tr>\n",
              "    <tr>\n",
              "      <th>25%</th>\n",
              "      <td>-9.006812e-01</td>\n",
              "      <td>-5.923730e-01</td>\n",
              "      <td>-1.226552e+00</td>\n",
              "      <td>-1.183812e+00</td>\n",
              "    </tr>\n",
              "    <tr>\n",
              "      <th>50%</th>\n",
              "      <td>-5.250608e-02</td>\n",
              "      <td>-1.319795e-01</td>\n",
              "      <td>3.364776e-01</td>\n",
              "      <td>1.325097e-01</td>\n",
              "    </tr>\n",
              "    <tr>\n",
              "      <th>75%</th>\n",
              "      <td>6.745011e-01</td>\n",
              "      <td>5.586108e-01</td>\n",
              "      <td>7.627583e-01</td>\n",
              "      <td>7.906707e-01</td>\n",
              "    </tr>\n",
              "    <tr>\n",
              "      <th>max</th>\n",
              "      <td>2.492019e+00</td>\n",
              "      <td>3.090775e+00</td>\n",
              "      <td>1.785832e+00</td>\n",
              "      <td>1.712096e+00</td>\n",
              "    </tr>\n",
              "  </tbody>\n",
              "</table>\n",
              "</div>"
            ],
            "text/plain": [
              "       sepal length (cm)  sepal width (cm)  petal length (cm)  petal width (cm)\n",
              "count       1.500000e+02      1.500000e+02       1.500000e+02      1.500000e+02\n",
              "mean       -1.690315e-15     -1.842970e-15      -1.698641e-15     -1.409243e-15\n",
              "std         1.003350e+00      1.003350e+00       1.003350e+00      1.003350e+00\n",
              "min        -1.870024e+00     -2.433947e+00      -1.567576e+00     -1.447076e+00\n",
              "25%        -9.006812e-01     -5.923730e-01      -1.226552e+00     -1.183812e+00\n",
              "50%        -5.250608e-02     -1.319795e-01       3.364776e-01      1.325097e-01\n",
              "75%         6.745011e-01      5.586108e-01       7.627583e-01      7.906707e-01\n",
              "max         2.492019e+00      3.090775e+00       1.785832e+00      1.712096e+00"
            ]
          },
          "metadata": {
            "tags": []
          },
          "execution_count": 31
        }
      ]
    },
    {
      "cell_type": "code",
      "metadata": {
        "id": "UwYeH_9k_Rog",
        "colab": {
          "base_uri": "https://localhost:8080/",
          "height": 54
        },
        "outputId": "d6e05e62-4e3d-4776-e23f-7778343fbba3"
      },
      "source": [
        "X_train, X_test, y_train, y_test = train_test_split(iris_df_scaled, iris.target, test_size=0.3)\n",
        "model = LogisticRegression()\n",
        "model.fit(X_train, y_train)\n",
        "\n",
        "print(\"훈련 데이터 점수: {}\".format(model.score(X_train, y_train)))\n",
        "print(\"평가 데이터 점수: {}\".format(model.score(X_test, y_test)))"
      ],
      "execution_count": null,
      "outputs": [
        {
          "output_type": "stream",
          "text": [
            "훈련 데이터 점수: 0.9619047619047619\n",
            "평가 데이터 점수: 0.9555555555555556\n"
          ],
          "name": "stdout"
        }
      ]
    },
    {
      "cell_type": "markdown",
      "metadata": {
        "id": "2TctmHqowvBG"
      },
      "source": [
        "### `MinMaxScaler`: 정규화 클래스"
      ]
    },
    {
      "cell_type": "code",
      "metadata": {
        "id": "u5_id8diw6l-",
        "colab": {
          "base_uri": "https://localhost:8080/",
          "height": 296
        },
        "outputId": "cf7f610f-6523-41b4-acb5-353228cc6421"
      },
      "source": [
        "from sklearn.preprocessing import MinMaxScaler\n",
        "\n",
        "scaler = MinMaxScaler()\n",
        "iris_scaled = scaler.fit_transform(iris_df)\n",
        "iris_df_scaled = pd.DataFrame(data=iris_scaled, columns=iris.feature_names)\n",
        "iris_df_scaled.describe()"
      ],
      "execution_count": null,
      "outputs": [
        {
          "output_type": "execute_result",
          "data": {
            "text/html": [
              "<div>\n",
              "<style scoped>\n",
              "    .dataframe tbody tr th:only-of-type {\n",
              "        vertical-align: middle;\n",
              "    }\n",
              "\n",
              "    .dataframe tbody tr th {\n",
              "        vertical-align: top;\n",
              "    }\n",
              "\n",
              "    .dataframe thead th {\n",
              "        text-align: right;\n",
              "    }\n",
              "</style>\n",
              "<table border=\"1\" class=\"dataframe\">\n",
              "  <thead>\n",
              "    <tr style=\"text-align: right;\">\n",
              "      <th></th>\n",
              "      <th>sepal length (cm)</th>\n",
              "      <th>sepal width (cm)</th>\n",
              "      <th>petal length (cm)</th>\n",
              "      <th>petal width (cm)</th>\n",
              "    </tr>\n",
              "  </thead>\n",
              "  <tbody>\n",
              "    <tr>\n",
              "      <th>count</th>\n",
              "      <td>150.000000</td>\n",
              "      <td>150.000000</td>\n",
              "      <td>150.000000</td>\n",
              "      <td>150.000000</td>\n",
              "    </tr>\n",
              "    <tr>\n",
              "      <th>mean</th>\n",
              "      <td>0.428704</td>\n",
              "      <td>0.440556</td>\n",
              "      <td>0.467458</td>\n",
              "      <td>0.458056</td>\n",
              "    </tr>\n",
              "    <tr>\n",
              "      <th>std</th>\n",
              "      <td>0.230018</td>\n",
              "      <td>0.181611</td>\n",
              "      <td>0.299203</td>\n",
              "      <td>0.317599</td>\n",
              "    </tr>\n",
              "    <tr>\n",
              "      <th>min</th>\n",
              "      <td>0.000000</td>\n",
              "      <td>0.000000</td>\n",
              "      <td>0.000000</td>\n",
              "      <td>0.000000</td>\n",
              "    </tr>\n",
              "    <tr>\n",
              "      <th>25%</th>\n",
              "      <td>0.222222</td>\n",
              "      <td>0.333333</td>\n",
              "      <td>0.101695</td>\n",
              "      <td>0.083333</td>\n",
              "    </tr>\n",
              "    <tr>\n",
              "      <th>50%</th>\n",
              "      <td>0.416667</td>\n",
              "      <td>0.416667</td>\n",
              "      <td>0.567797</td>\n",
              "      <td>0.500000</td>\n",
              "    </tr>\n",
              "    <tr>\n",
              "      <th>75%</th>\n",
              "      <td>0.583333</td>\n",
              "      <td>0.541667</td>\n",
              "      <td>0.694915</td>\n",
              "      <td>0.708333</td>\n",
              "    </tr>\n",
              "    <tr>\n",
              "      <th>max</th>\n",
              "      <td>1.000000</td>\n",
              "      <td>1.000000</td>\n",
              "      <td>1.000000</td>\n",
              "      <td>1.000000</td>\n",
              "    </tr>\n",
              "  </tbody>\n",
              "</table>\n",
              "</div>"
            ],
            "text/plain": [
              "       sepal length (cm)  sepal width (cm)  petal length (cm)  petal width (cm)\n",
              "count         150.000000        150.000000         150.000000        150.000000\n",
              "mean            0.428704          0.440556           0.467458          0.458056\n",
              "std             0.230018          0.181611           0.299203          0.317599\n",
              "min             0.000000          0.000000           0.000000          0.000000\n",
              "25%             0.222222          0.333333           0.101695          0.083333\n",
              "50%             0.416667          0.416667           0.567797          0.500000\n",
              "75%             0.583333          0.541667           0.694915          0.708333\n",
              "max             1.000000          1.000000           1.000000          1.000000"
            ]
          },
          "metadata": {
            "tags": []
          },
          "execution_count": 36
        }
      ]
    },
    {
      "cell_type": "code",
      "metadata": {
        "id": "nDmNGhWxy3NN",
        "colab": {
          "base_uri": "https://localhost:8080/",
          "height": 54
        },
        "outputId": "cb4e13fd-2bce-4e17-f269-b0c8fffcafa4"
      },
      "source": [
        "X_train, X_test, y_train, y_test = train_test_split(iris_df_scaled, iris.target, test_size=0.3)\n",
        "\n",
        "model = LogisticRegression()\n",
        "model.fit(X_train, y_train)\n",
        "\n",
        "print(\"훈련 데이터 점수: {}\".format(model.score(X_train, y_train)))\n",
        "print(\"평가 데이터 점수: {}\".format(model.score(X_test, y_test)))"
      ],
      "execution_count": null,
      "outputs": [
        {
          "output_type": "stream",
          "text": [
            "훈련 데이터 점수: 0.9238095238095239\n",
            "평가 데이터 점수: 0.9333333333333333\n"
          ],
          "name": "stdout"
        }
      ]
    },
    {
      "cell_type": "markdown",
      "metadata": {
        "id": "GleRpgpOAVPE"
      },
      "source": [
        "## 성능 평가 지표"
      ]
    },
    {
      "cell_type": "markdown",
      "metadata": {
        "id": "ZW0mVKVBApg5"
      },
      "source": [
        "### 정확도(Accuracy)\n",
        "\n",
        "* 정확도는 전체 예측 데이터 건수 중 예측 결과가 동일한 데이터 건수로 계산\n",
        "* scikit-learn에서는 `accuracy_score` 함수를 제공\n",
        "\n"
      ]
    },
    {
      "cell_type": "code",
      "metadata": {
        "id": "o5bYSmjiBOXK",
        "colab": {
          "base_uri": "https://localhost:8080/",
          "height": 73
        },
        "outputId": "2844001e-09ab-4f0f-d3b0-fc316eb11b44"
      },
      "source": [
        "from sklearn.datasets import make_classification\n",
        "from sklearn.linear_model import LogisticRegression\n",
        "from sklearn.metrics import accuracy_score\n",
        "\n",
        "X, y = make_classification(n_samples=1000, n_features=2, n_informative=2,\n",
        "                           n_redundant=0, n_clusters_per_class=1)\n",
        "\n",
        "X_train, X_test, y_train, y_test = train_test_split(X, y, test_size=0.3)\n",
        "\n",
        "model = LogisticRegression()\n",
        "model.fit(X_train, y_train)\n",
        "\n",
        "print(\"훈련 데이터 점수: {}\".format(model.score(X_train, y_train)))\n",
        "print(\"평가 데이터 점수: {}\".format(model.score(X_test, y_test)))\n",
        "\n",
        "predict = model.predict(X_test)\n",
        "print(\"정확도: {}\".format(accuracy_score(y_test, predict)))"
      ],
      "execution_count": null,
      "outputs": [
        {
          "output_type": "stream",
          "text": [
            "훈련 데이터 점수: 0.9114285714285715\n",
            "평가 데이터 점수: 0.95\n",
            "정확도: 0.95\n"
          ],
          "name": "stdout"
        }
      ]
    },
    {
      "cell_type": "markdown",
      "metadata": {
        "id": "lEsjYTnbDR3A"
      },
      "source": [
        "### 오차 행렬(Confusion Matrix)\n",
        "\n",
        "* True Negative: 예측값을 Negative 값 0으로 예측했고, 실제 값도 Negative 값 0\n",
        "* False Positive: 예측값을 Positive 값 1로 예측했는데, 실제 값은 Negative 값 0\n",
        "* False Negative: 예측값을 Negative 값 0으로 예측했는데, 실제 값은 Positive 값 1\n",
        "* True Positive: 예측값을 Positive 값 1로 예측했고, 실제 값도 Positive 값 1"
      ]
    },
    {
      "cell_type": "code",
      "metadata": {
        "id": "pYeVwfICEKcL",
        "colab": {
          "base_uri": "https://localhost:8080/",
          "height": 54
        },
        "outputId": "c93f24f7-20ef-41d4-b5a6-2a680e6a37a7"
      },
      "source": [
        "from sklearn.metrics import confusion_matrix\n",
        "\n",
        "confmat = confusion_matrix(y_true=y_test, y_pred=predict)\n",
        "print(confmat)"
      ],
      "execution_count": null,
      "outputs": [
        {
          "output_type": "stream",
          "text": [
            "[[138  11]\n",
            " [  4 147]]\n"
          ],
          "name": "stdout"
        }
      ]
    },
    {
      "cell_type": "code",
      "metadata": {
        "id": "ow3jcKmgEspA",
        "colab": {
          "base_uri": "https://localhost:8080/",
          "height": 189
        },
        "outputId": "80a0f51b-9e37-4891-d91c-f3a837d567c2"
      },
      "source": [
        "fig, ax = plt.subplots(figsize=(2.5, 2.5))\n",
        "ax.matshow(confmat, cmap=plt.cm.Blues, alpha=0.3)\n",
        "for i in range(confmat.shape[0]):\n",
        "  for j in range(confmat.shape[1]):\n",
        "    ax.text(x=j, y=i, s=confmat[i, j], va='center', ha='center')\n",
        "\n",
        "plt.xlabel('Predicted label')\n",
        "plt.ylabel('True label')\n",
        "plt.tight_layout()\n",
        "plt.show()"
      ],
      "execution_count": null,
      "outputs": [
        {
          "output_type": "display_data",
          "data": {
            "image/png": "[encoded data removed]",
            "text/plain": [
              "<Figure size 180x180 with 1 Axes>"
            ]
          },
          "metadata": {
            "tags": [],
            "needs_background": "light"
          }
        }
      ]
    },
    {
      "cell_type": "markdown",
      "metadata": {
        "id": "LLf4sth1FsQ_"
      },
      "source": [
        "\n",
        "### 정밀도(Precision)와 재현율(Recall)\n",
        "\n",
        "* 정밀도 = TP / (FP + TP)\n",
        "* 재현율 = TP / (FN + TP)\n",
        "\n",
        "* 정확도 = (TN + TP) / (TN + FP + FN + TP)\n",
        "* 오류율 = (FN + FP) / (TN + FP + FN + TP)"
      ]
    },
    {
      "cell_type": "code",
      "metadata": {
        "id": "liPg5IBuGhpj",
        "colab": {
          "base_uri": "https://localhost:8080/",
          "height": 54
        },
        "outputId": "716c9a91-b096-4a50-819a-7bd713e3f19f"
      },
      "source": [
        "from sklearn.metrics import precision_score, recall_score\n",
        "\n",
        "precision = precision_score(y_test, predict)\n",
        "recall = recall_score(y_test, predict)\n",
        "\n",
        "print(\"정밀도: {}\".format(precision))\n",
        "print(\"재현율: {}\".format(recall))"
      ],
      "execution_count": null,
      "outputs": [
        {
          "output_type": "stream",
          "text": [
            "정밀도: 0.930379746835443\n",
            "재현율: 0.9735099337748344\n"
          ],
          "name": "stdout"
        }
      ]
    },
    {
      "cell_type": "markdown",
      "metadata": {
        "id": "iFeWdm3ZK-vW"
      },
      "source": [
        "### F1 Score(F-measure)\n",
        "\n",
        "* 정밀도와 재현율을 결합한 지표\n",
        "* 정밀도와 재현율이 어느 한쪽으로 치우치지 않을 때 높은 값을 가짐\n",
        "\n",
        "\\begin{equation}\n",
        "F1 = 2 \\times \\frac{precision \\times recall}{precision + recall}\n",
        "\\end{equation}\n"
      ]
    },
    {
      "cell_type": "code",
      "metadata": {
        "id": "f5atW1FDLu-s",
        "colab": {
          "base_uri": "https://localhost:8080/",
          "height": 36
        },
        "outputId": "e84125bd-8382-4249-ee82-db37f7dbe419"
      },
      "source": [
        "from sklearn.metrics import f1_score\n",
        "\n",
        "f1 = f1_score(y_test, predict)\n",
        "\n",
        "print(\"F1 Score: {}\".format(f1))"
      ],
      "execution_count": null,
      "outputs": [
        {
          "output_type": "stream",
          "text": [
            "F1 Score: 0.9514563106796117\n"
          ],
          "name": "stdout"
        }
      ]
    },
    {
      "cell_type": "markdown",
      "metadata": {
        "id": "OtgHCc08OAKp"
      },
      "source": [
        "### ROC 곡선과 AUC\n",
        "\n",
        "* ROC 곡선은 FPR(False Positive Rate)이 변할 때 TPR(True Positive Rate)이 어떻게 변하는지 나타내는 곡선\n",
        "  + TPR(True Positive Rate): TP / (FN + TP), 재현율\n",
        "  + TNR(True Negative Rate): TN / (FP + TN)\n",
        "  + FPR(False Positive Rate): FP / (FP + TN), 1 - TNR\n",
        "\n",
        "* AUC(Area Under Curve) 값은 ROC 곡선 밑에 면적을 구한 값 (1이 가까울수록 좋은 값)"
      ]
    },
    {
      "cell_type": "code",
      "metadata": {
        "id": "qqVAbkiNU1UL",
        "colab": {
          "base_uri": "https://localhost:8080/",
          "height": 280
        },
        "outputId": "347c400d-cc4d-46f0-f4cb-69e728967b8d"
      },
      "source": [
        "from sklearn.metrics import roc_curve\n",
        "\n",
        "pred_proba_class1 = model.predict_proba(X_test)[:, 1]\n",
        "fprs, tprs, thresholds = roc_curve(y_test, pred_proba_class1)\n",
        "\n",
        "plt.plot(fprs, tprs, label='ROC')\n",
        "plt.plot([0, 1], [0, 1], '--k', label='Random')\n",
        "start, end = plt.xlim()\n",
        "plt.xticks(np.round(np.arange(start, end, 0.1), 2))\n",
        "plt.xlim(0, 1)\n",
        "plt.ylim(0, 1)\n",
        "plt.xlabel('FPR(1-Sensitivity)')\n",
        "plt.ylabel('TPR(Recall)')\n",
        "plt.legend();"
      ],
      "execution_count": null,
      "outputs": [
        {
          "output_type": "display_data",
          "data": {
            "image/png": "[encoded data removed]",
            "text/plain": [
              "<Figure size 432x288 with 1 Axes>"
            ]
          },
          "metadata": {
            "tags": [],
            "needs_background": "light"
          }
        }
      ]
    },
    {
      "cell_type": "code",
      "metadata": {
        "id": "WYMKyuPKWFNF",
        "colab": {
          "base_uri": "https://localhost:8080/",
          "height": 36
        },
        "outputId": "3f7221e8-d49e-4dec-9171-ce458dd2947a"
      },
      "source": [
        "from sklearn.metrics import roc_auc_score\n",
        "\n",
        "roc_auc = roc_auc_score(y_test, predict)\n",
        "\n",
        "print(\"ROC AUC Score: {}\".format(roc_auc))"
      ],
      "execution_count": null,
      "outputs": [
        {
          "output_type": "stream",
          "text": [
            "ROC AUC Score: 0.9498422152095648\n"
          ],
          "name": "stdout"
        }
      ]
    },
    {
      "cell_type": "markdown",
      "metadata": {
        "id": "R0H5n_UgMIx8"
      },
      "source": [
        "## 참고문헌\n",
        "\n",
        "* scikit-learn 사이트: https://scikit-learn.org/\n",
        "* Jake VanderPlas, \"Python Data Science Handbook\", O'Reilly\n",
        "* Sebastian Raschka, Vahid Mirjalili, \"Python Machine Learning\", Packt\n",
        "* Giuseppe Bonaccorso, \"Machine Learning Algorithm\", Packt\n",
        "* Aurelien Geron, \"Hands-On Machine Learning with Scikit-Learn, Keras, and TensorFlow: Concepts, Tools, and Techniques to Build Intelligent Systems\", O'Reilly"
      ]
    }
  ]
}