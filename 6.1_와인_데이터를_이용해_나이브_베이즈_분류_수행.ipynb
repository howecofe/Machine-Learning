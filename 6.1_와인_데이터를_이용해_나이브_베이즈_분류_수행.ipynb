{
  "nbformat": 4,
  "nbformat_minor": 0,
  "metadata": {
    "colab": {
      "name": "[과제] 와인 데이터를 이용해 나이브 베이즈 분류 수행.ipynb",
      "provenance": [],
      "collapsed_sections": []
    },
    "kernelspec": {
      "name": "python3",
      "display_name": "Python 3"
    }
  },
  "cells": [
    {
      "cell_type": "markdown",
      "metadata": {
        "id": "D6hc32-pypo5"
      },
      "source": [
        "# 와인 데이터 살펴보기"
      ]
    },
    {
      "cell_type": "code",
      "metadata": {
        "id": "E-8QZ2zPzhA4",
        "colab": {
          "base_uri": "https://localhost:8080/",
          "height": 1000
        },
        "outputId": "a819adba-df9b-4146-a471-0e1af574aea6"
      },
      "source": [
        "from sklearn.datasets import load_wine\n",
        "\n",
        "wine = load_wine()\n",
        "print(wine.keys())\n",
        "print(wine.target_names)\n",
        "print(wine.DESCR)"
      ],
      "execution_count": null,
      "outputs": [
        {
          "output_type": "stream",
          "text": [
            "dict_keys(['data', 'target', 'target_names', 'DESCR', 'feature_names'])\n",
            "['class_0' 'class_1' 'class_2']\n",
            ".. _wine_dataset:\n",
            "\n",
            "Wine recognition dataset\n",
            "------------------------\n",
            "\n",
            "**Data Set Characteristics:**\n",
            "\n",
            "    :Number of Instances: 178 (50 in each of three classes)\n",
            "    :Number of Attributes: 13 numeric, predictive attributes and the class\n",
            "    :Attribute Information:\n",
            " \t\t- Alcohol\n",
            " \t\t- Malic acid\n",
            " \t\t- Ash\n",
            "\t\t- Alcalinity of ash  \n",
            " \t\t- Magnesium\n",
            "\t\t- Total phenols\n",
            " \t\t- Flavanoids\n",
            " \t\t- Nonflavanoid phenols\n",
            " \t\t- Proanthocyanins\n",
            "\t\t- Color intensity\n",
            " \t\t- Hue\n",
            " \t\t- OD280/OD315 of diluted wines\n",
            " \t\t- Proline\n",
            "\n",
            "    - class:\n",
            "            - class_0\n",
            "            - class_1\n",
            "            - class_2\n",
            "\t\t\n",
            "    :Summary Statistics:\n",
            "    \n",
            "    ============================= ==== ===== ======= =====\n",
            "                                   Min   Max   Mean     SD\n",
            "    ============================= ==== ===== ======= =====\n",
            "    Alcohol:                      11.0  14.8    13.0   0.8\n",
            "    Malic Acid:                   0.74  5.80    2.34  1.12\n",
            "    Ash:                          1.36  3.23    2.36  0.27\n",
            "    Alcalinity of Ash:            10.6  30.0    19.5   3.3\n",
            "    Magnesium:                    70.0 162.0    99.7  14.3\n",
            "    Total Phenols:                0.98  3.88    2.29  0.63\n",
            "    Flavanoids:                   0.34  5.08    2.03  1.00\n",
            "    Nonflavanoid Phenols:         0.13  0.66    0.36  0.12\n",
            "    Proanthocyanins:              0.41  3.58    1.59  0.57\n",
            "    Colour Intensity:              1.3  13.0     5.1   2.3\n",
            "    Hue:                          0.48  1.71    0.96  0.23\n",
            "    OD280/OD315 of diluted wines: 1.27  4.00    2.61  0.71\n",
            "    Proline:                       278  1680     746   315\n",
            "    ============================= ==== ===== ======= =====\n",
            "\n",
            "    :Missing Attribute Values: None\n",
            "    :Class Distribution: class_0 (59), class_1 (71), class_2 (48)\n",
            "    :Creator: R.A. Fisher\n",
            "    :Donor: Michael Marshall (MARSHALL%PLU@io.arc.nasa.gov)\n",
            "    :Date: July, 1988\n",
            "\n",
            "This is a copy of UCI ML Wine recognition datasets.\n",
            "https://archive.ics.uci.edu/ml/machine-learning-databases/wine/wine.data\n",
            "\n",
            "The data is the results of a chemical analysis of wines grown in the same\n",
            "region in Italy by three different cultivators. There are thirteen different\n",
            "measurements taken for different constituents found in the three types of\n",
            "wine.\n",
            "\n",
            "Original Owners: \n",
            "\n",
            "Forina, M. et al, PARVUS - \n",
            "An Extendible Package for Data Exploration, Classification and Correlation. \n",
            "Institute of Pharmaceutical and Food Analysis and Technologies,\n",
            "Via Brigata Salerno, 16147 Genoa, Italy.\n",
            "\n",
            "Citation:\n",
            "\n",
            "Lichman, M. (2013). UCI Machine Learning Repository\n",
            "[https://archive.ics.uci.edu/ml]. Irvine, CA: University of California,\n",
            "School of Information and Computer Science. \n",
            "\n",
            ".. topic:: References\n",
            "\n",
            "  (1) S. Aeberhard, D. Coomans and O. de Vel, \n",
            "  Comparison of Classifiers in High Dimensional Settings, \n",
            "  Tech. Rep. no. 92-02, (1992), Dept. of Computer Science and Dept. of  \n",
            "  Mathematics and Statistics, James Cook University of North Queensland. \n",
            "  (Also submitted to Technometrics). \n",
            "\n",
            "  The data was used with many others for comparing various \n",
            "  classifiers. The classes are separable, though only RDA \n",
            "  has achieved 100% correct classification. \n",
            "  (RDA : 100%, QDA 99.4%, LDA 98.9%, 1NN 96.1% (z-transformed data)) \n",
            "  (All results using the leave-one-out technique) \n",
            "\n",
            "  (2) S. Aeberhard, D. Coomans and O. de Vel, \n",
            "  \"THE CLASSIFICATION PERFORMANCE OF RDA\" \n",
            "  Tech. Rep. no. 92-01, (1992), Dept. of Computer Science and Dept. of \n",
            "  Mathematics and Statistics, James Cook University of North Queensland. \n",
            "  (Also submitted to Journal of Chemometrics).\n",
            "\n"
          ],
          "name": "stdout"
        }
      ]
    },
    {
      "cell_type": "code",
      "metadata": {
        "id": "_uiYFTen0AUF",
        "colab": {
          "base_uri": "https://localhost:8080/",
          "height": 435
        },
        "outputId": "8d5c6b3b-9682-4377-f887-6a8acf6950ea"
      },
      "source": [
        "import pandas as pd\n",
        "\n",
        "wine_df = pd.DataFrame(data=wine.data, columns=wine.feature_names)\n",
        "wine_df['Target'] = wine.target\n",
        "wine_df"
      ],
      "execution_count": null,
      "outputs": [
        {
          "output_type": "execute_result",
          "data": {
            "text/html": [
              "<div>\n",
              "<style scoped>\n",
              "    .dataframe tbody tr th:only-of-type {\n",
              "        vertical-align: middle;\n",
              "    }\n",
              "\n",
              "    .dataframe tbody tr th {\n",
              "        vertical-align: top;\n",
              "    }\n",
              "\n",
              "    .dataframe thead th {\n",
              "        text-align: right;\n",
              "    }\n",
              "</style>\n",
              "<table border=\"1\" class=\"dataframe\">\n",
              "  <thead>\n",
              "    <tr style=\"text-align: right;\">\n",
              "      <th></th>\n",
              "      <th>alcohol</th>\n",
              "      <th>malic_acid</th>\n",
              "      <th>ash</th>\n",
              "      <th>alcalinity_of_ash</th>\n",
              "      <th>magnesium</th>\n",
              "      <th>total_phenols</th>\n",
              "      <th>flavanoids</th>\n",
              "      <th>nonflavanoid_phenols</th>\n",
              "      <th>proanthocyanins</th>\n",
              "      <th>color_intensity</th>\n",
              "      <th>hue</th>\n",
              "      <th>od280/od315_of_diluted_wines</th>\n",
              "      <th>proline</th>\n",
              "      <th>Target</th>\n",
              "    </tr>\n",
              "  </thead>\n",
              "  <tbody>\n",
              "    <tr>\n",
              "      <th>0</th>\n",
              "      <td>14.23</td>\n",
              "      <td>1.71</td>\n",
              "      <td>2.43</td>\n",
              "      <td>15.6</td>\n",
              "      <td>127.0</td>\n",
              "      <td>2.80</td>\n",
              "      <td>3.06</td>\n",
              "      <td>0.28</td>\n",
              "      <td>2.29</td>\n",
              "      <td>5.64</td>\n",
              "      <td>1.04</td>\n",
              "      <td>3.92</td>\n",
              "      <td>1065.0</td>\n",
              "      <td>0</td>\n",
              "    </tr>\n",
              "    <tr>\n",
              "      <th>1</th>\n",
              "      <td>13.20</td>\n",
              "      <td>1.78</td>\n",
              "      <td>2.14</td>\n",
              "      <td>11.2</td>\n",
              "      <td>100.0</td>\n",
              "      <td>2.65</td>\n",
              "      <td>2.76</td>\n",
              "      <td>0.26</td>\n",
              "      <td>1.28</td>\n",
              "      <td>4.38</td>\n",
              "      <td>1.05</td>\n",
              "      <td>3.40</td>\n",
              "      <td>1050.0</td>\n",
              "      <td>0</td>\n",
              "    </tr>\n",
              "    <tr>\n",
              "      <th>2</th>\n",
              "      <td>13.16</td>\n",
              "      <td>2.36</td>\n",
              "      <td>2.67</td>\n",
              "      <td>18.6</td>\n",
              "      <td>101.0</td>\n",
              "      <td>2.80</td>\n",
              "      <td>3.24</td>\n",
              "      <td>0.30</td>\n",
              "      <td>2.81</td>\n",
              "      <td>5.68</td>\n",
              "      <td>1.03</td>\n",
              "      <td>3.17</td>\n",
              "      <td>1185.0</td>\n",
              "      <td>0</td>\n",
              "    </tr>\n",
              "    <tr>\n",
              "      <th>3</th>\n",
              "      <td>14.37</td>\n",
              "      <td>1.95</td>\n",
              "      <td>2.50</td>\n",
              "      <td>16.8</td>\n",
              "      <td>113.0</td>\n",
              "      <td>3.85</td>\n",
              "      <td>3.49</td>\n",
              "      <td>0.24</td>\n",
              "      <td>2.18</td>\n",
              "      <td>7.80</td>\n",
              "      <td>0.86</td>\n",
              "      <td>3.45</td>\n",
              "      <td>1480.0</td>\n",
              "      <td>0</td>\n",
              "    </tr>\n",
              "    <tr>\n",
              "      <th>4</th>\n",
              "      <td>13.24</td>\n",
              "      <td>2.59</td>\n",
              "      <td>2.87</td>\n",
              "      <td>21.0</td>\n",
              "      <td>118.0</td>\n",
              "      <td>2.80</td>\n",
              "      <td>2.69</td>\n",
              "      <td>0.39</td>\n",
              "      <td>1.82</td>\n",
              "      <td>4.32</td>\n",
              "      <td>1.04</td>\n",
              "      <td>2.93</td>\n",
              "      <td>735.0</td>\n",
              "      <td>0</td>\n",
              "    </tr>\n",
              "    <tr>\n",
              "      <th>...</th>\n",
              "      <td>...</td>\n",
              "      <td>...</td>\n",
              "      <td>...</td>\n",
              "      <td>...</td>\n",
              "      <td>...</td>\n",
              "      <td>...</td>\n",
              "      <td>...</td>\n",
              "      <td>...</td>\n",
              "      <td>...</td>\n",
              "      <td>...</td>\n",
              "      <td>...</td>\n",
              "      <td>...</td>\n",
              "      <td>...</td>\n",
              "      <td>...</td>\n",
              "    </tr>\n",
              "    <tr>\n",
              "      <th>173</th>\n",
              "      <td>13.71</td>\n",
              "      <td>5.65</td>\n",
              "      <td>2.45</td>\n",
              "      <td>20.5</td>\n",
              "      <td>95.0</td>\n",
              "      <td>1.68</td>\n",
              "      <td>0.61</td>\n",
              "      <td>0.52</td>\n",
              "      <td>1.06</td>\n",
              "      <td>7.70</td>\n",
              "      <td>0.64</td>\n",
              "      <td>1.74</td>\n",
              "      <td>740.0</td>\n",
              "      <td>2</td>\n",
              "    </tr>\n",
              "    <tr>\n",
              "      <th>174</th>\n",
              "      <td>13.40</td>\n",
              "      <td>3.91</td>\n",
              "      <td>2.48</td>\n",
              "      <td>23.0</td>\n",
              "      <td>102.0</td>\n",
              "      <td>1.80</td>\n",
              "      <td>0.75</td>\n",
              "      <td>0.43</td>\n",
              "      <td>1.41</td>\n",
              "      <td>7.30</td>\n",
              "      <td>0.70</td>\n",
              "      <td>1.56</td>\n",
              "      <td>750.0</td>\n",
              "      <td>2</td>\n",
              "    </tr>\n",
              "    <tr>\n",
              "      <th>175</th>\n",
              "      <td>13.27</td>\n",
              "      <td>4.28</td>\n",
              "      <td>2.26</td>\n",
              "      <td>20.0</td>\n",
              "      <td>120.0</td>\n",
              "      <td>1.59</td>\n",
              "      <td>0.69</td>\n",
              "      <td>0.43</td>\n",
              "      <td>1.35</td>\n",
              "      <td>10.20</td>\n",
              "      <td>0.59</td>\n",
              "      <td>1.56</td>\n",
              "      <td>835.0</td>\n",
              "      <td>2</td>\n",
              "    </tr>\n",
              "    <tr>\n",
              "      <th>176</th>\n",
              "      <td>13.17</td>\n",
              "      <td>2.59</td>\n",
              "      <td>2.37</td>\n",
              "      <td>20.0</td>\n",
              "      <td>120.0</td>\n",
              "      <td>1.65</td>\n",
              "      <td>0.68</td>\n",
              "      <td>0.53</td>\n",
              "      <td>1.46</td>\n",
              "      <td>9.30</td>\n",
              "      <td>0.60</td>\n",
              "      <td>1.62</td>\n",
              "      <td>840.0</td>\n",
              "      <td>2</td>\n",
              "    </tr>\n",
              "    <tr>\n",
              "      <th>177</th>\n",
              "      <td>14.13</td>\n",
              "      <td>4.10</td>\n",
              "      <td>2.74</td>\n",
              "      <td>24.5</td>\n",
              "      <td>96.0</td>\n",
              "      <td>2.05</td>\n",
              "      <td>0.76</td>\n",
              "      <td>0.56</td>\n",
              "      <td>1.35</td>\n",
              "      <td>9.20</td>\n",
              "      <td>0.61</td>\n",
              "      <td>1.60</td>\n",
              "      <td>560.0</td>\n",
              "      <td>2</td>\n",
              "    </tr>\n",
              "  </tbody>\n",
              "</table>\n",
              "<p>178 rows × 14 columns</p>\n",
              "</div>"
            ],
            "text/plain": [
              "     alcohol  malic_acid   ash  ...  od280/od315_of_diluted_wines  proline  Target\n",
              "0      14.23        1.71  2.43  ...                          3.92   1065.0       0\n",
              "1      13.20        1.78  2.14  ...                          3.40   1050.0       0\n",
              "2      13.16        2.36  2.67  ...                          3.17   1185.0       0\n",
              "3      14.37        1.95  2.50  ...                          3.45   1480.0       0\n",
              "4      13.24        2.59  2.87  ...                          2.93    735.0       0\n",
              "..       ...         ...   ...  ...                           ...      ...     ...\n",
              "173    13.71        5.65  2.45  ...                          1.74    740.0       2\n",
              "174    13.40        3.91  2.48  ...                          1.56    750.0       2\n",
              "175    13.27        4.28  2.26  ...                          1.56    835.0       2\n",
              "176    13.17        2.59  2.37  ...                          1.62    840.0       2\n",
              "177    14.13        4.10  2.74  ...                          1.60    560.0       2\n",
              "\n",
              "[178 rows x 14 columns]"
            ]
          },
          "metadata": {
            "tags": []
          },
          "execution_count": 2
        }
      ]
    },
    {
      "cell_type": "markdown",
      "metadata": {
        "id": "y7iEGn0N1V2q"
      },
      "source": [
        "## 학습, 평가 데이터 분류"
      ]
    },
    {
      "cell_type": "code",
      "metadata": {
        "id": "xV9tZq6i0H70",
        "colab": {
          "base_uri": "https://localhost:8080/",
          "height": 73
        },
        "outputId": "348a7232-cfd3-4241-fb40-7a5c7c47060a"
      },
      "source": [
        "from sklearn.model_selection import train_test_split\n",
        "\n",
        "X, y = wine.data, wine.target\n",
        "\n",
        "X_train, X_test, y_train, y_test = train_test_split(X, y, test_size=0.2)\n",
        "\n",
        "print('전체 데이터 크기: {}'.format(X.shape))\n",
        "print('학습 데이터 크기: {}'.format(X_train.shape))\n",
        "print('평가 데이터 크기: {}'.format(X_test.shape))"
      ],
      "execution_count": null,
      "outputs": [
        {
          "output_type": "stream",
          "text": [
            "전체 데이터 크기: (178, 13)\n",
            "학습 데이터 크기: (142, 13)\n",
            "평가 데이터 크기: (36, 13)\n"
          ],
          "name": "stdout"
        }
      ]
    },
    {
      "cell_type": "markdown",
      "metadata": {
        "id": "UfrtNQxP1YBI"
      },
      "source": [
        "## 전처리"
      ]
    },
    {
      "cell_type": "markdown",
      "metadata": {
        "id": "y4ytfAng1d9h"
      },
      "source": [
        "### 전처리 전 데이터"
      ]
    },
    {
      "cell_type": "code",
      "metadata": {
        "id": "X3bN5o9F2jqZ",
        "colab": {
          "base_uri": "https://localhost:8080/",
          "height": 314
        },
        "outputId": "34e7c2a2-fa9e-456b-924c-182aa4b031e8"
      },
      "source": [
        "wine_df = pd.DataFrame(data=wine.data, columns=wine.feature_names)\n",
        "wine_df.describe()"
      ],
      "execution_count": null,
      "outputs": [
        {
          "output_type": "execute_result",
          "data": {
            "text/html": [
              "<div>\n",
              "<style scoped>\n",
              "    .dataframe tbody tr th:only-of-type {\n",
              "        vertical-align: middle;\n",
              "    }\n",
              "\n",
              "    .dataframe tbody tr th {\n",
              "        vertical-align: top;\n",
              "    }\n",
              "\n",
              "    .dataframe thead th {\n",
              "        text-align: right;\n",
              "    }\n",
              "</style>\n",
              "<table border=\"1\" class=\"dataframe\">\n",
              "  <thead>\n",
              "    <tr style=\"text-align: right;\">\n",
              "      <th></th>\n",
              "      <th>alcohol</th>\n",
              "      <th>malic_acid</th>\n",
              "      <th>ash</th>\n",
              "      <th>alcalinity_of_ash</th>\n",
              "      <th>magnesium</th>\n",
              "      <th>total_phenols</th>\n",
              "      <th>flavanoids</th>\n",
              "      <th>nonflavanoid_phenols</th>\n",
              "      <th>proanthocyanins</th>\n",
              "      <th>color_intensity</th>\n",
              "      <th>hue</th>\n",
              "      <th>od280/od315_of_diluted_wines</th>\n",
              "      <th>proline</th>\n",
              "    </tr>\n",
              "  </thead>\n",
              "  <tbody>\n",
              "    <tr>\n",
              "      <th>count</th>\n",
              "      <td>178.000000</td>\n",
              "      <td>178.000000</td>\n",
              "      <td>178.000000</td>\n",
              "      <td>178.000000</td>\n",
              "      <td>178.000000</td>\n",
              "      <td>178.000000</td>\n",
              "      <td>178.000000</td>\n",
              "      <td>178.000000</td>\n",
              "      <td>178.000000</td>\n",
              "      <td>178.000000</td>\n",
              "      <td>178.000000</td>\n",
              "      <td>178.000000</td>\n",
              "      <td>178.000000</td>\n",
              "    </tr>\n",
              "    <tr>\n",
              "      <th>mean</th>\n",
              "      <td>13.000618</td>\n",
              "      <td>2.336348</td>\n",
              "      <td>2.366517</td>\n",
              "      <td>19.494944</td>\n",
              "      <td>99.741573</td>\n",
              "      <td>2.295112</td>\n",
              "      <td>2.029270</td>\n",
              "      <td>0.361854</td>\n",
              "      <td>1.590899</td>\n",
              "      <td>5.058090</td>\n",
              "      <td>0.957449</td>\n",
              "      <td>2.611685</td>\n",
              "      <td>746.893258</td>\n",
              "    </tr>\n",
              "    <tr>\n",
              "      <th>std</th>\n",
              "      <td>0.811827</td>\n",
              "      <td>1.117146</td>\n",
              "      <td>0.274344</td>\n",
              "      <td>3.339564</td>\n",
              "      <td>14.282484</td>\n",
              "      <td>0.625851</td>\n",
              "      <td>0.998859</td>\n",
              "      <td>0.124453</td>\n",
              "      <td>0.572359</td>\n",
              "      <td>2.318286</td>\n",
              "      <td>0.228572</td>\n",
              "      <td>0.709990</td>\n",
              "      <td>314.907474</td>\n",
              "    </tr>\n",
              "    <tr>\n",
              "      <th>min</th>\n",
              "      <td>11.030000</td>\n",
              "      <td>0.740000</td>\n",
              "      <td>1.360000</td>\n",
              "      <td>10.600000</td>\n",
              "      <td>70.000000</td>\n",
              "      <td>0.980000</td>\n",
              "      <td>0.340000</td>\n",
              "      <td>0.130000</td>\n",
              "      <td>0.410000</td>\n",
              "      <td>1.280000</td>\n",
              "      <td>0.480000</td>\n",
              "      <td>1.270000</td>\n",
              "      <td>278.000000</td>\n",
              "    </tr>\n",
              "    <tr>\n",
              "      <th>25%</th>\n",
              "      <td>12.362500</td>\n",
              "      <td>1.602500</td>\n",
              "      <td>2.210000</td>\n",
              "      <td>17.200000</td>\n",
              "      <td>88.000000</td>\n",
              "      <td>1.742500</td>\n",
              "      <td>1.205000</td>\n",
              "      <td>0.270000</td>\n",
              "      <td>1.250000</td>\n",
              "      <td>3.220000</td>\n",
              "      <td>0.782500</td>\n",
              "      <td>1.937500</td>\n",
              "      <td>500.500000</td>\n",
              "    </tr>\n",
              "    <tr>\n",
              "      <th>50%</th>\n",
              "      <td>13.050000</td>\n",
              "      <td>1.865000</td>\n",
              "      <td>2.360000</td>\n",
              "      <td>19.500000</td>\n",
              "      <td>98.000000</td>\n",
              "      <td>2.355000</td>\n",
              "      <td>2.135000</td>\n",
              "      <td>0.340000</td>\n",
              "      <td>1.555000</td>\n",
              "      <td>4.690000</td>\n",
              "      <td>0.965000</td>\n",
              "      <td>2.780000</td>\n",
              "      <td>673.500000</td>\n",
              "    </tr>\n",
              "    <tr>\n",
              "      <th>75%</th>\n",
              "      <td>13.677500</td>\n",
              "      <td>3.082500</td>\n",
              "      <td>2.557500</td>\n",
              "      <td>21.500000</td>\n",
              "      <td>107.000000</td>\n",
              "      <td>2.800000</td>\n",
              "      <td>2.875000</td>\n",
              "      <td>0.437500</td>\n",
              "      <td>1.950000</td>\n",
              "      <td>6.200000</td>\n",
              "      <td>1.120000</td>\n",
              "      <td>3.170000</td>\n",
              "      <td>985.000000</td>\n",
              "    </tr>\n",
              "    <tr>\n",
              "      <th>max</th>\n",
              "      <td>14.830000</td>\n",
              "      <td>5.800000</td>\n",
              "      <td>3.230000</td>\n",
              "      <td>30.000000</td>\n",
              "      <td>162.000000</td>\n",
              "      <td>3.880000</td>\n",
              "      <td>5.080000</td>\n",
              "      <td>0.660000</td>\n",
              "      <td>3.580000</td>\n",
              "      <td>13.000000</td>\n",
              "      <td>1.710000</td>\n",
              "      <td>4.000000</td>\n",
              "      <td>1680.000000</td>\n",
              "    </tr>\n",
              "  </tbody>\n",
              "</table>\n",
              "</div>"
            ],
            "text/plain": [
              "          alcohol  malic_acid  ...  od280/od315_of_diluted_wines      proline\n",
              "count  178.000000  178.000000  ...                    178.000000   178.000000\n",
              "mean    13.000618    2.336348  ...                      2.611685   746.893258\n",
              "std      0.811827    1.117146  ...                      0.709990   314.907474\n",
              "min     11.030000    0.740000  ...                      1.270000   278.000000\n",
              "25%     12.362500    1.602500  ...                      1.937500   500.500000\n",
              "50%     13.050000    1.865000  ...                      2.780000   673.500000\n",
              "75%     13.677500    3.082500  ...                      3.170000   985.000000\n",
              "max     14.830000    5.800000  ...                      4.000000  1680.000000\n",
              "\n",
              "[8 rows x 13 columns]"
            ]
          },
          "metadata": {
            "tags": []
          },
          "execution_count": 4
        }
      ]
    },
    {
      "cell_type": "code",
      "metadata": {
        "id": "cTHwPls43YrO",
        "colab": {
          "base_uri": "https://localhost:8080/",
          "height": 314
        },
        "outputId": "4143c099-524c-4ac5-eecf-824613a65101"
      },
      "source": [
        "wine_train_df = pd.DataFrame(data=X_train, columns=wine.feature_names)\n",
        "wine_train_df.describe()"
      ],
      "execution_count": null,
      "outputs": [
        {
          "output_type": "execute_result",
          "data": {
            "text/html": [
              "<div>\n",
              "<style scoped>\n",
              "    .dataframe tbody tr th:only-of-type {\n",
              "        vertical-align: middle;\n",
              "    }\n",
              "\n",
              "    .dataframe tbody tr th {\n",
              "        vertical-align: top;\n",
              "    }\n",
              "\n",
              "    .dataframe thead th {\n",
              "        text-align: right;\n",
              "    }\n",
              "</style>\n",
              "<table border=\"1\" class=\"dataframe\">\n",
              "  <thead>\n",
              "    <tr style=\"text-align: right;\">\n",
              "      <th></th>\n",
              "      <th>alcohol</th>\n",
              "      <th>malic_acid</th>\n",
              "      <th>ash</th>\n",
              "      <th>alcalinity_of_ash</th>\n",
              "      <th>magnesium</th>\n",
              "      <th>total_phenols</th>\n",
              "      <th>flavanoids</th>\n",
              "      <th>nonflavanoid_phenols</th>\n",
              "      <th>proanthocyanins</th>\n",
              "      <th>color_intensity</th>\n",
              "      <th>hue</th>\n",
              "      <th>od280/od315_of_diluted_wines</th>\n",
              "      <th>proline</th>\n",
              "    </tr>\n",
              "  </thead>\n",
              "  <tbody>\n",
              "    <tr>\n",
              "      <th>count</th>\n",
              "      <td>142.000000</td>\n",
              "      <td>142.000000</td>\n",
              "      <td>142.000000</td>\n",
              "      <td>142.000000</td>\n",
              "      <td>142.000000</td>\n",
              "      <td>142.000000</td>\n",
              "      <td>142.000000</td>\n",
              "      <td>142.000000</td>\n",
              "      <td>142.000000</td>\n",
              "      <td>142.000000</td>\n",
              "      <td>142.000000</td>\n",
              "      <td>142.000000</td>\n",
              "      <td>142.000000</td>\n",
              "    </tr>\n",
              "    <tr>\n",
              "      <th>mean</th>\n",
              "      <td>12.976056</td>\n",
              "      <td>2.341127</td>\n",
              "      <td>2.373310</td>\n",
              "      <td>19.490845</td>\n",
              "      <td>99.464789</td>\n",
              "      <td>2.320282</td>\n",
              "      <td>2.047676</td>\n",
              "      <td>0.363169</td>\n",
              "      <td>1.590423</td>\n",
              "      <td>4.982746</td>\n",
              "      <td>0.956451</td>\n",
              "      <td>2.640141</td>\n",
              "      <td>752.542254</td>\n",
              "    </tr>\n",
              "    <tr>\n",
              "      <th>std</th>\n",
              "      <td>0.839702</td>\n",
              "      <td>1.156191</td>\n",
              "      <td>0.281316</td>\n",
              "      <td>3.399748</td>\n",
              "      <td>13.765339</td>\n",
              "      <td>0.606335</td>\n",
              "      <td>1.004491</td>\n",
              "      <td>0.125785</td>\n",
              "      <td>0.564312</td>\n",
              "      <td>2.237932</td>\n",
              "      <td>0.230980</td>\n",
              "      <td>0.698788</td>\n",
              "      <td>323.009598</td>\n",
              "    </tr>\n",
              "    <tr>\n",
              "      <th>min</th>\n",
              "      <td>11.030000</td>\n",
              "      <td>0.740000</td>\n",
              "      <td>1.700000</td>\n",
              "      <td>11.200000</td>\n",
              "      <td>70.000000</td>\n",
              "      <td>0.980000</td>\n",
              "      <td>0.340000</td>\n",
              "      <td>0.130000</td>\n",
              "      <td>0.410000</td>\n",
              "      <td>1.740000</td>\n",
              "      <td>0.480000</td>\n",
              "      <td>1.270000</td>\n",
              "      <td>278.000000</td>\n",
              "    </tr>\n",
              "    <tr>\n",
              "      <th>25%</th>\n",
              "      <td>12.330000</td>\n",
              "      <td>1.602500</td>\n",
              "      <td>2.202500</td>\n",
              "      <td>17.200000</td>\n",
              "      <td>89.000000</td>\n",
              "      <td>1.800000</td>\n",
              "      <td>1.212500</td>\n",
              "      <td>0.270000</td>\n",
              "      <td>1.250000</td>\n",
              "      <td>3.220000</td>\n",
              "      <td>0.782500</td>\n",
              "      <td>2.052500</td>\n",
              "      <td>504.000000</td>\n",
              "    </tr>\n",
              "    <tr>\n",
              "      <th>50%</th>\n",
              "      <td>13.010000</td>\n",
              "      <td>1.870000</td>\n",
              "      <td>2.360000</td>\n",
              "      <td>19.450000</td>\n",
              "      <td>97.000000</td>\n",
              "      <td>2.405000</td>\n",
              "      <td>2.170000</td>\n",
              "      <td>0.335000</td>\n",
              "      <td>1.535000</td>\n",
              "      <td>4.600000</td>\n",
              "      <td>0.980000</td>\n",
              "      <td>2.825000</td>\n",
              "      <td>666.000000</td>\n",
              "    </tr>\n",
              "    <tr>\n",
              "      <th>75%</th>\n",
              "      <td>13.700000</td>\n",
              "      <td>3.030000</td>\n",
              "      <td>2.580000</td>\n",
              "      <td>21.500000</td>\n",
              "      <td>107.000000</td>\n",
              "      <td>2.800000</td>\n",
              "      <td>2.790000</td>\n",
              "      <td>0.447500</td>\n",
              "      <td>1.967500</td>\n",
              "      <td>6.075000</td>\n",
              "      <td>1.120000</td>\n",
              "      <td>3.177500</td>\n",
              "      <td>1007.500000</td>\n",
              "    </tr>\n",
              "    <tr>\n",
              "      <th>max</th>\n",
              "      <td>14.830000</td>\n",
              "      <td>5.800000</td>\n",
              "      <td>3.230000</td>\n",
              "      <td>30.000000</td>\n",
              "      <td>151.000000</td>\n",
              "      <td>3.880000</td>\n",
              "      <td>5.080000</td>\n",
              "      <td>0.660000</td>\n",
              "      <td>3.580000</td>\n",
              "      <td>13.000000</td>\n",
              "      <td>1.710000</td>\n",
              "      <td>3.920000</td>\n",
              "      <td>1680.000000</td>\n",
              "    </tr>\n",
              "  </tbody>\n",
              "</table>\n",
              "</div>"
            ],
            "text/plain": [
              "          alcohol  malic_acid  ...  od280/od315_of_diluted_wines      proline\n",
              "count  142.000000  142.000000  ...                    142.000000   142.000000\n",
              "mean    12.976056    2.341127  ...                      2.640141   752.542254\n",
              "std      0.839702    1.156191  ...                      0.698788   323.009598\n",
              "min     11.030000    0.740000  ...                      1.270000   278.000000\n",
              "25%     12.330000    1.602500  ...                      2.052500   504.000000\n",
              "50%     13.010000    1.870000  ...                      2.825000   666.000000\n",
              "75%     13.700000    3.030000  ...                      3.177500  1007.500000\n",
              "max     14.830000    5.800000  ...                      3.920000  1680.000000\n",
              "\n",
              "[8 rows x 13 columns]"
            ]
          },
          "metadata": {
            "tags": []
          },
          "execution_count": 5
        }
      ]
    },
    {
      "cell_type": "code",
      "metadata": {
        "id": "wnrNs3Ck3fTe",
        "colab": {
          "base_uri": "https://localhost:8080/",
          "height": 314
        },
        "outputId": "0577bba5-59cf-41e7-e8fe-08637a3d2b33"
      },
      "source": [
        "wine_test_df = pd.DataFrame(data=X_test, columns=wine.feature_names)\n",
        "wine_test_df.describe()"
      ],
      "execution_count": null,
      "outputs": [
        {
          "output_type": "execute_result",
          "data": {
            "text/html": [
              "<div>\n",
              "<style scoped>\n",
              "    .dataframe tbody tr th:only-of-type {\n",
              "        vertical-align: middle;\n",
              "    }\n",
              "\n",
              "    .dataframe tbody tr th {\n",
              "        vertical-align: top;\n",
              "    }\n",
              "\n",
              "    .dataframe thead th {\n",
              "        text-align: right;\n",
              "    }\n",
              "</style>\n",
              "<table border=\"1\" class=\"dataframe\">\n",
              "  <thead>\n",
              "    <tr style=\"text-align: right;\">\n",
              "      <th></th>\n",
              "      <th>alcohol</th>\n",
              "      <th>malic_acid</th>\n",
              "      <th>ash</th>\n",
              "      <th>alcalinity_of_ash</th>\n",
              "      <th>magnesium</th>\n",
              "      <th>total_phenols</th>\n",
              "      <th>flavanoids</th>\n",
              "      <th>nonflavanoid_phenols</th>\n",
              "      <th>proanthocyanins</th>\n",
              "      <th>color_intensity</th>\n",
              "      <th>hue</th>\n",
              "      <th>od280/od315_of_diluted_wines</th>\n",
              "      <th>proline</th>\n",
              "    </tr>\n",
              "  </thead>\n",
              "  <tbody>\n",
              "    <tr>\n",
              "      <th>count</th>\n",
              "      <td>36.000000</td>\n",
              "      <td>36.000000</td>\n",
              "      <td>36.000000</td>\n",
              "      <td>36.000000</td>\n",
              "      <td>36.000000</td>\n",
              "      <td>36.000000</td>\n",
              "      <td>36.000000</td>\n",
              "      <td>36.000000</td>\n",
              "      <td>36.000000</td>\n",
              "      <td>36.000000</td>\n",
              "      <td>36.000000</td>\n",
              "      <td>36.000000</td>\n",
              "      <td>36.000000</td>\n",
              "    </tr>\n",
              "    <tr>\n",
              "      <th>mean</th>\n",
              "      <td>13.097500</td>\n",
              "      <td>2.317500</td>\n",
              "      <td>2.339722</td>\n",
              "      <td>19.511111</td>\n",
              "      <td>100.833333</td>\n",
              "      <td>2.195833</td>\n",
              "      <td>1.956667</td>\n",
              "      <td>0.356667</td>\n",
              "      <td>1.592778</td>\n",
              "      <td>5.355278</td>\n",
              "      <td>0.961389</td>\n",
              "      <td>2.499444</td>\n",
              "      <td>724.611111</td>\n",
              "    </tr>\n",
              "    <tr>\n",
              "      <th>std</th>\n",
              "      <td>0.693057</td>\n",
              "      <td>0.962097</td>\n",
              "      <td>0.246744</td>\n",
              "      <td>3.136402</td>\n",
              "      <td>16.331390</td>\n",
              "      <td>0.697888</td>\n",
              "      <td>0.986900</td>\n",
              "      <td>0.120641</td>\n",
              "      <td>0.611390</td>\n",
              "      <td>2.624696</td>\n",
              "      <td>0.221941</td>\n",
              "      <td>0.752212</td>\n",
              "      <td>283.792709</td>\n",
              "    </tr>\n",
              "    <tr>\n",
              "      <th>min</th>\n",
              "      <td>11.650000</td>\n",
              "      <td>0.940000</td>\n",
              "      <td>1.360000</td>\n",
              "      <td>10.600000</td>\n",
              "      <td>80.000000</td>\n",
              "      <td>1.300000</td>\n",
              "      <td>0.560000</td>\n",
              "      <td>0.170000</td>\n",
              "      <td>0.420000</td>\n",
              "      <td>1.280000</td>\n",
              "      <td>0.570000</td>\n",
              "      <td>1.330000</td>\n",
              "      <td>355.000000</td>\n",
              "    </tr>\n",
              "    <tr>\n",
              "      <th>25%</th>\n",
              "      <td>12.597500</td>\n",
              "      <td>1.637500</td>\n",
              "      <td>2.260000</td>\n",
              "      <td>17.150000</td>\n",
              "      <td>87.000000</td>\n",
              "      <td>1.597500</td>\n",
              "      <td>1.145000</td>\n",
              "      <td>0.267500</td>\n",
              "      <td>1.112500</td>\n",
              "      <td>3.237500</td>\n",
              "      <td>0.817500</td>\n",
              "      <td>1.787500</td>\n",
              "      <td>493.250000</td>\n",
              "    </tr>\n",
              "    <tr>\n",
              "      <th>50%</th>\n",
              "      <td>13.220000</td>\n",
              "      <td>1.845000</td>\n",
              "      <td>2.360000</td>\n",
              "      <td>19.750000</td>\n",
              "      <td>101.000000</td>\n",
              "      <td>1.990000</td>\n",
              "      <td>1.755000</td>\n",
              "      <td>0.355000</td>\n",
              "      <td>1.625000</td>\n",
              "      <td>5.100000</td>\n",
              "      <td>0.960000</td>\n",
              "      <td>2.600000</td>\n",
              "      <td>677.500000</td>\n",
              "    </tr>\n",
              "    <tr>\n",
              "      <th>75%</th>\n",
              "      <td>13.650000</td>\n",
              "      <td>3.140000</td>\n",
              "      <td>2.507500</td>\n",
              "      <td>21.125000</td>\n",
              "      <td>111.500000</td>\n",
              "      <td>2.712500</td>\n",
              "      <td>2.890000</td>\n",
              "      <td>0.430000</td>\n",
              "      <td>1.870000</td>\n",
              "      <td>6.337500</td>\n",
              "      <td>1.087500</td>\n",
              "      <td>3.077500</td>\n",
              "      <td>924.250000</td>\n",
              "    </tr>\n",
              "    <tr>\n",
              "      <th>max</th>\n",
              "      <td>14.370000</td>\n",
              "      <td>4.310000</td>\n",
              "      <td>2.690000</td>\n",
              "      <td>26.000000</td>\n",
              "      <td>162.000000</td>\n",
              "      <td>3.850000</td>\n",
              "      <td>3.560000</td>\n",
              "      <td>0.610000</td>\n",
              "      <td>3.280000</td>\n",
              "      <td>10.680000</td>\n",
              "      <td>1.450000</td>\n",
              "      <td>4.000000</td>\n",
              "      <td>1480.000000</td>\n",
              "    </tr>\n",
              "  </tbody>\n",
              "</table>\n",
              "</div>"
            ],
            "text/plain": [
              "         alcohol  malic_acid  ...  od280/od315_of_diluted_wines      proline\n",
              "count  36.000000   36.000000  ...                     36.000000    36.000000\n",
              "mean   13.097500    2.317500  ...                      2.499444   724.611111\n",
              "std     0.693057    0.962097  ...                      0.752212   283.792709\n",
              "min    11.650000    0.940000  ...                      1.330000   355.000000\n",
              "25%    12.597500    1.637500  ...                      1.787500   493.250000\n",
              "50%    13.220000    1.845000  ...                      2.600000   677.500000\n",
              "75%    13.650000    3.140000  ...                      3.077500   924.250000\n",
              "max    14.370000    4.310000  ...                      4.000000  1480.000000\n",
              "\n",
              "[8 rows x 13 columns]"
            ]
          },
          "metadata": {
            "tags": []
          },
          "execution_count": 6
        }
      ]
    },
    {
      "cell_type": "markdown",
      "metadata": {
        "id": "QkV0LvGK1bKE"
      },
      "source": [
        "### 전처리 과정"
      ]
    },
    {
      "cell_type": "code",
      "metadata": {
        "id": "tbDF4cJA2kLj"
      },
      "source": [
        "from sklearn.preprocessing import StandardScaler\n",
        "\n",
        "scaler = StandardScaler()\n",
        "X_train_scale = scaler.fit_transform(X_train)\n",
        "X_test_scale = scaler.transform(X_test)"
      ],
      "execution_count": null,
      "outputs": []
    },
    {
      "cell_type": "markdown",
      "metadata": {
        "id": "RrHuIRsG1ikw"
      },
      "source": [
        "### 전처리 후 데이터"
      ]
    },
    {
      "cell_type": "code",
      "metadata": {
        "id": "jw1aF0z22ki4",
        "colab": {
          "base_uri": "https://localhost:8080/",
          "height": 314
        },
        "outputId": "973f8632-ad03-41a0-bab9-921e0d524f2f"
      },
      "source": [
        "wine_train_df = pd.DataFrame(data=X_train_scale, columns=wine.feature_names)\n",
        "wine_train_df.describe()"
      ],
      "execution_count": null,
      "outputs": [
        {
          "output_type": "execute_result",
          "data": {
            "text/html": [
              "<div>\n",
              "<style scoped>\n",
              "    .dataframe tbody tr th:only-of-type {\n",
              "        vertical-align: middle;\n",
              "    }\n",
              "\n",
              "    .dataframe tbody tr th {\n",
              "        vertical-align: top;\n",
              "    }\n",
              "\n",
              "    .dataframe thead th {\n",
              "        text-align: right;\n",
              "    }\n",
              "</style>\n",
              "<table border=\"1\" class=\"dataframe\">\n",
              "  <thead>\n",
              "    <tr style=\"text-align: right;\">\n",
              "      <th></th>\n",
              "      <th>alcohol</th>\n",
              "      <th>malic_acid</th>\n",
              "      <th>ash</th>\n",
              "      <th>alcalinity_of_ash</th>\n",
              "      <th>magnesium</th>\n",
              "      <th>total_phenols</th>\n",
              "      <th>flavanoids</th>\n",
              "      <th>nonflavanoid_phenols</th>\n",
              "      <th>proanthocyanins</th>\n",
              "      <th>color_intensity</th>\n",
              "      <th>hue</th>\n",
              "      <th>od280/od315_of_diluted_wines</th>\n",
              "      <th>proline</th>\n",
              "    </tr>\n",
              "  </thead>\n",
              "  <tbody>\n",
              "    <tr>\n",
              "      <th>count</th>\n",
              "      <td>1.420000e+02</td>\n",
              "      <td>1.420000e+02</td>\n",
              "      <td>1.420000e+02</td>\n",
              "      <td>1.420000e+02</td>\n",
              "      <td>1.420000e+02</td>\n",
              "      <td>1.420000e+02</td>\n",
              "      <td>1.420000e+02</td>\n",
              "      <td>1.420000e+02</td>\n",
              "      <td>1.420000e+02</td>\n",
              "      <td>1.420000e+02</td>\n",
              "      <td>1.420000e+02</td>\n",
              "      <td>1.420000e+02</td>\n",
              "      <td>1.420000e+02</td>\n",
              "    </tr>\n",
              "    <tr>\n",
              "      <th>mean</th>\n",
              "      <td>1.622333e-16</td>\n",
              "      <td>-1.229064e-15</td>\n",
              "      <td>4.097906e-15</td>\n",
              "      <td>-1.677062e-15</td>\n",
              "      <td>-1.219682e-16</td>\n",
              "      <td>-5.574571e-16</td>\n",
              "      <td>-7.497915e-16</td>\n",
              "      <td>-6.989714e-16</td>\n",
              "      <td>-2.595733e-16</td>\n",
              "      <td>-1.420616e-15</td>\n",
              "      <td>-2.618015e-15</td>\n",
              "      <td>1.042984e-15</td>\n",
              "      <td>-5.774675e-17</td>\n",
              "    </tr>\n",
              "    <tr>\n",
              "      <th>std</th>\n",
              "      <td>1.003540e+00</td>\n",
              "      <td>1.003540e+00</td>\n",
              "      <td>1.003540e+00</td>\n",
              "      <td>1.003540e+00</td>\n",
              "      <td>1.003540e+00</td>\n",
              "      <td>1.003540e+00</td>\n",
              "      <td>1.003540e+00</td>\n",
              "      <td>1.003540e+00</td>\n",
              "      <td>1.003540e+00</td>\n",
              "      <td>1.003540e+00</td>\n",
              "      <td>1.003540e+00</td>\n",
              "      <td>1.003540e+00</td>\n",
              "      <td>1.003540e+00</td>\n",
              "    </tr>\n",
              "    <tr>\n",
              "      <th>min</th>\n",
              "      <td>-2.325760e+00</td>\n",
              "      <td>-1.389731e+00</td>\n",
              "      <td>-2.401902e+00</td>\n",
              "      <td>-2.447297e+00</td>\n",
              "      <td>-2.148083e+00</td>\n",
              "      <td>-2.218288e+00</td>\n",
              "      <td>-1.706059e+00</td>\n",
              "      <td>-1.860276e+00</td>\n",
              "      <td>-2.099195e+00</td>\n",
              "      <td>-1.454122e+00</td>\n",
              "      <td>-2.070034e+00</td>\n",
              "      <td>-1.967679e+00</td>\n",
              "      <td>-1.474328e+00</td>\n",
              "    </tr>\n",
              "    <tr>\n",
              "      <th>25%</th>\n",
              "      <td>-7.721113e-01</td>\n",
              "      <td>-6.411064e-01</td>\n",
              "      <td>-6.093311e-01</td>\n",
              "      <td>-6.762132e-01</td>\n",
              "      <td>-7.629185e-01</td>\n",
              "      <td>-8.611133e-01</td>\n",
              "      <td>-8.343851e-01</td>\n",
              "      <td>-7.433240e-01</td>\n",
              "      <td>-6.053877e-01</td>\n",
              "      <td>-7.904558e-01</td>\n",
              "      <td>-7.557629e-01</td>\n",
              "      <td>-8.439195e-01</td>\n",
              "      <td>-7.721815e-01</td>\n",
              "    </tr>\n",
              "    <tr>\n",
              "      <th>50%</th>\n",
              "      <td>4.056656e-02</td>\n",
              "      <td>-4.089242e-01</td>\n",
              "      <td>-4.748034e-02</td>\n",
              "      <td>-1.205668e-02</td>\n",
              "      <td>-1.796914e-01</td>\n",
              "      <td>1.402165e-01</td>\n",
              "      <td>1.222081e-01</td>\n",
              "      <td>-2.247389e-01</td>\n",
              "      <td>-9.856023e-02</td>\n",
              "      <td>-1.716323e-01</td>\n",
              "      <td>1.023145e-01</td>\n",
              "      <td>2.654789e-01</td>\n",
              "      <td>-2.688731e-01</td>\n",
              "    </tr>\n",
              "    <tr>\n",
              "      <th>75%</th>\n",
              "      <td>8.651955e-01</td>\n",
              "      <td>5.979218e-01</td>\n",
              "      <td>7.373270e-01</td>\n",
              "      <td>5.930637e-01</td>\n",
              "      <td>5.493424e-01</td>\n",
              "      <td>7.939773e-01</td>\n",
              "      <td>7.416210e-01</td>\n",
              "      <td>6.728122e-01</td>\n",
              "      <td>6.705727e-01</td>\n",
              "      <td>4.897915e-01</td>\n",
              "      <td>7.105720e-01</td>\n",
              "      <td>7.717093e-01</td>\n",
              "      <td>7.921135e-01</td>\n",
              "    </tr>\n",
              "    <tr>\n",
              "      <th>max</th>\n",
              "      <td>2.215675e+00</td>\n",
              "      <td>3.002201e+00</td>\n",
              "      <td>3.056076e+00</td>\n",
              "      <td>3.102099e+00</td>\n",
              "      <td>3.757091e+00</td>\n",
              "      <td>2.581475e+00</td>\n",
              "      <td>3.029452e+00</td>\n",
              "      <td>2.368186e+00</td>\n",
              "      <td>3.538149e+00</td>\n",
              "      <td>3.595120e+00</td>\n",
              "      <td>3.273943e+00</td>\n",
              "      <td>1.838024e+00</td>\n",
              "      <td>2.881465e+00</td>\n",
              "    </tr>\n",
              "  </tbody>\n",
              "</table>\n",
              "</div>"
            ],
            "text/plain": [
              "            alcohol    malic_acid  ...  od280/od315_of_diluted_wines       proline\n",
              "count  1.420000e+02  1.420000e+02  ...                  1.420000e+02  1.420000e+02\n",
              "mean   1.622333e-16 -1.229064e-15  ...                  1.042984e-15 -5.774675e-17\n",
              "std    1.003540e+00  1.003540e+00  ...                  1.003540e+00  1.003540e+00\n",
              "min   -2.325760e+00 -1.389731e+00  ...                 -1.967679e+00 -1.474328e+00\n",
              "25%   -7.721113e-01 -6.411064e-01  ...                 -8.439195e-01 -7.721815e-01\n",
              "50%    4.056656e-02 -4.089242e-01  ...                  2.654789e-01 -2.688731e-01\n",
              "75%    8.651955e-01  5.979218e-01  ...                  7.717093e-01  7.921135e-01\n",
              "max    2.215675e+00  3.002201e+00  ...                  1.838024e+00  2.881465e+00\n",
              "\n",
              "[8 rows x 13 columns]"
            ]
          },
          "metadata": {
            "tags": []
          },
          "execution_count": 8
        }
      ]
    },
    {
      "cell_type": "code",
      "metadata": {
        "id": "JN4F7kbE34tP",
        "colab": {
          "base_uri": "https://localhost:8080/",
          "height": 314
        },
        "outputId": "ba45aaea-111a-4e6b-a409-953d521f7b89"
      },
      "source": [
        "wine_test_df = pd.DataFrame(data=X_test_scale, columns=wine.feature_names)\n",
        "wine_test_df.describe()"
      ],
      "execution_count": null,
      "outputs": [
        {
          "output_type": "execute_result",
          "data": {
            "text/html": [
              "<div>\n",
              "<style scoped>\n",
              "    .dataframe tbody tr th:only-of-type {\n",
              "        vertical-align: middle;\n",
              "    }\n",
              "\n",
              "    .dataframe tbody tr th {\n",
              "        vertical-align: top;\n",
              "    }\n",
              "\n",
              "    .dataframe thead th {\n",
              "        text-align: right;\n",
              "    }\n",
              "</style>\n",
              "<table border=\"1\" class=\"dataframe\">\n",
              "  <thead>\n",
              "    <tr style=\"text-align: right;\">\n",
              "      <th></th>\n",
              "      <th>alcohol</th>\n",
              "      <th>malic_acid</th>\n",
              "      <th>ash</th>\n",
              "      <th>alcalinity_of_ash</th>\n",
              "      <th>magnesium</th>\n",
              "      <th>total_phenols</th>\n",
              "      <th>flavanoids</th>\n",
              "      <th>nonflavanoid_phenols</th>\n",
              "      <th>proanthocyanins</th>\n",
              "      <th>color_intensity</th>\n",
              "      <th>hue</th>\n",
              "      <th>od280/od315_of_diluted_wines</th>\n",
              "      <th>proline</th>\n",
              "    </tr>\n",
              "  </thead>\n",
              "  <tbody>\n",
              "    <tr>\n",
              "      <th>count</th>\n",
              "      <td>36.000000</td>\n",
              "      <td>36.000000</td>\n",
              "      <td>36.000000</td>\n",
              "      <td>36.000000</td>\n",
              "      <td>36.000000</td>\n",
              "      <td>36.000000</td>\n",
              "      <td>36.000000</td>\n",
              "      <td>36.000000</td>\n",
              "      <td>36.000000</td>\n",
              "      <td>36.000000</td>\n",
              "      <td>36.000000</td>\n",
              "      <td>36.000000</td>\n",
              "      <td>36.000000</td>\n",
              "    </tr>\n",
              "    <tr>\n",
              "      <th>mean</th>\n",
              "      <td>0.145139</td>\n",
              "      <td>-0.020507</td>\n",
              "      <td>-0.119817</td>\n",
              "      <td>0.005982</td>\n",
              "      <td>0.099772</td>\n",
              "      <td>-0.205973</td>\n",
              "      <td>-0.090923</td>\n",
              "      <td>-0.051877</td>\n",
              "      <td>0.004188</td>\n",
              "      <td>0.167052</td>\n",
              "      <td>0.021455</td>\n",
              "      <td>-0.202056</td>\n",
              "      <td>-0.086778</td>\n",
              "    </tr>\n",
              "    <tr>\n",
              "      <th>std</th>\n",
              "      <td>0.828282</td>\n",
              "      <td>0.835072</td>\n",
              "      <td>0.880213</td>\n",
              "      <td>0.925805</td>\n",
              "      <td>1.190614</td>\n",
              "      <td>1.155068</td>\n",
              "      <td>0.985965</td>\n",
              "      <td>0.962503</td>\n",
              "      <td>1.087261</td>\n",
              "      <td>1.176974</td>\n",
              "      <td>0.964268</td>\n",
              "      <td>1.080262</td>\n",
              "      <td>0.881699</td>\n",
              "    </tr>\n",
              "    <tr>\n",
              "      <th>min</th>\n",
              "      <td>-1.584789</td>\n",
              "      <td>-1.216137</td>\n",
              "      <td>-3.614787</td>\n",
              "      <td>-2.624406</td>\n",
              "      <td>-1.419049</td>\n",
              "      <td>-1.688659</td>\n",
              "      <td>-1.486267</td>\n",
              "      <td>-1.541147</td>\n",
              "      <td>-2.081412</td>\n",
              "      <td>-1.660396</td>\n",
              "      <td>-1.679011</td>\n",
              "      <td>-1.881512</td>\n",
              "      <td>-1.235101</td>\n",
              "    </tr>\n",
              "    <tr>\n",
              "      <th>25%</th>\n",
              "      <td>-0.452418</td>\n",
              "      <td>-0.610727</td>\n",
              "      <td>-0.404211</td>\n",
              "      <td>-0.690972</td>\n",
              "      <td>-0.908725</td>\n",
              "      <td>-1.196269</td>\n",
              "      <td>-0.901821</td>\n",
              "      <td>-0.763270</td>\n",
              "      <td>-0.849910</td>\n",
              "      <td>-0.782608</td>\n",
              "      <td>-0.603699</td>\n",
              "      <td>-1.224490</td>\n",
              "      <td>-0.805580</td>\n",
              "    </tr>\n",
              "    <tr>\n",
              "      <th>50%</th>\n",
              "      <td>0.291541</td>\n",
              "      <td>-0.430623</td>\n",
              "      <td>-0.047480</td>\n",
              "      <td>0.076498</td>\n",
              "      <td>0.111922</td>\n",
              "      <td>-0.546646</td>\n",
              "      <td>-0.292399</td>\n",
              "      <td>-0.065174</td>\n",
              "      <td>0.061491</td>\n",
              "      <td>0.052579</td>\n",
              "      <td>0.015421</td>\n",
              "      <td>-0.057647</td>\n",
              "      <td>-0.233144</td>\n",
              "    </tr>\n",
              "    <tr>\n",
              "      <th>75%</th>\n",
              "      <td>0.805440</td>\n",
              "      <td>0.693399</td>\n",
              "      <td>0.478697</td>\n",
              "      <td>0.482371</td>\n",
              "      <td>0.877408</td>\n",
              "      <td>0.649157</td>\n",
              "      <td>0.841526</td>\n",
              "      <td>0.533193</td>\n",
              "      <td>0.497184</td>\n",
              "      <td>0.607502</td>\n",
              "      <td>0.569369</td>\n",
              "      <td>0.628098</td>\n",
              "      <td>0.533469</td>\n",
              "    </tr>\n",
              "    <tr>\n",
              "      <th>max</th>\n",
              "      <td>1.665922</td>\n",
              "      <td>1.708924</td>\n",
              "      <td>1.129731</td>\n",
              "      <td>1.921377</td>\n",
              "      <td>4.559029</td>\n",
              "      <td>2.531822</td>\n",
              "      <td>1.510892</td>\n",
              "      <td>1.969275</td>\n",
              "      <td>3.004647</td>\n",
              "      <td>2.554779</td>\n",
              "      <td>2.144322</td>\n",
              "      <td>1.952913</td>\n",
              "      <td>2.260096</td>\n",
              "    </tr>\n",
              "  </tbody>\n",
              "</table>\n",
              "</div>"
            ],
            "text/plain": [
              "         alcohol  malic_acid  ...  od280/od315_of_diluted_wines    proline\n",
              "count  36.000000   36.000000  ...                     36.000000  36.000000\n",
              "mean    0.145139   -0.020507  ...                     -0.202056  -0.086778\n",
              "std     0.828282    0.835072  ...                      1.080262   0.881699\n",
              "min    -1.584789   -1.216137  ...                     -1.881512  -1.235101\n",
              "25%    -0.452418   -0.610727  ...                     -1.224490  -0.805580\n",
              "50%     0.291541   -0.430623  ...                     -0.057647  -0.233144\n",
              "75%     0.805440    0.693399  ...                      0.628098   0.533469\n",
              "max     1.665922    1.708924  ...                      1.952913   2.260096\n",
              "\n",
              "[8 rows x 13 columns]"
            ]
          },
          "metadata": {
            "tags": []
          },
          "execution_count": 9
        }
      ]
    },
    {
      "cell_type": "markdown",
      "metadata": {
        "id": "OSfTsHxA4AL3"
      },
      "source": [
        "# 나이브 베이스 분류기(Naive Bayes Classification)"
      ]
    },
    {
      "cell_type": "markdown",
      "metadata": {
        "id": "HEiOQMw_4EV7"
      },
      "source": [
        "## 가우시안 나이브 베이즈"
      ]
    },
    {
      "cell_type": "code",
      "metadata": {
        "id": "IKqjoCbd5pfr",
        "colab": {
          "base_uri": "https://localhost:8080/",
          "height": 36
        },
        "outputId": "d3e4071d-1956-49de-8488-5d231aa271fe"
      },
      "source": [
        "model = GaussianNB()\n",
        "model.fit(X_train_scale, y_train)"
      ],
      "execution_count": null,
      "outputs": [
        {
          "output_type": "execute_result",
          "data": {
            "text/plain": [
              "GaussianNB(priors=None, var_smoothing=1e-09)"
            ]
          },
          "metadata": {
            "tags": []
          },
          "execution_count": 50
        }
      ]
    },
    {
      "cell_type": "code",
      "metadata": {
        "id": "OkZ_9Lbw4O3W",
        "colab": {
          "base_uri": "https://localhost:8080/",
          "height": 55
        },
        "outputId": "cecad1c3-2064-449b-8e8a-a40ffd033bb7"
      },
      "source": [
        "predict = model.predict(X_train_scale)\n",
        "acc = metrics.accuracy_score(y_train, predict)\n",
        "f1 = metrics.f1_score(y_train, predict, average=None)\n",
        "\n",
        "print('Train Accuracy: {}'.format(acc))\n",
        "print('Train F1 Score: {}'.format(f1))"
      ],
      "execution_count": null,
      "outputs": [
        {
          "output_type": "stream",
          "text": [
            "Train Accuracy: 0.9859154929577465\n",
            "Train F1 Score: [0.98901099 0.98181818 0.98795181]\n"
          ],
          "name": "stdout"
        }
      ]
    },
    {
      "cell_type": "code",
      "metadata": {
        "id": "DGP0R0s-5kgH",
        "colab": {
          "base_uri": "https://localhost:8080/",
          "height": 55
        },
        "outputId": "e32fc746-9537-4b86-eba6-937319fe73c4"
      },
      "source": [
        "predict = model.predict(X_test_scale)\n",
        "\n",
        "acc = metrics.accuracy_score(y_test, predict)\n",
        "f1 = metrics.f1_score(y_test, predict, average=None)\n",
        "\n",
        "print('Test Accuracy: {}'.format(acc))\n",
        "print('Test F1 Score: {}'.format(f1))"
      ],
      "execution_count": null,
      "outputs": [
        {
          "output_type": "stream",
          "text": [
            "Test Accuracy: 0.9722222222222222\n",
            "Test F1 Score: [0.96       0.96969697 1.        ]\n"
          ],
          "name": "stdout"
        }
      ]
    },
    {
      "cell_type": "markdown",
      "metadata": {
        "id": "u-oSXFoVU8dv"
      },
      "source": [
        "### `Cross_validate()`: 교차 검증"
      ]
    },
    {
      "cell_type": "code",
      "metadata": {
        "id": "r6tlq1cpU8dz",
        "colab": {
          "base_uri": "https://localhost:8080/",
          "height": 111
        },
        "outputId": "f37afacc-fdb7-4c21-a7be-ec73e4f7abde"
      },
      "source": [
        "from sklearn.model_selection import cross_validate\n",
        "from sklearn.pipeline import make_pipeline\n",
        "import multiprocessing\n",
        "\n",
        "estimator = make_pipeline(StandardScaler(), GaussianNB())\n",
        "\n",
        "cross_validate(\n",
        "    estimator=estimator,\n",
        "    X=X, y=y,\n",
        "    cv=5,\n",
        "    n_jobs=multiprocessing.cpu_count(),\n",
        "    verbose=True\n",
        ")"
      ],
      "execution_count": null,
      "outputs": [
        {
          "output_type": "stream",
          "text": [
            "[Parallel(n_jobs=2)]: Using backend LokyBackend with 2 concurrent workers.\n",
            "[Parallel(n_jobs=2)]: Done   5 out of   5 | elapsed:    0.0s finished\n"
          ],
          "name": "stderr"
        },
        {
          "output_type": "execute_result",
          "data": {
            "text/plain": [
              "{'fit_time': array([0.00254655, 0.00249124, 0.00229311, 0.00220704, 0.00187302]),\n",
              " 'score_time': array([0.00099492, 0.00083995, 0.00082517, 0.0008049 , 0.00051641]),\n",
              " 'test_score': array([0.94444444, 0.97222222, 0.97222222, 0.94285714, 1.        ])}"
            ]
          },
          "metadata": {
            "tags": []
          },
          "execution_count": 53
        }
      ]
    },
    {
      "cell_type": "markdown",
      "metadata": {
        "id": "k76wBztn4HgL"
      },
      "source": [
        "## 베르누이 나이브 베이즈"
      ]
    },
    {
      "cell_type": "code",
      "metadata": {
        "id": "I-G8eA7W4PkU",
        "colab": {
          "base_uri": "https://localhost:8080/",
          "height": 36
        },
        "outputId": "eeb7a9c6-e7cc-4326-8f50-7f46d0eac069"
      },
      "source": [
        "model = BernoulliNB()\n",
        "model.fit(X_train_scale, y_train)"
      ],
      "execution_count": null,
      "outputs": [
        {
          "output_type": "execute_result",
          "data": {
            "text/plain": [
              "BernoulliNB(alpha=1.0, binarize=0.0, class_prior=None, fit_prior=True)"
            ]
          },
          "metadata": {
            "tags": []
          },
          "execution_count": 35
        }
      ]
    },
    {
      "cell_type": "code",
      "metadata": {
        "id": "FP__KCAmPNyn",
        "colab": {
          "base_uri": "https://localhost:8080/",
          "height": 55
        },
        "outputId": "a6e6dfd1-1fbb-4752-9446-10edbf2d3b1b"
      },
      "source": [
        "predict = model.predict(X_train_scale)\n",
        "acc = metrics.accuracy_score(y_train, predict)\n",
        "f1 = metrics.f1_score(y_train, predict, average=None)\n",
        "\n",
        "print('Train Accuracy: {}'.format(acc))\n",
        "print('Train F1 Score: {}'.format(f1))"
      ],
      "execution_count": null,
      "outputs": [
        {
          "output_type": "stream",
          "text": [
            "Train Accuracy: 0.9436619718309859\n",
            "Train F1 Score: [0.96842105 0.92307692 0.94117647]\n"
          ],
          "name": "stdout"
        }
      ]
    },
    {
      "cell_type": "code",
      "metadata": {
        "id": "5sKzzubIPOXK",
        "colab": {
          "base_uri": "https://localhost:8080/",
          "height": 55
        },
        "outputId": "8e837d5a-4546-4a41-b81a-8df529d403c0"
      },
      "source": [
        "predict = model.predict(X_test_scale)\n",
        "\n",
        "acc = metrics.accuracy_score(y_test, predict)\n",
        "f1 = metrics.f1_score(y_test, predict, average=None)\n",
        "\n",
        "print('Test Accuracy: {}'.format(acc))\n",
        "print('Test F1 Score: {}'.format(f1))"
      ],
      "execution_count": null,
      "outputs": [
        {
          "output_type": "stream",
          "text": [
            "Test Accuracy: 0.9444444444444444\n",
            "Test F1 Score: [0.92307692 0.9375     1.        ]\n"
          ],
          "name": "stdout"
        }
      ]
    },
    {
      "cell_type": "markdown",
      "metadata": {
        "id": "wp735iSlS7la"
      },
      "source": [
        "### `Cross_validate()`: 교차 검증"
      ]
    },
    {
      "cell_type": "code",
      "metadata": {
        "id": "XryC8ka6TDZE",
        "colab": {
          "base_uri": "https://localhost:8080/",
          "height": 111
        },
        "outputId": "98a74da6-a2ab-40fb-f4a1-01e5049c19ac"
      },
      "source": [
        "estimator = make_pipeline(StandardScaler(), BernoulliNB())\n",
        "\n",
        "cross_validate(\n",
        "    estimator=estimator,\n",
        "    X=X, y=y,\n",
        "    cv=5,\n",
        "    n_jobs=multiprocessing.cpu_count(),\n",
        "    verbose=True\n",
        ")"
      ],
      "execution_count": null,
      "outputs": [
        {
          "output_type": "stream",
          "text": [
            "[Parallel(n_jobs=2)]: Using backend LokyBackend with 2 concurrent workers.\n",
            "[Parallel(n_jobs=2)]: Done   5 out of   5 | elapsed:    0.0s finished\n"
          ],
          "name": "stderr"
        },
        {
          "output_type": "execute_result",
          "data": {
            "text/plain": [
              "{'fit_time': array([0.01035213, 0.00310516, 0.00413418, 0.00218463, 0.00258732]),\n",
              " 'score_time': array([0.00085449, 0.00087261, 0.00075054, 0.00074768, 0.00066853]),\n",
              " 'test_score': array([0.86111111, 0.91666667, 0.97222222, 0.94285714, 0.94285714])}"
            ]
          },
          "metadata": {
            "tags": []
          },
          "execution_count": 49
        }
      ]
    },
    {
      "cell_type": "markdown",
      "metadata": {
        "id": "8r5BJlf4Qc4e"
      },
      "source": [
        "### `GridSearchCV()`: 최적의 하이퍼 파라미터 찾기"
      ]
    },
    {
      "cell_type": "code",
      "metadata": {
        "id": "GcJdhPJdQliP",
        "colab": {
          "base_uri": "https://localhost:8080/",
          "height": 148
        },
        "outputId": "8176eae9-7ef5-4430-adbd-415d978e2c14"
      },
      "source": [
        "from sklearn.model_selection import GridSearchCV\n",
        "import multiprocessing\n",
        "\n",
        "param_grid = [{'alpha': [0.001, 0.01, 0.05, 0.1, 0.2, 1.0, 10.0]}]\n",
        "\n",
        "gs = GridSearchCV(estimator=BernoulliNB(), param_grid=param_grid, n_jobs=multiprocessing.cpu_count())\n",
        "gs.fit(X_train_scale, y_train)"
      ],
      "execution_count": null,
      "outputs": [
        {
          "output_type": "execute_result",
          "data": {
            "text/plain": [
              "GridSearchCV(cv=None, error_score=nan,\n",
              "             estimator=BernoulliNB(alpha=1.0, binarize=0.0, class_prior=None,\n",
              "                                   fit_prior=True),\n",
              "             iid='deprecated', n_jobs=2,\n",
              "             param_grid=[{'alpha': [0.001, 0.01, 0.05, 0.1, 0.2, 1.0, 10.0]}],\n",
              "             pre_dispatch='2*n_jobs', refit=True, return_train_score=False,\n",
              "             scoring=None, verbose=0)"
            ]
          },
          "metadata": {
            "tags": []
          },
          "execution_count": 45
        }
      ]
    },
    {
      "cell_type": "code",
      "metadata": {
        "id": "auPEg_y0R1Oy",
        "colab": {
          "base_uri": "https://localhost:8080/",
          "height": 36
        },
        "outputId": "e7c68a51-6f0b-4e90-ed01-a00f3906d981"
      },
      "source": [
        "gs.best_estimator_"
      ],
      "execution_count": null,
      "outputs": [
        {
          "output_type": "execute_result",
          "data": {
            "text/plain": [
              "BernoulliNB(alpha=1.0, binarize=0.0, class_prior=None, fit_prior=True)"
            ]
          },
          "metadata": {
            "tags": []
          },
          "execution_count": 46
        }
      ]
    },
    {
      "cell_type": "code",
      "metadata": {
        "id": "V3GJsSN5SWW1",
        "colab": {
          "base_uri": "https://localhost:8080/",
          "height": 36
        },
        "outputId": "77c7b001-9ebb-4eb1-ba00-17425cb9fca2"
      },
      "source": [
        "print(\"GridSearchCV Score: {}\".format(gs.best_score_))"
      ],
      "execution_count": null,
      "outputs": [
        {
          "output_type": "stream",
          "text": [
            "GridSearchCV Score: 0.9298029556650247\n"
          ],
          "name": "stdout"
        }
      ]
    },
    {
      "cell_type": "markdown",
      "metadata": {
        "id": "cnZt3qLD4H3T"
      },
      "source": [
        "## 다항 나이브 베이즈"
      ]
    },
    {
      "cell_type": "code",
      "metadata": {
        "id": "dZtKdyvQPgmh"
      },
      "source": [
        "from sklearn.preprocessing import MinMaxScaler\n",
        "\n",
        "scaler = MinMaxScaler()\n",
        "X_train_scale = scaler.fit_transform(X_train)\n",
        "X_test_scale = scaler.transform(X_test)"
      ],
      "execution_count": null,
      "outputs": []
    },
    {
      "cell_type": "code",
      "metadata": {
        "id": "o1VnngVu4QAi",
        "colab": {
          "base_uri": "https://localhost:8080/",
          "height": 36
        },
        "outputId": "f93bf4e7-d7de-43e4-c993-03702f19e5f9"
      },
      "source": [
        "model = MultinomialNB()\n",
        "model.fit(X_train_scale, y_train)"
      ],
      "execution_count": null,
      "outputs": [
        {
          "output_type": "execute_result",
          "data": {
            "text/plain": [
              "MultinomialNB(alpha=1.0, class_prior=None, fit_prior=True)"
            ]
          },
          "metadata": {
            "tags": []
          },
          "execution_count": 55
        }
      ]
    },
    {
      "cell_type": "code",
      "metadata": {
        "id": "JBsz-pHeP8CK",
        "colab": {
          "base_uri": "https://localhost:8080/",
          "height": 55
        },
        "outputId": "84098981-39c3-40a3-acbc-7ff4342bf13a"
      },
      "source": [
        "predict = model.predict(X_train_scale)\n",
        "acc = metrics.accuracy_score(y_train, predict)\n",
        "f1 = metrics.f1_score(y_train, predict, average=None)\n",
        "\n",
        "print('Train Accuracy: {}'.format(acc))\n",
        "print('Train F1 Score: {}'.format(f1))"
      ],
      "execution_count": null,
      "outputs": [
        {
          "output_type": "stream",
          "text": [
            "Train Accuracy: 0.9647887323943662\n",
            "Train F1 Score: [0.94382022 0.95575221 1.        ]\n"
          ],
          "name": "stdout"
        }
      ]
    },
    {
      "cell_type": "code",
      "metadata": {
        "id": "90u-n0EEP_2J",
        "colab": {
          "base_uri": "https://localhost:8080/",
          "height": 55
        },
        "outputId": "63ad25de-8104-47ad-ef58-a1f623204d6e"
      },
      "source": [
        "predict = model.predict(X_test_scale)\n",
        "\n",
        "acc = metrics.accuracy_score(y_test, predict)\n",
        "f1 = metrics.f1_score(y_test, predict, average=None)\n",
        "\n",
        "print('Test Accuracy: {}'.format(acc))\n",
        "print('Test F1 Score: {}'.format(f1))"
      ],
      "execution_count": null,
      "outputs": [
        {
          "output_type": "stream",
          "text": [
            "Test Accuracy: 0.9166666666666666\n",
            "Test F1 Score: [0.86956522 0.91428571 1.        ]\n"
          ],
          "name": "stdout"
        }
      ]
    },
    {
      "cell_type": "markdown",
      "metadata": {
        "id": "xe23HxHrWzuY"
      },
      "source": [
        "### `Cross_validate()`: 교차 검증"
      ]
    },
    {
      "cell_type": "code",
      "metadata": {
        "id": "y7vZ6gGSWzuc",
        "colab": {
          "base_uri": "https://localhost:8080/",
          "height": 111
        },
        "outputId": "c1d107f7-83aa-4bbb-955e-e7cae991fad7"
      },
      "source": [
        "estimator = make_pipeline(MinMaxScaler(), MultinomialNB())\n",
        "\n",
        "cross_validate(\n",
        "    estimator=estimator,\n",
        "    X=X, y=y,\n",
        "    cv=5,\n",
        "    n_jobs=multiprocessing.cpu_count(),\n",
        "    verbose=True\n",
        ")"
      ],
      "execution_count": null,
      "outputs": [
        {
          "output_type": "stream",
          "text": [
            "[Parallel(n_jobs=2)]: Using backend LokyBackend with 2 concurrent workers.\n",
            "[Parallel(n_jobs=2)]: Done   5 out of   5 | elapsed:    0.8s finished\n"
          ],
          "name": "stderr"
        },
        {
          "output_type": "execute_result",
          "data": {
            "text/plain": [
              "{'fit_time': array([0.00309801, 0.0026319 , 0.00179219, 0.0032115 , 0.00175691]),\n",
              " 'score_time': array([0.00073791, 0.00065994, 0.00059366, 0.00059438, 0.0006361 ]),\n",
              " 'test_score': array([0.91666667, 0.94444444, 0.88888889, 0.97142857, 1.        ])}"
            ]
          },
          "metadata": {
            "tags": []
          },
          "execution_count": 95
        }
      ]
    },
    {
      "cell_type": "markdown",
      "metadata": {
        "id": "4MfxpfswSooG"
      },
      "source": [
        "### `GridSearchCV()`: 최적의 하이퍼 파라미터 찾기"
      ]
    },
    {
      "cell_type": "code",
      "metadata": {
        "id": "aWtA_RvYSooI",
        "colab": {
          "base_uri": "https://localhost:8080/",
          "height": 148
        },
        "outputId": "0354d06d-402d-4534-a988-1cd6dd264a63"
      },
      "source": [
        "from sklearn.model_selection import GridSearchCV\n",
        "\n",
        "param_grid = [{'alpha': [1.0, 1.2, 1.4, 1.6, 1.8, 2.0]}]\n",
        "\n",
        "gs = GridSearchCV(estimator=MultinomialNB(), param_grid=param_grid)\n",
        "gs.fit(X_train_scale, y_train)"
      ],
      "execution_count": null,
      "outputs": [
        {
          "output_type": "execute_result",
          "data": {
            "text/plain": [
              "GridSearchCV(cv=None, error_score=nan,\n",
              "             estimator=MultinomialNB(alpha=1.0, class_prior=None,\n",
              "                                     fit_prior=True),\n",
              "             iid='deprecated', n_jobs=None,\n",
              "             param_grid=[{'alpha': [1.0, 1.2, 1.4, 1.6, 1.8, 2.0]}],\n",
              "             pre_dispatch='2*n_jobs', refit=True, return_train_score=False,\n",
              "             scoring=None, verbose=0)"
            ]
          },
          "metadata": {
            "tags": []
          },
          "execution_count": 99
        }
      ]
    },
    {
      "cell_type": "code",
      "metadata": {
        "id": "f1wMWAraSooN",
        "colab": {
          "base_uri": "https://localhost:8080/",
          "height": 36
        },
        "outputId": "af3fb6c5-f8d3-4223-d853-1157b7b43cc8"
      },
      "source": [
        "gs.best_estimator_"
      ],
      "execution_count": null,
      "outputs": [
        {
          "output_type": "execute_result",
          "data": {
            "text/plain": [
              "MultinomialNB(alpha=1.6, class_prior=None, fit_prior=True)"
            ]
          },
          "metadata": {
            "tags": []
          },
          "execution_count": 100
        }
      ]
    },
    {
      "cell_type": "code",
      "metadata": {
        "id": "E0jAKsteSooQ",
        "colab": {
          "base_uri": "https://localhost:8080/",
          "height": 36
        },
        "outputId": "78a91f3f-0b8e-4552-db0e-bcbd13d67695"
      },
      "source": [
        "print(\"GridSearchCV Score: {}\".format(gs.best_score_))"
      ],
      "execution_count": null,
      "outputs": [
        {
          "output_type": "stream",
          "text": [
            "GridSearchCV Score: 0.9650246305418719\n"
          ],
          "name": "stdout"
        }
      ]
    }
  ]
}