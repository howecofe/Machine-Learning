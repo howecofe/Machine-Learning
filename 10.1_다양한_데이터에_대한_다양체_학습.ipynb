{
  "nbformat": 4,
  "nbformat_minor": 0,
  "metadata": {
    "colab": {
      "name": "[과제] 다양한 데이터에 대한 다양체 학습.ipynb",
      "provenance": [],
      "collapsed_sections": []
    },
    "kernelspec": {
      "name": "python3",
      "display_name": "Python 3"
    }
  },
  "cells": [
    {
      "cell_type": "markdown",
      "metadata": {
        "id": "_OLt-dnhOnNy"
      },
      "source": [
        "# 다양체 학습"
      ]
    },
    {
      "cell_type": "code",
      "metadata": {
        "id": "eJTzMIUeNBm0"
      },
      "source": [
        "from sklearn import datasets\n",
        "from sklearn import manifold\n",
        "from sklearn.neighbors import KNeighborsClassifier, KNeighborsRegressor\n",
        "from sklearn.svm import SVC, SVR\n",
        "from sklearn.tree import DecisionTreeClassifier, DecisionTreeRegressor\n",
        "from sklearn.ensemble import RandomForestClassifier, RandomForestRegressor\n",
        "from sklearn.model_selection import cross_val_score"
      ],
      "execution_count": null,
      "outputs": []
    },
    {
      "cell_type": "code",
      "metadata": {
        "id": "DHFApbr7RtWZ"
      },
      "source": [
        "knn_clf = KNeighborsClassifier()\n",
        "svc = SVC()\n",
        "decision_tree_clf = DecisionTreeClassifier()\n",
        "random_forest_clf = RandomForestClassifier()\n",
        "\n",
        "knn_reg = KNeighborsRegressor()\n",
        "svr = SVR()\n",
        "decision_tree_reg = DecisionTreeRegressor()\n",
        "random_forest_reg = RandomForestRegressor()"
      ],
      "execution_count": null,
      "outputs": []
    },
    {
      "cell_type": "code",
      "metadata": {
        "id": "Z7p0wHuwSb77"
      },
      "source": [
        "clf = [knn_clf, svc, decision_tree_clf, random_forest_clf]\n",
        "reg = [knn_reg, svr, decision_tree_reg, random_forest_reg]\n",
        "model_name = ['KNN', 'SVM', 'Deicision Tree', 'Random Forest']\n",
        "manifold_name = ['LLE', 'LTSA', 'HLLE', 'MLLE', 'ISOMAP', 'MDS', 'SE', 'TSNE']"
      ],
      "execution_count": null,
      "outputs": []
    },
    {
      "cell_type": "markdown",
      "metadata": {
        "id": "LAac8EzlNS94"
      },
      "source": [
        "## 와인 데이터"
      ]
    },
    {
      "cell_type": "code",
      "metadata": {
        "id": "Wzo0B2lcaR42"
      },
      "source": [
        "raw_wine, target = datasets.load_wine(return_X_y=True)"
      ],
      "execution_count": null,
      "outputs": []
    },
    {
      "cell_type": "code",
      "metadata": {
        "id": "TtkbRy1YaR47"
      },
      "source": [
        "wine_lle = manifold.LocallyLinearEmbedding(n_neighbors=30, n_components=2,\n",
        "                                             method='standard', random_state=0).fit_transform(raw_wine)\n",
        "wine_ltsa = manifold.LocallyLinearEmbedding(n_neighbors=30, n_components=2,\n",
        "                                              method='ltsa', random_state=0).fit_transform(raw_wine)\n",
        "wine_hlle = manifold.LocallyLinearEmbedding(n_neighbors=30, n_components=3,\n",
        "                                             method='hessian', random_state=0).fit_transform(raw_wine)\n",
        "wine_mlle = manifold.LocallyLinearEmbedding(n_neighbors=30, n_components=2,\n",
        "                                              method='modified', random_state=0).fit_transform(raw_wine)\n",
        "wine_isomap = manifold.Isomap(n_neighbors=30, n_components=2).fit_transform(raw_wine)\n",
        "wine_mds = manifold.MDS(n_components=2, random_state=0).fit_transform(raw_wine)\n",
        "wine_se = manifold.SpectralEmbedding(n_components=2, random_state=0).fit_transform(raw_wine)\n",
        "wine_tsne = manifold.TSNE(n_components=2, random_state=0).fit_transform(raw_wine)"
      ],
      "execution_count": null,
      "outputs": []
    },
    {
      "cell_type": "code",
      "metadata": {
        "id": "NQBG0mYiaR4_"
      },
      "source": [
        "wine_manifold = [wine_lle, wine_ltsa, wine_hlle, wine_mlle, wine_isomap, wine_mds, wine_se, wine_tsne]"
      ],
      "execution_count": null,
      "outputs": []
    },
    {
      "cell_type": "markdown",
      "metadata": {
        "id": "zun2ixxBOVmy"
      },
      "source": [
        "### 원본 데이터를 사용할 때"
      ]
    },
    {
      "cell_type": "code",
      "metadata": {
        "id": "pdBlGsoSa5B9",
        "colab": {
          "base_uri": "https://localhost:8080/",
          "height": 316
        },
        "outputId": "7e9db478-765f-4183-8640-c253e8f5cec2"
      },
      "source": [
        "i = 0\n",
        "\n",
        "for estimator in clf:\n",
        "  score = cross_val_score(\n",
        "      estimator=estimator,\n",
        "      X=raw_wine, y=target,\n",
        "      cv=5\n",
        "  )\n",
        "  print('Model: <{}>'.format(model_name[i]))\n",
        "  print('\\tcross validation score: {}'.format(score))\n",
        "  print('\\tmean cross validation score: {} (+/- {})\\n'.format(score.mean(), score.std()))\n",
        "  i += 1"
      ],
      "execution_count": null,
      "outputs": [
        {
          "output_type": "stream",
          "text": [
            "Model: <KNN>\n",
            "\tcross validation score: [0.72222222 0.66666667 0.63888889 0.65714286 0.77142857]\n",
            "\tmean cross validation score: 0.6912698412698413 (+/- 0.04877951071049148)\n",
            "\n",
            "Model: <SVM>\n",
            "\tcross validation score: [0.63888889 0.61111111 0.63888889 0.68571429 0.74285714]\n",
            "\tmean cross validation score: 0.6634920634920635 (+/- 0.04636170738133653)\n",
            "\n",
            "Model: <Deicision Tree>\n",
            "\tcross validation score: [0.94444444 0.77777778 0.86111111 0.91428571 0.85714286]\n",
            "\tmean cross validation score: 0.8709523809523809 (+/- 0.05700512501657816)\n",
            "\n",
            "Model: <Random Forest>\n",
            "\tcross validation score: [0.97222222 0.94444444 1.         0.97142857 0.97142857]\n",
            "\tmean cross validation score: 0.9719047619047618 (+/- 0.017572511115045146)\n",
            "\n"
          ],
          "name": "stdout"
        }
      ]
    },
    {
      "cell_type": "markdown",
      "metadata": {
        "id": "2iuZYDA3OVns"
      },
      "source": [
        "### 정제된 데이터를 사용할 때"
      ]
    },
    {
      "cell_type": "code",
      "metadata": {
        "id": "-pSqJoMNa_ap",
        "colab": {
          "base_uri": "https://localhost:8080/",
          "height": 1000
        },
        "outputId": "1f6f6cbc-31d6-4fd1-808a-257cde417900"
      },
      "source": [
        "i = 0\n",
        "\n",
        "for estimator in clf:\n",
        "  j = 0\n",
        "  print('Model: <{}>'.format(model_name[i]))\n",
        "  for X in wine_manifold:\n",
        "    score = cross_val_score(\n",
        "        estimator=estimator,\n",
        "        X=X, y=target,\n",
        "        cv=5\n",
        "    )\n",
        "    print('\\t\"{}\" cross validation score: {}'.format(manifold_name[j], score))\n",
        "    print('\\t\"{}\" mean cross validation score: {} (+/- {})\\n'.format(manifold_name[j], score.mean(), score.std()))\n",
        "    j += 1\n",
        "  i += 1"
      ],
      "execution_count": null,
      "outputs": [
        {
          "output_type": "stream",
          "text": [
            "Model: <KNN>\n",
            "\t\"LLE\" cross validation score: [0.75       0.69444444 0.72222222 0.85714286 0.82857143]\n",
            "\t\"LLE\" mean cross validation score: 0.7704761904761905 (+/- 0.06231326348982479)\n",
            "\n",
            "\t\"LTSA\" cross validation score: [0.72222222 0.63888889 0.66666667 0.8        0.77142857]\n",
            "\t\"LTSA\" mean cross validation score: 0.7198412698412697 (+/- 0.06078349618867878)\n",
            "\n",
            "\t\"HLLE\" cross validation score: [0.72222222 0.63888889 0.63888889 0.77142857 0.8       ]\n",
            "\t\"HLLE\" mean cross validation score: 0.7142857142857142 (+/- 0.0663996921920941)\n",
            "\n",
            "\t\"MLLE\" cross validation score: [0.75       0.63888889 0.61111111 0.57142857 0.74285714]\n",
            "\t\"MLLE\" mean cross validation score: 0.6628571428571428 (+/- 0.07156142847126215)\n",
            "\n",
            "\t\"ISOMAP\" cross validation score: [0.69444444 0.63888889 0.66666667 0.6        0.8       ]\n",
            "\t\"ISOMAP\" mean cross validation score: 0.68 (+/- 0.06764102780099747)\n",
            "\n",
            "\t\"MDS\" cross validation score: [0.72222222 0.69444444 0.63888889 0.68571429 0.74285714]\n",
            "\t\"MDS\" mean cross validation score: 0.6968253968253968 (+/- 0.03535444826102899)\n",
            "\n",
            "\t\"SE\" cross validation score: [0.66666667 0.66666667 0.61111111 0.57142857 0.71428571]\n",
            "\t\"SE\" mean cross validation score: 0.6460317460317461 (+/- 0.04958888683115336)\n",
            "\n",
            "\t\"TSNE\" cross validation score: [0.69444444 0.69444444 0.63888889 0.62857143 0.77142857]\n",
            "\t\"TSNE\" mean cross validation score: 0.6855555555555555 (+/- 0.050906125471118224)\n",
            "\n",
            "Model: <SVM>\n",
            "\t\"LLE\" cross validation score: [0.66666667 0.75       0.77777778 0.8        0.85714286]\n",
            "\t\"LLE\" mean cross validation score: 0.7703174603174603 (+/- 0.06266042650779338)\n",
            "\n",
            "\t\"LTSA\" cross validation score: [0.77777778 0.77777778 0.77777778 0.77142857 0.82857143]\n",
            "\t\"LTSA\" mean cross validation score: 0.7866666666666667 (+/- 0.021096187588363378)\n",
            "\n",
            "\t\"HLLE\" cross validation score: [0.77777778 0.72222222 0.75       0.71428571 0.8       ]\n",
            "\t\"HLLE\" mean cross validation score: 0.7528571428571429 (+/- 0.032489702227303456)\n",
            "\n",
            "\t\"MLLE\" cross validation score: [0.75       0.69444444 0.61111111 0.71428571 0.8       ]\n",
            "\t\"MLLE\" mean cross validation score: 0.7139682539682539 (+/- 0.06270665005161245)\n",
            "\n",
            "\t\"ISOMAP\" cross validation score: [0.69444444 0.63888889 0.63888889 0.71428571 0.8       ]\n",
            "\t\"ISOMAP\" mean cross validation score: 0.6973015873015873 (+/- 0.05944354376582592)\n",
            "\n",
            "\t\"MDS\" cross validation score: [0.69444444 0.63888889 0.63888889 0.71428571 0.8       ]\n",
            "\t\"MDS\" mean cross validation score: 0.6973015873015873 (+/- 0.05944354376582592)\n",
            "\n",
            "\t\"SE\" cross validation score: [0.72222222 0.69444444 0.63888889 0.68571429 0.8       ]\n",
            "\t\"SE\" mean cross validation score: 0.7082539682539682 (+/- 0.05314640332557746)\n",
            "\n",
            "\t\"TSNE\" cross validation score: [0.69444444 0.63888889 0.66666667 0.71428571 0.8       ]\n",
            "\t\"TSNE\" mean cross validation score: 0.7028571428571428 (+/- 0.054844887666944876)\n",
            "\n",
            "Model: <Deicision Tree>\n",
            "\t\"LLE\" cross validation score: [0.69444444 0.61111111 0.69444444 0.65714286 0.68571429]\n",
            "\t\"LLE\" mean cross validation score: 0.6685714285714285 (+/- 0.03182767279990633)\n",
            "\n",
            "\t\"LTSA\" cross validation score: [0.69444444 0.66666667 0.63888889 0.62857143 0.8       ]\n",
            "\t\"LTSA\" mean cross validation score: 0.6857142857142857 (+/- 0.061576254941231666)\n",
            "\n",
            "\t\"HLLE\" cross validation score: [0.63888889 0.66666667 0.63888889 0.68571429 0.8       ]\n",
            "\t\"HLLE\" mean cross validation score: 0.6860317460317459 (+/- 0.0596804288718255)\n",
            "\n",
            "\t\"MLLE\" cross validation score: [0.75       0.72222222 0.61111111 0.71428571 0.65714286]\n",
            "\t\"MLLE\" mean cross validation score: 0.690952380952381 (+/- 0.050053133773564004)\n",
            "\n",
            "\t\"ISOMAP\" cross validation score: [0.75       0.66666667 0.58333333 0.6        0.82857143]\n",
            "\t\"ISOMAP\" mean cross validation score: 0.6857142857142857 (+/- 0.09244720255784367)\n",
            "\n",
            "\t\"MDS\" cross validation score: [0.69444444 0.61111111 0.66666667 0.68571429 0.77142857]\n",
            "\t\"MDS\" mean cross validation score: 0.685873015873016 (+/- 0.05167489510952585)\n",
            "\n",
            "\t\"SE\" cross validation score: [0.61111111 0.69444444 0.61111111 0.57142857 0.8       ]\n",
            "\t\"SE\" mean cross validation score: 0.6576190476190475 (+/- 0.0817107336335301)\n",
            "\n",
            "\t\"TSNE\" cross validation score: [0.66666667 0.63888889 0.66666667 0.65714286 0.62857143]\n",
            "\t\"TSNE\" mean cross validation score: 0.6515873015873015 (+/- 0.015340265940761355)\n",
            "\n",
            "Model: <Random Forest>\n",
            "\t\"LLE\" cross validation score: [0.77777778 0.69444444 0.69444444 0.71428571 0.85714286]\n",
            "\t\"LLE\" mean cross validation score: 0.7476190476190477 (+/- 0.06272352320152137)\n",
            "\n",
            "\t\"LTSA\" cross validation score: [0.77777778 0.63888889 0.72222222 0.68571429 0.88571429]\n",
            "\t\"LTSA\" mean cross validation score: 0.742063492063492 (+/- 0.08499996294813414)\n",
            "\n",
            "\t\"HLLE\" cross validation score: [0.66666667 0.69444444 0.69444444 0.71428571 0.82857143]\n",
            "\t\"HLLE\" mean cross validation score: 0.7196825396825397 (+/- 0.05651640742642818)\n",
            "\n",
            "\t\"MLLE\" cross validation score: [0.75       0.66666667 0.63888889 0.6        0.65714286]\n",
            "\t\"MLLE\" mean cross validation score: 0.6625396825396825 (+/- 0.04932755170304808)\n",
            "\n",
            "\t\"ISOMAP\" cross validation score: [0.80555556 0.61111111 0.63888889 0.65714286 0.8       ]\n",
            "\t\"ISOMAP\" mean cross validation score: 0.7025396825396826 (+/- 0.0831652121197842)\n",
            "\n",
            "\t\"MDS\" cross validation score: [0.72222222 0.69444444 0.66666667 0.77142857 0.77142857]\n",
            "\t\"MDS\" mean cross validation score: 0.7252380952380951 (+/- 0.04160547282642765)\n",
            "\n",
            "\t\"SE\" cross validation score: [0.63888889 0.69444444 0.55555556 0.57142857 0.77142857]\n",
            "\t\"SE\" mean cross validation score: 0.6463492063492063 (+/- 0.07983764073925773)\n",
            "\n",
            "\t\"TSNE\" cross validation score: [0.69444444 0.69444444 0.66666667 0.62857143 0.71428571]\n",
            "\t\"TSNE\" mean cross validation score: 0.6796825396825397 (+/- 0.029715201451090852)\n",
            "\n"
          ],
          "name": "stdout"
        }
      ]
    },
    {
      "cell_type": "markdown",
      "metadata": {
        "id": "99bFNT-INzwQ"
      },
      "source": [
        "## 붓꽃 데이터"
      ]
    },
    {
      "cell_type": "code",
      "metadata": {
        "id": "hOg4O_mTbPyM"
      },
      "source": [
        "raw_iris, target = datasets.load_iris(return_X_y=True)"
      ],
      "execution_count": null,
      "outputs": []
    },
    {
      "cell_type": "code",
      "metadata": {
        "id": "jlYAUWEtbPyQ",
        "colab": {
          "base_uri": "https://localhost:8080/",
          "height": 75
        },
        "outputId": "4ce53815-c408-48a3-9c04-957f69f1d783"
      },
      "source": [
        "iris_lle = manifold.LocallyLinearEmbedding(n_neighbors=30, n_components=2,\n",
        "                                             method='standard', random_state=0).fit_transform(raw_iris)\n",
        "iris_ltsa = manifold.LocallyLinearEmbedding(n_neighbors=30, n_components=2,\n",
        "                                              method='ltsa', random_state=0).fit_transform(raw_iris)\n",
        "iris_hlle = manifold.LocallyLinearEmbedding(n_neighbors=30, n_components=3,\n",
        "                                             method='hessian', random_state=0).fit_transform(raw_iris)\n",
        "iris_mlle = manifold.LocallyLinearEmbedding(n_neighbors=30, n_components=2,\n",
        "                                              method='modified', random_state=0).fit_transform(raw_iris)\n",
        "iris_isomap = manifold.Isomap(n_neighbors=30, n_components=2).fit_transform(raw_iris)\n",
        "iris_mds = manifold.MDS(n_components=2, random_state=0).fit_transform(raw_iris)\n",
        "iris_se = manifold.SpectralEmbedding(n_components=2, random_state=0).fit_transform(raw_iris)\n",
        "iris_tsne = manifold.TSNE(n_components=2, random_state=0).fit_transform(raw_iris)"
      ],
      "execution_count": null,
      "outputs": [
        {
          "output_type": "stream",
          "text": [
            "/usr/local/lib/python3.6/dist-packages/sklearn/manifold/_spectral_embedding.py:236: UserWarning: Graph is not fully connected, spectral embedding may not work as expected.\n",
            "  warnings.warn(\"Graph is not fully connected, spectral embedding\"\n"
          ],
          "name": "stderr"
        }
      ]
    },
    {
      "cell_type": "code",
      "metadata": {
        "id": "DzP3xKW8bPyS"
      },
      "source": [
        "iris_manifold = [iris_lle, iris_ltsa, iris_hlle, iris_mlle, iris_isomap, iris_mds, iris_se, iris_tsne]\n",
        "manifold_name = ['LLE', 'LTSA', 'HLLE', 'MLLE', 'ISOMAP', 'MDS', 'SE', 'TSNE']"
      ],
      "execution_count": null,
      "outputs": []
    },
    {
      "cell_type": "markdown",
      "metadata": {
        "id": "MqnM2mJPOWjL"
      },
      "source": [
        "### 원본 데이터를 사용할 때"
      ]
    },
    {
      "cell_type": "code",
      "metadata": {
        "id": "6ukPRGPub5Fx",
        "colab": {
          "base_uri": "https://localhost:8080/",
          "height": 316
        },
        "outputId": "4724b699-3391-4cfb-a043-7f9349124fa3"
      },
      "source": [
        "i = 0\n",
        "\n",
        "for estimator in clf:\n",
        "  score = cross_val_score(\n",
        "      estimator=estimator,\n",
        "      X=raw_iris, y=target,\n",
        "      cv=5\n",
        "  )\n",
        "  print('Model: <{}>'.format(model_name[i]))\n",
        "  print('\\tcross validation score: {}'.format(score))\n",
        "  print('\\tmean cross validation score: {} (+/- {})\\n'.format(score.mean(), score.std()))\n",
        "  i += 1"
      ],
      "execution_count": null,
      "outputs": [
        {
          "output_type": "stream",
          "text": [
            "Model: <KNN>\n",
            "\tcross validation score: [0.96666667 1.         0.93333333 0.96666667 1.        ]\n",
            "\tmean cross validation score: 0.9733333333333334 (+/- 0.02494438257849294)\n",
            "\n",
            "Model: <SVM>\n",
            "\tcross validation score: [0.96666667 0.96666667 0.96666667 0.93333333 1.        ]\n",
            "\tmean cross validation score: 0.9666666666666666 (+/- 0.02108185106778919)\n",
            "\n",
            "Model: <Deicision Tree>\n",
            "\tcross validation score: [0.96666667 0.96666667 0.9        1.         1.        ]\n",
            "\tmean cross validation score: 0.9666666666666668 (+/- 0.036514837167011066)\n",
            "\n",
            "Model: <Random Forest>\n",
            "\tcross validation score: [0.96666667 0.96666667 0.93333333 0.96666667 1.        ]\n",
            "\tmean cross validation score: 0.9666666666666668 (+/- 0.02108185106778919)\n",
            "\n"
          ],
          "name": "stdout"
        }
      ]
    },
    {
      "cell_type": "markdown",
      "metadata": {
        "id": "57t5RNlJOWkJ"
      },
      "source": [
        "### 정제된 데이터를 사용할 때"
      ]
    },
    {
      "cell_type": "code",
      "metadata": {
        "id": "08teqFJpb_lR",
        "colab": {
          "base_uri": "https://localhost:8080/",
          "height": 1000
        },
        "outputId": "e9814fe8-ea3d-443e-ccfb-79406cff56d0"
      },
      "source": [
        "i = 0\n",
        "\n",
        "for estimator in clf:\n",
        "  j = 0\n",
        "  print('Model: <{}>'.format(model_name[i]))\n",
        "  for X in iris_manifold:\n",
        "    score = cross_val_score(\n",
        "        estimator=estimator,\n",
        "        X=X, y=target,\n",
        "        cv=5\n",
        "    )\n",
        "    print('\\t\"{}\" cross validation score: {}'.format(manifold_name[j], score))\n",
        "    print('\\t\"{}\" mean cross validation score: {} (+/- {})\\n'.format(manifold_name[j], score.mean(), score.std()))\n",
        "    j += 1\n",
        "  i += 1"
      ],
      "execution_count": null,
      "outputs": [
        {
          "output_type": "stream",
          "text": [
            "Model: <KNN>\n",
            "\t\"LLE\" cross validation score: [0.96666667 1.         0.9        0.96666667 1.        ]\n",
            "\t\"LLE\" mean cross validation score: 0.9666666666666668 (+/- 0.036514837167011066)\n",
            "\n",
            "\t\"LTSA\" cross validation score: [0.86666667 0.9        0.86666667 0.86666667 0.96666667]\n",
            "\t\"LTSA\" mean cross validation score: 0.8933333333333333 (+/- 0.038873012632301994)\n",
            "\n",
            "\t\"HLLE\" cross validation score: [0.73333333 0.9        0.86666667 0.9        0.96666667]\n",
            "\t\"HLLE\" mean cross validation score: 0.8733333333333333 (+/- 0.07717224601860152)\n",
            "\n",
            "\t\"MLLE\" cross validation score: [0.83333333 0.9        0.86666667 0.86666667 0.96666667]\n",
            "\t\"MLLE\" mean cross validation score: 0.8866666666666667 (+/- 0.04521553322083511)\n",
            "\n",
            "\t\"ISOMAP\" cross validation score: [0.93333333 1.         0.93333333 0.96666667 0.96666667]\n",
            "\t\"ISOMAP\" mean cross validation score: 0.96 (+/- 0.02494438257849294)\n",
            "\n",
            "\t\"MDS\" cross validation score: [0.96666667 0.96666667 0.93333333 0.96666667 1.        ]\n",
            "\t\"MDS\" mean cross validation score: 0.9666666666666668 (+/- 0.02108185106778919)\n",
            "\n",
            "\t\"SE\" cross validation score: [0.9        0.93333333 0.86666667 0.93333333 1.        ]\n",
            "\t\"SE\" mean cross validation score: 0.9266666666666667 (+/- 0.04422166387140532)\n",
            "\n",
            "\t\"TSNE\" cross validation score: [0.96666667 1.         0.96666667 0.96666667 1.        ]\n",
            "\t\"TSNE\" mean cross validation score: 0.9800000000000001 (+/- 0.016329931618554516)\n",
            "\n",
            "Model: <SVM>\n",
            "\t\"LLE\" cross validation score: [0.93333333 1.         0.93333333 0.93333333 1.        ]\n",
            "\t\"LLE\" mean cross validation score: 0.96 (+/- 0.03265986323710904)\n",
            "\n",
            "\t\"LTSA\" cross validation score: [0.86666667 0.93333333 0.86666667 0.93333333 0.93333333]\n",
            "\t\"LTSA\" mean cross validation score: 0.9066666666666668 (+/- 0.03265986323710904)\n",
            "\n",
            "\t\"HLLE\" cross validation score: [0.83333333 0.9        0.83333333 0.9        0.9       ]\n",
            "\t\"HLLE\" mean cross validation score: 0.8733333333333334 (+/- 0.03265986323710904)\n",
            "\n",
            "\t\"MLLE\" cross validation score: [0.86666667 0.9        0.86666667 0.93333333 0.93333333]\n",
            "\t\"MLLE\" mean cross validation score: 0.9 (+/- 0.029814239699997188)\n",
            "\n",
            "\t\"ISOMAP\" cross validation score: [0.96666667 1.         0.9        0.9        1.        ]\n",
            "\t\"ISOMAP\" mean cross validation score: 0.9533333333333334 (+/- 0.04521553322083511)\n",
            "\n",
            "\t\"MDS\" cross validation score: [0.93333333 0.96666667 0.93333333 0.93333333 1.        ]\n",
            "\t\"MDS\" mean cross validation score: 0.9533333333333334 (+/- 0.02666666666666666)\n",
            "\n",
            "\t\"SE\" cross validation score: [0.93333333 0.9        0.86666667 0.96666667 0.9       ]\n",
            "\t\"SE\" mean cross validation score: 0.9133333333333334 (+/- 0.03399346342395189)\n",
            "\n",
            "\t\"TSNE\" cross validation score: [0.96666667 0.96666667 0.96666667 0.93333333 1.        ]\n",
            "\t\"TSNE\" mean cross validation score: 0.9666666666666666 (+/- 0.02108185106778919)\n",
            "\n",
            "Model: <Deicision Tree>\n",
            "\t\"LLE\" cross validation score: [0.9        0.9        0.83333333 0.93333333 1.        ]\n",
            "\t\"LLE\" mean cross validation score: 0.9133333333333333 (+/- 0.05416025603090639)\n",
            "\n",
            "\t\"LTSA\" cross validation score: [0.9        0.93333333 0.86666667 0.86666667 0.96666667]\n",
            "\t\"LTSA\" mean cross validation score: 0.9066666666666666 (+/- 0.038873012632301994)\n",
            "\n",
            "\t\"HLLE\" cross validation score: [0.9        0.93333333 0.9        0.93333333 1.        ]\n",
            "\t\"HLLE\" mean cross validation score: 0.9333333333333333 (+/- 0.036514837167011066)\n",
            "\n",
            "\t\"MLLE\" cross validation score: [0.86666667 0.93333333 0.9        0.9        0.96666667]\n",
            "\t\"MLLE\" mean cross validation score: 0.9133333333333333 (+/- 0.03399346342395189)\n",
            "\n",
            "\t\"ISOMAP\" cross validation score: [0.96666667 1.         0.83333333 0.93333333 0.96666667]\n",
            "\t\"ISOMAP\" mean cross validation score: 0.9400000000000001 (+/- 0.0573488351136175)\n",
            "\n",
            "\t\"MDS\" cross validation score: [0.96666667 0.9        0.93333333 0.96666667 1.        ]\n",
            "\t\"MDS\" mean cross validation score: 0.9533333333333334 (+/- 0.03399346342395189)\n",
            "\n",
            "\t\"SE\" cross validation score: [0.9        0.96666667 0.83333333 0.96666667 0.93333333]\n",
            "\t\"SE\" mean cross validation score: 0.9200000000000002 (+/- 0.04988876515698588)\n",
            "\n",
            "\t\"TSNE\" cross validation score: [0.96666667 0.96666667 0.9        0.93333333 0.96666667]\n",
            "\t\"TSNE\" mean cross validation score: 0.9466666666666667 (+/- 0.02666666666666666)\n",
            "\n",
            "Model: <Random Forest>\n",
            "\t\"LLE\" cross validation score: [0.9        0.93333333 0.9        0.93333333 1.        ]\n",
            "\t\"LLE\" mean cross validation score: 0.9333333333333333 (+/- 0.036514837167011066)\n",
            "\n",
            "\t\"LTSA\" cross validation score: [0.9        0.93333333 0.86666667 0.86666667 0.96666667]\n",
            "\t\"LTSA\" mean cross validation score: 0.9066666666666666 (+/- 0.038873012632301994)\n",
            "\n",
            "\t\"HLLE\" cross validation score: [0.8        0.93333333 0.9        0.9        1.        ]\n",
            "\t\"HLLE\" mean cross validation score: 0.9066666666666666 (+/- 0.06463573143221771)\n",
            "\n",
            "\t\"MLLE\" cross validation score: [0.9        0.93333333 0.86666667 0.9        0.96666667]\n",
            "\t\"MLLE\" mean cross validation score: 0.9133333333333333 (+/- 0.03399346342395189)\n",
            "\n",
            "\t\"ISOMAP\" cross validation score: [0.96666667 1.         0.9        0.93333333 0.96666667]\n",
            "\t\"ISOMAP\" mean cross validation score: 0.9533333333333334 (+/- 0.03399346342395189)\n",
            "\n",
            "\t\"MDS\" cross validation score: [0.96666667 0.9        0.96666667 0.96666667 1.        ]\n",
            "\t\"MDS\" mean cross validation score: 0.9600000000000002 (+/- 0.03265986323710903)\n",
            "\n",
            "\t\"SE\" cross validation score: [0.9        0.96666667 0.83333333 0.96666667 0.93333333]\n",
            "\t\"SE\" mean cross validation score: 0.9200000000000002 (+/- 0.04988876515698588)\n",
            "\n",
            "\t\"TSNE\" cross validation score: [0.96666667 0.96666667 0.93333333 0.96666667 0.96666667]\n",
            "\t\"TSNE\" mean cross validation score: 0.96 (+/- 0.01333333333333333)\n",
            "\n"
          ],
          "name": "stdout"
        }
      ]
    },
    {
      "cell_type": "markdown",
      "metadata": {
        "id": "gMfdFi6hNXwp"
      },
      "source": [
        "## 보스턴 주택 가격 데이터"
      ]
    },
    {
      "cell_type": "code",
      "metadata": {
        "id": "1bK_E9VhcQOe"
      },
      "source": [
        "raw_boston, target = datasets.load_boston(return_X_y=True)"
      ],
      "execution_count": null,
      "outputs": []
    },
    {
      "cell_type": "code",
      "metadata": {
        "id": "2i7CA6RDcQOo"
      },
      "source": [
        "boston_lle = manifold.LocallyLinearEmbedding(n_neighbors=30, n_components=2,\n",
        "                                             method='standard', random_state=0).fit_transform(raw_boston)\n",
        "boston_ltsa = manifold.LocallyLinearEmbedding(n_neighbors=30, n_components=2,\n",
        "                                              method='ltsa', random_state=0).fit_transform(raw_boston)\n",
        "boston_hlle = manifold.LocallyLinearEmbedding(n_neighbors=30, n_components=3,\n",
        "                                             method='hessian', random_state=0).fit_transform(raw_boston)\n",
        "boston_mlle = manifold.LocallyLinearEmbedding(n_neighbors=30, n_components=2,\n",
        "                                              method='modified', random_state=0).fit_transform(raw_boston)\n",
        "boston_isomap = manifold.Isomap(n_neighbors=30, n_components=2).fit_transform(raw_boston)\n",
        "boston_mds = manifold.MDS(n_components=2, random_state=0).fit_transform(raw_boston)\n",
        "boston_se = manifold.SpectralEmbedding(n_components=2, random_state=0).fit_transform(raw_boston)\n",
        "boston_tsne = manifold.TSNE(n_components=2, random_state=0).fit_transform(raw_boston)"
      ],
      "execution_count": null,
      "outputs": []
    },
    {
      "cell_type": "code",
      "metadata": {
        "id": "2kRiHeg4cQOv"
      },
      "source": [
        "boston_manifold = [boston_lle, boston_ltsa, boston_hlle, boston_mlle, boston_isomap, boston_mds, boston_se, boston_tsne]\n",
        "manifold_name = ['LLE', 'LTSA', 'HLLE', 'MLLE', 'ISOMAP', 'MDS', 'SE', 'TSNE']"
      ],
      "execution_count": null,
      "outputs": []
    },
    {
      "cell_type": "markdown",
      "metadata": {
        "id": "DbpjBjcvOXhB"
      },
      "source": [
        "### 원본 데이터를 사용할 때"
      ]
    },
    {
      "cell_type": "code",
      "metadata": {
        "id": "TnwJaF9Uc72a",
        "colab": {
          "base_uri": "https://localhost:8080/",
          "height": 316
        },
        "outputId": "d40b3324-e6f7-4d7a-ae30-886888087baa"
      },
      "source": [
        "i = 0\n",
        "\n",
        "for estimator in reg:\n",
        "  score = cross_val_score(\n",
        "      estimator=estimator,\n",
        "      X=raw_boston, y=target,\n",
        "      cv=5\n",
        "  )\n",
        "  print('Model: <{}>'.format(model_name[i]))\n",
        "  print('\\tcross validation score: {}'.format(score))\n",
        "  print('\\tmean cross validation score: {} (+/- {})\\n'.format(score.mean(), score.std()))\n",
        "  i += 1"
      ],
      "execution_count": null,
      "outputs": [
        {
          "output_type": "stream",
          "text": [
            "Model: <KNN>\n",
            "\tcross validation score: [-1.10921186  0.14934963 -0.4259195  -0.01474393 -0.17455668]\n",
            "\tmean cross validation score: -0.31501646812514134 (+/- 0.4401304871369981)\n",
            "\n",
            "Model: <SVM>\n",
            "\tcross validation score: [ 0.13724306  0.03198807 -0.64089321  0.0623277  -0.0422011 ]\n",
            "\tmean cross validation score: -0.09030709431523076 (+/- 0.2812443133954511)\n",
            "\n",
            "Model: <Deicision Tree>\n",
            "\tcross validation score: [ 0.61574863  0.4236546   0.65186834  0.37788644 -1.38989432]\n",
            "\tmean cross validation score: 0.13585273743576307 (+/- 0.7701800399340308)\n",
            "\n",
            "Model: <Random Forest>\n",
            "\tcross validation score: [0.76527122 0.86516139 0.77264733 0.47446146 0.3246172 ]\n",
            "\tmean cross validation score: 0.6404317209980646 (+/- 0.20535541236360355)\n",
            "\n"
          ],
          "name": "stdout"
        }
      ]
    },
    {
      "cell_type": "markdown",
      "metadata": {
        "id": "ISdHTPDYOXhj"
      },
      "source": [
        "### 정제된 데이터를 사용할 때"
      ]
    },
    {
      "cell_type": "code",
      "metadata": {
        "id": "NkHv5XGMdGdg",
        "colab": {
          "base_uri": "https://localhost:8080/",
          "height": 1000
        },
        "outputId": "66686fb3-7725-48b7-8350-9b7bbd36942b"
      },
      "source": [
        "i = 0\n",
        "\n",
        "for estimator in reg:\n",
        "  j = 0\n",
        "  print('Model: <{}>'.format(model_name[i]))\n",
        "  for X in boston_manifold:\n",
        "    score = cross_val_score(\n",
        "        estimator=estimator,\n",
        "        X=X, y=target,\n",
        "        cv=5\n",
        "    )\n",
        "    print('\\t\"{}\" cross validation score: {}'.format(manifold_name[j], score))\n",
        "    print('\\t\"{}\" mean cross validation score: {} (+/- {})\\n'.format(manifold_name[j], score.mean(), score.std()))\n",
        "    j += 1\n",
        "  i += 1"
      ],
      "execution_count": null,
      "outputs": [
        {
          "output_type": "stream",
          "text": [
            "Model: <KNN>\n",
            "\t\"LLE\" cross validation score: [-1.33881304 -0.33397386 -0.67191675 -0.04599274 -0.94195321]\n",
            "\t\"LLE\" mean cross validation score: -0.6665299225457146 (+/- 0.4524403877544172)\n",
            "\n",
            "\t\"LTSA\" cross validation score: [-0.74761053 -0.09704964 -0.42123471 -0.20145846 -1.50494999]\n",
            "\t\"LTSA\" mean cross validation score: -0.5944606660192052 (+/- 0.506817793527769)\n",
            "\n",
            "\t\"HLLE\" cross validation score: [-1.39277357 -0.17275698 -0.28470042 -0.15244171 -1.32658683]\n",
            "\t\"HLLE\" mean cross validation score: -0.6658518998653019 (+/- 0.5686817794091726)\n",
            "\n",
            "\t\"MLLE\" cross validation score: [-0.98937446 -0.36775715 -0.53000288 -0.15969615 -1.4852893 ]\n",
            "\t\"MLLE\" mean cross validation score: -0.7064239900222219 (+/- 0.4756938324782842)\n",
            "\n",
            "\t\"ISOMAP\" cross validation score: [-1.11293162 -0.17282115 -0.44728592 -0.16630727 -1.09683238]\n",
            "\t\"ISOMAP\" mean cross validation score: -0.599235666834885 (+/- 0.42516610531405896)\n",
            "\n",
            "\t\"MDS\" cross validation score: [-1.06990306 -0.11963214 -0.63416493 -0.14534954 -1.14649463]\n",
            "\t\"MDS\" mean cross validation score: -0.6231088587380069 (+/- 0.43713218263680476)\n",
            "\n",
            "\t\"SE\" cross validation score: [-1.32078006  0.00504469 -0.76294406 -0.20494969 -0.63949371]\n",
            "\t\"SE\" mean cross validation score: -0.5846245655802169 (+/- 0.46229778757298373)\n",
            "\n",
            "\t\"TSNE\" cross validation score: [-1.15635331  0.05859243 -0.48695104 -0.003338   -0.44055515]\n",
            "\t\"TSNE\" mean cross validation score: -0.4057210147754926 (+/- 0.43560524397718864)\n",
            "\n",
            "Model: <SVM>\n",
            "\t\"LLE\" cross validation score: [ 0.11052317 -0.0116871  -0.6748265   0.04490908 -0.45438443]\n",
            "\t\"LLE\" mean cross validation score: -0.19709315721370543 (+/- 0.31048228289326213)\n",
            "\n",
            "\t\"LTSA\" cross validation score: [ 0.03247338 -0.00164458 -0.73235438  0.03862293 -0.3705821 ]\n",
            "\t\"LTSA\" mean cross validation score: -0.20669694875512407 (+/- 0.30417259496984317)\n",
            "\n",
            "\t\"HLLE\" cross validation score: [-0.00476134 -0.04490735 -0.66973369  0.02603956 -0.64401275]\n",
            "\t\"HLLE\" mean cross validation score: -0.26747511191357665 (+/- 0.31884113773001826)\n",
            "\n",
            "\t\"MLLE\" cross validation score: [ 0.07441489  0.0038829  -0.73980602  0.04106558 -0.35006379]\n",
            "\t\"MLLE\" mean cross validation score: -0.19410128715274927 (+/- 0.31264039737554716)\n",
            "\n",
            "\t\"ISOMAP\" cross validation score: [ 0.0603178   0.023286   -0.63143202  0.04318653 -0.21756573]\n",
            "\t\"ISOMAP\" mean cross validation score: -0.14444148514459304 (+/- 0.2637309546946384)\n",
            "\n",
            "\t\"MDS\" cross validation score: [ 0.11746622 -0.02765814 -0.725745    0.03394696 -0.73360375]\n",
            "\t\"MDS\" mean cross validation score: -0.2671187429745635 (+/- 0.38048228253494526)\n",
            "\n",
            "\t\"SE\" cross validation score: [-0.08624817 -0.01479078 -0.68433192  0.03107195 -0.05637733]\n",
            "\t\"SE\" mean cross validation score: -0.16213524980349514 (+/- 0.26407285525459007)\n",
            "\n",
            "\t\"TSNE\" cross validation score: [ 0.09765888  0.01334722 -0.61677937  0.047884   -0.4720047 ]\n",
            "\t\"TSNE\" mean cross validation score: -0.18597879424933064 (+/- 0.2974131628432167)\n",
            "\n",
            "Model: <Deicision Tree>\n",
            "\t\"LLE\" cross validation score: [-1.69390428 -0.34284683 -0.68509511 -0.07611816 -4.84973673]\n",
            "\t\"LLE\" mean cross validation score: -1.5295402217210181 (+/- 1.748398398436493)\n",
            "\n",
            "\t\"LTSA\" cross validation score: [-2.48366978  0.02260452 -0.73545729 -0.55956548 -7.37702855]\n",
            "\t\"LTSA\" mean cross validation score: -2.2266233157935043 (+/- 2.7075609222390997)\n",
            "\n",
            "\t\"HLLE\" cross validation score: [-3.34567475 -0.12362192 -0.2240766  -0.44181832 -7.59497956]\n",
            "\t\"HLLE\" mean cross validation score: -2.3460342278050397 (+/- 2.885084648444679)\n",
            "\n",
            "\t\"MLLE\" cross validation score: [-2.33849819 -0.75328165 -0.75555914 -0.83979788 -4.49589264]\n",
            "\t\"MLLE\" mean cross validation score: -1.8366059001173887 (+/- 1.460108320947236)\n",
            "\n",
            "\t\"ISOMAP\" cross validation score: [-1.64002347 -0.02840088 -0.57590967 -0.34140965 -0.81253584]\n",
            "\t\"ISOMAP\" mean cross validation score: -0.6796559024351085 (+/- 0.5457599917020117)\n",
            "\n",
            "\t\"MDS\" cross validation score: [-1.21347083 -0.55179519 -0.76346884 -1.03171907 -3.37879363]\n",
            "\t\"MDS\" mean cross validation score: -1.387849512234784 (+/- 1.0207774847668767)\n",
            "\n",
            "\t\"SE\" cross validation score: [-3.65188482 -0.1635764  -0.37826496 -0.73086897 -5.8372061 ]\n",
            "\t\"SE\" mean cross validation score: -2.1523602515295472 (+/- 2.233829698139446)\n",
            "\n",
            "\t\"TSNE\" cross validation score: [-0.69639673 -0.05001548 -0.7404877  -0.33608281 -2.57779416]\n",
            "\t\"TSNE\" mean cross validation score: -0.8801553757098357 (+/- 0.8854828016591064)\n",
            "\n",
            "Model: <Random Forest>\n",
            "\t\"LLE\" cross validation score: [-1.35345057 -0.36077439 -0.55005989 -0.05841412 -2.43498976]\n",
            "\t\"LLE\" mean cross validation score: -0.9515377469819484 (+/- 0.8567402673150766)\n",
            "\n",
            "\t\"LTSA\" cross validation score: [-1.72188163  0.10983776 -0.40439635 -0.39248843 -2.5789146 ]\n",
            "\t\"LTSA\" mean cross validation score: -0.9975686512904156 (+/- 0.996956237361774)\n",
            "\n",
            "\t\"HLLE\" cross validation score: [-1.57754518 -0.03030665 -0.15554176 -0.19794121 -1.43867571]\n",
            "\t\"HLLE\" mean cross validation score: -0.6800021005643329 (+/- 0.6798109673097918)\n",
            "\n",
            "\t\"MLLE\" cross validation score: [-1.26321968 -0.46284618 -0.55974816 -0.31682459 -2.43898819]\n",
            "\t\"MLLE\" mean cross validation score: -1.0083253603982751 (+/- 0.7859655984431364)\n",
            "\n",
            "\t\"ISOMAP\" cross validation score: [-1.17054815 -0.14789816 -0.26972406 -0.22728388 -1.11695339]\n",
            "\t\"ISOMAP\" mean cross validation score: -0.5864815302408728 (+/- 0.4570006201895401)\n",
            "\n",
            "\t\"MDS\" cross validation score: [-0.54722845 -0.21916333 -0.55518746 -0.19317613 -1.81455134]\n",
            "\t\"MDS\" mean cross validation score: -0.6658613405779525 (+/- 0.5947741756734705)\n",
            "\n",
            "\t\"SE\" cross validation score: [-2.07846481  0.01185078 -0.5304345  -0.37118635 -2.11250483]\n",
            "\t\"SE\" mean cross validation score: -1.0161479431760259 (+/- 0.8987980772133304)\n",
            "\n",
            "\t\"TSNE\" cross validation score: [-1.19222101  0.11772834 -0.57153866 -0.11278147 -1.29254961]\n",
            "\t\"TSNE\" mean cross validation score: -0.6102724825744458 (+/- 0.5626986697097895)\n",
            "\n"
          ],
          "name": "stdout"
        }
      ]
    },
    {
      "cell_type": "markdown",
      "metadata": {
        "id": "na5jGBSGNZa7"
      },
      "source": [
        "## 당뇨병 데이터"
      ]
    },
    {
      "cell_type": "code",
      "metadata": {
        "id": "i7BetQeCeGJZ"
      },
      "source": [
        "raw_diabetes, target = datasets.load_diabetes(return_X_y=True)"
      ],
      "execution_count": null,
      "outputs": []
    },
    {
      "cell_type": "code",
      "metadata": {
        "id": "aHCpDGAZeGJe"
      },
      "source": [
        "diabetes_lle = manifold.LocallyLinearEmbedding(n_neighbors=30, n_components=2,\n",
        "                                             method='standard', random_state=0).fit_transform(raw_diabetes)\n",
        "diabetes_ltsa = manifold.LocallyLinearEmbedding(n_neighbors=30, n_components=2,\n",
        "                                              method='ltsa', random_state=0).fit_transform(raw_diabetes)\n",
        "diabetes_hlle = manifold.LocallyLinearEmbedding(n_neighbors=30, n_components=3,\n",
        "                                             method='hessian', random_state=0).fit_transform(raw_diabetes)\n",
        "diabetes_mlle = manifold.LocallyLinearEmbedding(n_neighbors=30, n_components=2,\n",
        "                                              method='modified', random_state=0).fit_transform(raw_diabetes)\n",
        "diabetes_isomap = manifold.Isomap(n_neighbors=30, n_components=2).fit_transform(raw_diabetes)\n",
        "diabetes_mds = manifold.MDS(n_components=2, random_state=0).fit_transform(raw_diabetes)\n",
        "diabetes_se = manifold.SpectralEmbedding(n_components=2, random_state=0).fit_transform(raw_diabetes)\n",
        "diabetes_tsne = manifold.TSNE(n_components=2, random_state=0).fit_transform(raw_diabetes)"
      ],
      "execution_count": null,
      "outputs": []
    },
    {
      "cell_type": "code",
      "metadata": {
        "id": "9MtnaB89eGJl"
      },
      "source": [
        "diabetes_manifold = [diabetes_lle, diabetes_ltsa, diabetes_hlle, diabetes_mlle, diabetes_isomap, diabetes_mds, diabetes_se, diabetes_tsne]\n",
        "manifold_name = ['LLE', 'LTSA', 'HLLE', 'MLLE', 'ISOMAP', 'MDS', 'SE', 'TSNE']"
      ],
      "execution_count": null,
      "outputs": []
    },
    {
      "cell_type": "markdown",
      "metadata": {
        "id": "ZTH7dOQFOZfr"
      },
      "source": [
        "### 원본 데이터를 사용할 때"
      ]
    },
    {
      "cell_type": "code",
      "metadata": {
        "id": "JfdkFYl9ebjh",
        "colab": {
          "base_uri": "https://localhost:8080/",
          "height": 316
        },
        "outputId": "7dbca551-1470-4bc0-be95-e12039f3ea02"
      },
      "source": [
        "i = 0\n",
        "\n",
        "for estimator in reg:\n",
        "  score = cross_val_score(\n",
        "      estimator=estimator,\n",
        "      X=raw_diabetes, y=target,\n",
        "      cv=5\n",
        "  )\n",
        "  print('Model: <{}>'.format(model_name[i]))\n",
        "  print('\\tcross validation score: {}'.format(score))\n",
        "  print('\\tmean cross validation score: {} (+/- {})\\n'.format(score.mean(), score.std()))\n",
        "  i += 1"
      ],
      "execution_count": null,
      "outputs": [
        {
          "output_type": "stream",
          "text": [
            "Model: <KNN>\n",
            "\tcross validation score: [0.35008817 0.36602995 0.43172985 0.3231243  0.41156846]\n",
            "\tmean cross validation score: 0.37650814581101094 (+/- 0.03984044198258091)\n",
            "\n",
            "Model: <SVM>\n",
            "\tcross validation score: [0.14739166 0.12560752 0.18203803 0.12242334 0.15658678]\n",
            "\tmean cross validation score: 0.14680946577304238 (+/- 0.021822887398936373)\n",
            "\n",
            "Model: <Deicision Tree>\n",
            "\tcross validation score: [-0.25749649 -0.10437255 -0.16869476  0.07708638 -0.20128903]\n",
            "\tmean cross validation score: -0.13095329013801638 (+/- 0.11521436991400158)\n",
            "\n",
            "Model: <Random Forest>\n",
            "\tcross validation score: [0.37144264 0.50076574 0.42056336 0.36995856 0.41943073]\n",
            "\tmean cross validation score: 0.4164322067979077 (+/- 0.04758584250214636)\n",
            "\n"
          ],
          "name": "stdout"
        }
      ]
    },
    {
      "cell_type": "markdown",
      "metadata": {
        "id": "ih_8utbQOZgD"
      },
      "source": [
        "### 정제된 데이터를 사용할 때"
      ]
    },
    {
      "cell_type": "code",
      "metadata": {
        "id": "e-E1B8E6eeyC",
        "colab": {
          "base_uri": "https://localhost:8080/",
          "height": 1000
        },
        "outputId": "988945d6-c006-4b78-bbf5-141908dffcf2"
      },
      "source": [
        "i = 0\n",
        "\n",
        "for estimator in reg:\n",
        "  j = 0\n",
        "  print('Model: <{}>'.format(model_name[i]))\n",
        "  for X in diabetes_manifold:\n",
        "    score = cross_val_score(\n",
        "        estimator=estimator,\n",
        "        X=X, y=target,\n",
        "        cv=5\n",
        "    )\n",
        "    print('\\t\"{}\" cross validation score: {}'.format(manifold_name[j], score))\n",
        "    print('\\t\"{}\" mean cross validation score: {} (+/- {})\\n'.format(manifold_name[j], score.mean(), score.std()))\n",
        "    j += 1\n",
        "  i += 1"
      ],
      "execution_count": null,
      "outputs": [
        {
          "output_type": "stream",
          "text": [
            "Model: <KNN>\n",
            "\t\"LLE\" cross validation score: [0.12113113 0.46765251 0.38218372 0.41437627 0.31859728]\n",
            "\t\"LLE\" mean cross validation score: 0.34078818130085214 (+/- 0.11997083792822473)\n",
            "\n",
            "\t\"LTSA\" cross validation score: [-0.07886348  0.13720927  0.15650032  0.18060403  0.28470378]\n",
            "\t\"LTSA\" mean cross validation score: 0.13603078657060633 (+/- 0.11890363216190929)\n",
            "\n",
            "\t\"HLLE\" cross validation score: [-0.15261761  0.35882038  0.25926034  0.2493607   0.33063481]\n",
            "\t\"HLLE\" mean cross validation score: 0.20909172269433193 (+/- 0.1855605098190248)\n",
            "\n",
            "\t\"MLLE\" cross validation score: [0.17675756 0.23721264 0.20312755 0.28434557 0.11342527]\n",
            "\t\"MLLE\" mean cross validation score: 0.2029737171533541 (+/- 0.057445483274801645)\n",
            "\n",
            "\t\"ISOMAP\" cross validation score: [0.12679091 0.343113   0.35926966 0.27281668 0.13077716]\n",
            "\t\"ISOMAP\" mean cross validation score: 0.24655348345297412 (+/- 0.10046458536676843)\n",
            "\n",
            "\t\"MDS\" cross validation score: [-0.00626013  0.28584868  0.28430492  0.25653428  0.32580058]\n",
            "\t\"MDS\" mean cross validation score: 0.22924566755614997 (+/- 0.1198047758520727)\n",
            "\n",
            "\t\"SE\" cross validation score: [0.17323003 0.27818233 0.25842207 0.26192426 0.24037016]\n",
            "\t\"SE\" mean cross validation score: 0.24242577203156013 (+/- 0.03662480147265273)\n",
            "\n",
            "\t\"TSNE\" cross validation score: [0.2796013  0.39973792 0.46485729 0.36686735 0.36068645]\n",
            "\t\"TSNE\" mean cross validation score: 0.37435006192650616 (+/- 0.060093452315584585)\n",
            "\n",
            "Model: <SVM>\n",
            "\t\"LLE\" cross validation score: [0.16955733 0.23210376 0.26413373 0.25454355 0.24499943]\n",
            "\t\"LLE\" mean cross validation score: 0.23306756212920005 (+/- 0.03347588106899509)\n",
            "\n",
            "\t\"LTSA\" cross validation score: [0.09357058 0.17471595 0.22025414 0.22110544 0.21075733]\n",
            "\t\"LTSA\" mean cross validation score: 0.1840806871113845 (+/- 0.04831308696380177)\n",
            "\n",
            "\t\"HLLE\" cross validation score: [0.09646548 0.16642453 0.2207195  0.2164156  0.19653567]\n",
            "\t\"HLLE\" mean cross validation score: 0.1793121548525376 (+/- 0.045645471666353306)\n",
            "\n",
            "\t\"MLLE\" cross validation score: [0.07020549 0.13732845 0.19203262 0.1627565  0.16287372]\n",
            "\t\"MLLE\" mean cross validation score: 0.14503935601946846 (+/- 0.04123079974699876)\n",
            "\n",
            "\t\"ISOMAP\" cross validation score: [0.10471146 0.16755385 0.21207584 0.20305237 0.18841139]\n",
            "\t\"ISOMAP\" mean cross validation score: 0.17516098369640565 (+/- 0.03830721290399691)\n",
            "\n",
            "\t\"MDS\" cross validation score: [0.09422183 0.1338883  0.20097012 0.1609378  0.17242186]\n",
            "\t\"MDS\" mean cross validation score: 0.15248798562583293 (+/- 0.03622200712307973)\n",
            "\n",
            "\t\"SE\" cross validation score: [0.13576986 0.20877266 0.23219163 0.23421912 0.21344397]\n",
            "\t\"SE\" mean cross validation score: 0.20487944738070812 (+/- 0.035976142302823796)\n",
            "\n",
            "\t\"TSNE\" cross validation score: [0.15080637 0.1866549  0.21596076 0.21027388 0.20521911]\n",
            "\t\"TSNE\" mean cross validation score: 0.19378300185137026 (+/- 0.023632128382475165)\n",
            "\n",
            "Model: <Deicision Tree>\n",
            "\t\"LLE\" cross validation score: [-0.3046559   0.12929066  0.26077172 -0.24400767 -0.25154169]\n",
            "\t\"LLE\" mean cross validation score: -0.08202857584744545 (+/- 0.23095571393901387)\n",
            "\n",
            "\t\"LTSA\" cross validation score: [-0.67485053 -0.53922426 -0.35812911 -0.44137307 -0.34878934]\n",
            "\t\"LTSA\" mean cross validation score: -0.4724732635285417 (+/- 0.12227164255674618)\n",
            "\n",
            "\t\"HLLE\" cross validation score: [-0.99108184 -0.35148824 -0.14418842 -0.25998223  0.11198978]\n",
            "\t\"HLLE\" mean cross validation score: -0.32695018979898194 (+/- 0.3666681970331268)\n",
            "\n",
            "\t\"MLLE\" cross validation score: [-0.49920054 -0.42082621 -0.21419227 -0.10102725 -0.67444736]\n",
            "\t\"MLLE\" mean cross validation score: -0.38193872370838405 (+/- 0.20389899618566582)\n",
            "\n",
            "\t\"ISOMAP\" cross validation score: [-0.10819066 -0.0854973  -0.03526167 -0.17058102 -0.16254451]\n",
            "\t\"ISOMAP\" mean cross validation score: -0.11241502960533359 (+/- 0.05018226207349306)\n",
            "\n",
            "\t\"MDS\" cross validation score: [-0.20809601  0.09467658 -0.36226162 -0.34381022 -0.34660643]\n",
            "\t\"MDS\" mean cross validation score: -0.23321953923494582 (+/- 0.1731391334535634)\n",
            "\n",
            "\t\"SE\" cross validation score: [-0.43251243 -0.21765952 -0.27295701 -0.35410541 -0.45458074]\n",
            "\t\"SE\" mean cross validation score: -0.3463630205328653 (+/- 0.09071469026415205)\n",
            "\n",
            "\t\"TSNE\" cross validation score: [-0.43903737 -0.03844729 -0.25031175 -0.1522563   0.0116706 ]\n",
            "\t\"TSNE\" mean cross validation score: -0.17367642281653634 (+/- 0.16086557293258835)\n",
            "\n",
            "Model: <Random Forest>\n",
            "\t\"LLE\" cross validation score: [0.1129439  0.39380227 0.37013314 0.4568926  0.24978488]\n",
            "\t\"LLE\" mean cross validation score: 0.31671135921034976 (+/- 0.12202295687774917)\n",
            "\n",
            "\t\"LTSA\" cross validation score: [-0.1517583   0.12234881  0.20835427  0.25319218  0.01301019]\n",
            "\t\"LTSA\" mean cross validation score: 0.08902942772957949 (+/- 0.14564042254378745)\n",
            "\n",
            "\t\"HLLE\" cross validation score: [-0.15713483  0.29426646  0.33615962  0.30502399  0.29152967]\n",
            "\t\"HLLE\" mean cross validation score: 0.21396898318885066 (+/- 0.1862272547756069)\n",
            "\n",
            "\t\"MLLE\" cross validation score: [0.0980107  0.20826083 0.30259355 0.33119352 0.0098676 ]\n",
            "\t\"MLLE\" mean cross validation score: 0.18998523896919756 (+/- 0.12153689736798995)\n",
            "\n",
            "\t\"ISOMAP\" cross validation score: [0.13300818 0.36722987 0.33127    0.39516577 0.13454457]\n",
            "\t\"ISOMAP\" mean cross validation score: 0.272243677122135 (+/- 0.1148598195551085)\n",
            "\n",
            "\t\"MDS\" cross validation score: [0.0482711  0.30286312 0.29588702 0.16011833 0.21547082]\n",
            "\t\"MDS\" mean cross validation score: 0.20452207622445756 (+/- 0.09436572203627795)\n",
            "\n",
            "\t\"SE\" cross validation score: [0.10652471 0.1283457  0.20480777 0.20395177 0.11403559]\n",
            "\t\"SE\" mean cross validation score: 0.1515331083588493 (+/- 0.04371585826695551)\n",
            "\n",
            "\t\"TSNE\" cross validation score: [0.29284812 0.4592232  0.34857938 0.38795979 0.31940671]\n",
            "\t\"TSNE\" mean cross validation score: 0.3616034385370973 (+/- 0.05814079227142489)\n",
            "\n"
          ],
          "name": "stdout"
        }
      ]
    }
  ]
}